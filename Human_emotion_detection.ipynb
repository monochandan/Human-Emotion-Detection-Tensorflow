{
 "cells": [
  {
   "cell_type": "markdown",
   "metadata": {
    "id": "ISiJSeRCPIuB"
   },
   "source": [
    "# HUMAN EMOTION DETECTION\n",
    "Dataset: https://www.kaggle.com/datasets/muhammadhananasghar/human-emotions-datasethes"
   ]
  },
  {
   "cell_type": "markdown",
   "metadata": {
    "id": "R2hyXKWMRuCV"
   },
   "source": [
    "[Convolution Visualizer](https://ezyang.github.io/convolution-visualizer/)"
   ]
  },
  {
   "cell_type": "markdown",
   "metadata": {
    "id": "ffzcKwDCQ4zx"
   },
   "source": [
    "# Libraries"
   ]
  },
  {
   "cell_type": "code",
   "execution_count": null,
   "metadata": {
    "executionInfo": {
     "elapsed": 25537,
     "status": "ok",
     "timestamp": 1753376553685,
     "user": {
      "displayName": "monotosh kumar das chandan",
      "userId": "10884027464549225371"
     },
     "user_tz": -120
    },
    "id": "a9FOvEPRPA0n"
   },
   "outputs": [],
   "source": [
    "import tensorflow as tf\n",
    "\n",
    "import numpy as np### math\n",
    "import matplotlib.pyplot as plt### plotting bar chart\n",
    "import sklearn### machine learning\n",
    "import cv2## image processing\n",
    "from sklearn.metrics import confusion_matrix, roc_curve### metrics\n",
    "import seaborn as sns### visualizations\n",
    "import datetime\n",
    "import pathlib\n",
    "import io\n",
    "import os\n",
    "import time\n",
    "import random\n",
    "from google.colab import files\n",
    "from PIL import Image\n",
    "import albumentations as A\n",
    "import tensorflow_datasets as tfds\n",
    "import tensorflow_probability as tfp\n",
    "import matplotlib.cm as cm\n",
    "from tensorflow.keras.models import Model\n",
    "from tensorflow.keras.layers import Layer\n",
    "from tensorflow.keras.layers import (GlobalAveragePooling2D, Activation, MaxPooling2D, Add, Conv2D, MaxPool2D, Dense,\n",
    "                                     Flatten, InputLayer, BatchNormalization, Input, Embedding, Permute,\n",
    "                                     Dropout, RandomFlip, RandomRotation, LayerNormalization, MultiHeadAttention,\n",
    "                                     RandomContrast, Rescaling, Resizing, Reshape)\n",
    "from tensorflow.keras.losses import BinaryCrossentropy,CategoricalCrossentropy, SparseCategoricalCrossentropy\n",
    "from tensorflow.keras.metrics import Accuracy,TopKCategoricalAccuracy, CategoricalAccuracy, SparseCategoricalAccuracy\n",
    "from tensorflow.keras.optimizers import Adam\n",
    "from tensorflow.keras.callbacks import (Callback, CSVLogger, EarlyStopping, LearningRateScheduler,\n",
    "                                        ModelCheckpoint, ReduceLROnPlateau)\n",
    "from tensorflow.keras.regularizers  import L2, L1\n",
    "from tensorflow.train import BytesList, FloatList, Int64List\n",
    "from tensorflow.train import Example, Features, Feature\n",
    "from google.colab import drive\n",
    "\n",
    "import wandb\n",
    "from wandb.integration.keras import WandbCallback, WandbMetricsLogger, WandbModelCheckpoint,WandbEvalCallback"
   ]
  },
  {
   "cell_type": "markdown",
   "metadata": {
    "id": "zLmW0LhCZc7M"
   },
   "source": [
    "# WANDB"
   ]
  },
  {
   "cell_type": "code",
   "execution_count": null,
   "metadata": {
    "executionInfo": {
     "elapsed": 10,
     "status": "ok",
     "timestamp": 1753265675175,
     "user": {
      "displayName": "monotosh kumar das chandan",
      "userId": "10884027464549225371"
     },
     "user_tz": -120
    },
    "id": "B0Gec4gsZfJU"
   },
   "outputs": [],
   "source": [
    "# !pip install --upgrade wandb"
   ]
  },
  {
   "cell_type": "code",
   "execution_count": null,
   "metadata": {
    "colab": {
     "base_uri": "https://localhost:8080/"
    },
    "executionInfo": {
     "elapsed": 10217,
     "status": "ok",
     "timestamp": 1753376568469,
     "user": {
      "displayName": "monotosh kumar das chandan",
      "userId": "10884027464549225371"
     },
     "user_tz": -120
    },
    "id": "3Q0ix2-SZfN2",
    "outputId": "23fefbd0-eceb-465f-a1ee-68f40295da88"
   },
   "outputs": [],
   "source": [
    "!wandb login"
   ]
  },
  {
   "cell_type": "code",
   "execution_count": null,
   "metadata": {
    "executionInfo": {
     "elapsed": 24,
     "status": "ok",
     "timestamp": 1753376575168,
     "user": {
      "displayName": "monotosh kumar das chandan",
      "userId": "10884027464549225371"
     },
     "user_tz": -120
    },
    "id": "bITvd4FyZfSP"
   },
   "outputs": [],
   "source": [
    "wandb.config = {\n",
    "  \"LEARNING_RATE\": 0.001,\n",
    "  \"N_EPOCHS\": 3,\n",
    "  \"BATCH_SIZE\": 32,\n",
    "  \"DROPOUT_RATE\": 0.0,\n",
    "  \"IM_SIZE\": 256,\n",
    "  \"REGULARIZATION_RATE\": 0.0,\n",
    "  \"N_FILTERS\": 6,\n",
    "  \"KERNEL_SIZE\": 3,\n",
    "  \"N_STRIDES\": 1,\n",
    "  \"POOL_SIZE\": 2,\n",
    "  \"N_DENSE_1\": 100,\n",
    "  \"N_DENSE_2\": 10,\n",
    "  \"CLASS_NAMES\": [\"angry\", \"happy\", \"sad\"],\n",
    "  \"NUM_CLASSES\": 3,\n",
    "}\n",
    "CONFIGURATION = wandb.config"
   ]
  },
  {
   "cell_type": "code",
   "execution_count": null,
   "metadata": {
    "executionInfo": {
     "elapsed": 3,
     "status": "ok",
     "timestamp": 1753266333709,
     "user": {
      "displayName": "monotosh kumar das chandan",
      "userId": "10884027464549225371"
     },
     "user_tz": -120
    },
    "id": "XM3hfVIQZfa3"
   },
   "outputs": [],
   "source": []
  },
  {
   "cell_type": "markdown",
   "metadata": {
    "id": "AJkcknHyRIJh"
   },
   "source": [
    "# Data Downloading from Kaggle"
   ]
  },
  {
   "cell_type": "code",
   "execution_count": null,
   "metadata": {
    "executionInfo": {
     "elapsed": 7549,
     "status": "ok",
     "timestamp": 1753303120150,
     "user": {
      "displayName": "monotosh kumar das chandan",
      "userId": "10884027464549225371"
     },
     "user_tz": -120
    },
    "id": "gz_XtnxzRFpk"
   },
   "outputs": [],
   "source": [
    "!pip install -q kaggle"
   ]
  },
  {
   "cell_type": "markdown",
   "metadata": {
    "id": "T7LeOFylRbbH"
   },
   "source": [
    "## Make directory"
   ]
  },
  {
   "cell_type": "code",
   "execution_count": null,
   "metadata": {
    "executionInfo": {
     "elapsed": 149,
     "status": "ok",
     "timestamp": 1753376579875,
     "user": {
      "displayName": "monotosh kumar das chandan",
      "userId": "10884027464549225371"
     },
     "user_tz": -120
    },
    "id": "DobOqChaRF0D"
   },
   "outputs": [],
   "source": [
    "! mkdir ~/.kaggle\n",
    "! cp kaggle.json ~/.kaggle/"
   ]
  },
  {
   "cell_type": "markdown",
   "metadata": {
    "id": "3df64-OMRpgq"
   },
   "source": [
    "## full right to user to read and write"
   ]
  },
  {
   "cell_type": "code",
   "execution_count": null,
   "metadata": {
    "id": "NbIweeLP0g9q"
   },
   "outputs": [],
   "source": []
  },
  {
   "cell_type": "code",
   "execution_count": null,
   "metadata": {
    "executionInfo": {
     "elapsed": 138,
     "status": "ok",
     "timestamp": 1753376582912,
     "user": {
      "displayName": "monotosh kumar das chandan",
      "userId": "10884027464549225371"
     },
     "user_tz": -120
    },
    "id": "RZBYb_oZRF2k"
   },
   "outputs": [],
   "source": [
    "!chmod 600 /root/.kaggle/kaggle.json"
   ]
  },
  {
   "cell_type": "markdown",
   "metadata": {
    "id": "xphniFPBTHCi"
   },
   "source": [
    "## Download the dataset"
   ]
  },
  {
   "cell_type": "code",
   "execution_count": null,
   "metadata": {
    "colab": {
     "base_uri": "https://localhost:8080/"
    },
    "executionInfo": {
     "elapsed": 8838,
     "status": "ok",
     "timestamp": 1753376597716,
     "user": {
      "displayName": "monotosh kumar das chandan",
      "userId": "10884027464549225371"
     },
     "user_tz": -120
    },
    "id": "qf1KFOUdRF4r",
    "outputId": "d00ccd3d-5c8a-4b7e-c653-91754436220c"
   },
   "outputs": [],
   "source": [
    "!kaggle datasets download -d muhammadhananasghar/human-emotions-datasethes"
   ]
  },
  {
   "cell_type": "markdown",
   "metadata": {
    "id": "GHBPbSzNTMcL"
   },
   "source": [
    "## Unzip into specific folder"
   ]
  },
  {
   "cell_type": "code",
   "execution_count": null,
   "metadata": {
    "executionInfo": {
     "elapsed": 70,
     "status": "ok",
     "timestamp": 1753266340811,
     "user": {
      "displayName": "monotosh kumar das chandan",
      "userId": "10884027464549225371"
     },
     "user_tz": -120
    },
    "id": "ZlJ3bt-mTSvj"
   },
   "outputs": [],
   "source": [
    "# /content/human-emotions-datasethes.zip"
   ]
  },
  {
   "cell_type": "code",
   "execution_count": null,
   "metadata": {
    "colab": {
     "base_uri": "https://localhost:8080/"
    },
    "collapsed": true,
    "executionInfo": {
     "elapsed": 9071,
     "status": "ok",
     "timestamp": 1753376609564,
     "user": {
      "displayName": "monotosh kumar das chandan",
      "userId": "10884027464549225371"
     },
     "user_tz": -120
    },
    "id": "YIrzgoCmRF61",
    "outputId": "47619f12-33c2-4d40-f1ea-6a15e1b6ba89"
   },
   "outputs": [],
   "source": [
    "!unzip /content/human-emotions-datasethes.zip -d /content/dataset"
   ]
  },
  {
   "cell_type": "markdown",
   "metadata": {
    "id": "fgJTeX9iTjYN"
   },
   "source": [
    "## create tf dataset from the images of this directory\n",
    "\n",
    "- https://www.tensorflow.org/api_docs/python/tf/keras/preprocessing/image_dataset_from_directory"
   ]
  },
  {
   "cell_type": "code",
   "execution_count": null,
   "metadata": {
    "executionInfo": {
     "elapsed": 5,
     "status": "ok",
     "timestamp": 1753376615776,
     "user": {
      "displayName": "monotosh kumar das chandan",
      "userId": "10884027464549225371"
     },
     "user_tz": -120
    },
    "id": "SBIsdf_ZVDfE"
   },
   "outputs": [],
   "source": [
    "train_directory = \"/content/dataset/Emotions Dataset/Emotions Dataset/train\"\n",
    "val_directory = \"/content/dataset/Emotions Dataset/Emotions Dataset/test\""
   ]
  },
  {
   "cell_type": "code",
   "execution_count": null,
   "metadata": {
    "executionInfo": {
     "elapsed": 76,
     "status": "ok",
     "timestamp": 1753376617451,
     "user": {
      "displayName": "monotosh kumar das chandan",
      "userId": "10884027464549225371"
     },
     "user_tz": -120
    },
    "id": "D7SyeHIKXroS"
   },
   "outputs": [],
   "source": [
    "CLASS_NAMES = [\"angry\", \"happy\", \"sad\"] # should be same name as in the directory [/content/dataset/Emotions Dataset/Emotions Dataset/test]"
   ]
  },
  {
   "cell_type": "code",
   "execution_count": null,
   "metadata": {
    "colab": {
     "base_uri": "https://localhost:8080/"
    },
    "executionInfo": {
     "elapsed": 88,
     "status": "ok",
     "timestamp": 1753376703181,
     "user": {
      "displayName": "monotosh kumar das chandan",
      "userId": "10884027464549225371"
     },
     "user_tz": -120
    },
    "id": "BXODWy9LRF85",
    "outputId": "65188493-57bf-4aeb-8c42-f5eec7ea364e"
   },
   "outputs": [],
   "source": [
    "train_dataset = tf.keras.preprocessing.image_dataset_from_directory(\n",
    "    train_directory,\n",
    "    labels='inferred',\n",
    "    label_mode='categorical',\n",
    "    class_names=CLASS_NAMES,\n",
    "    color_mode='rgb',\n",
    "    batch_size=CONFIGURATION['BATCH_SIZE'],\n",
    "    image_size=(CONFIGURATION['IM_SIZE'], CONFIGURATION['IM_SIZE']),\n",
    "    shuffle=True,\n",
    "    seed=42,\n",
    "    # validation_split=0.2,\n",
    "    # subset=\"training\",\n",
    "    # interpolation='bilinear',\n",
    "    # follow_links=False,\n",
    "    # crop_to_aspect_ratio=False,\n",
    "    # pad_to_aspect_ratio=False,\n",
    "    # data_format=None,\n",
    "    # verbose=True\n",
    ")"
   ]
  },
  {
   "cell_type": "code",
   "execution_count": null,
   "metadata": {
    "colab": {
     "base_uri": "https://localhost:8080/"
    },
    "executionInfo": {
     "elapsed": 54,
     "status": "ok",
     "timestamp": 1753376705768,
     "user": {
      "displayName": "monotosh kumar das chandan",
      "userId": "10884027464549225371"
     },
     "user_tz": -120
    },
    "id": "FkKXgDF-RF_L",
    "outputId": "983a96cd-985d-40b5-d682-30dbff3f3888"
   },
   "outputs": [],
   "source": [
    "train_dataset"
   ]
  },
  {
   "cell_type": "code",
   "execution_count": null,
   "metadata": {
    "colab": {
     "base_uri": "https://localhost:8080/"
    },
    "executionInfo": {
     "elapsed": 57,
     "status": "ok",
     "timestamp": 1753376708365,
     "user": {
      "displayName": "monotosh kumar das chandan",
      "userId": "10884027464549225371"
     },
     "user_tz": -120
    },
    "id": "HyuJPfT4RGA7",
    "outputId": "b1da1536-d5dc-4c2a-cd47-d496f8b801d4"
   },
   "outputs": [],
   "source": [
    "val_dataset = tf.keras.preprocessing.image_dataset_from_directory(\n",
    "    val_directory,\n",
    "    labels='inferred',\n",
    "    label_mode='categorical',\n",
    "    class_names=CLASS_NAMES,\n",
    "    color_mode='rgb',\n",
    "    batch_size=CONFIGURATION['BATCH_SIZE'],\n",
    "    image_size=(CONFIGURATION['IM_SIZE'], CONFIGURATION['IM_SIZE']),\n",
    "    shuffle=True,\n",
    "    seed=42,\n",
    "    # validation_split=0.2,\n",
    "    # subset=\"training\",\n",
    "    # interpolation='bilinear',\n",
    "    # follow_links=False,\n",
    "    # crop_to_aspect_ratio=False,\n",
    "    # pad_to_aspect_ratio=False,\n",
    "    # data_format=None,\n",
    "    # verbose=True\n",
    ")"
   ]
  },
  {
   "cell_type": "code",
   "execution_count": null,
   "metadata": {
    "colab": {
     "base_uri": "https://localhost:8080/"
    },
    "collapsed": true,
    "executionInfo": {
     "elapsed": 174,
     "status": "ok",
     "timestamp": 1753288168679,
     "user": {
      "displayName": "monotosh kumar das chandan",
      "userId": "10884027464549225371"
     },
     "user_tz": -120
    },
    "id": "3fFs6hGTRGEN",
    "outputId": "ff22ec53-c2b9-433e-d5da-572729828868"
   },
   "outputs": [],
   "source": [
    "for i in val_dataset.take(1):\n",
    "  print(i)\n",
    "  break"
   ]
  },
  {
   "cell_type": "markdown",
   "metadata": {
    "id": "W4AG1tmD3-D4"
   },
   "source": [
    "# New section"
   ]
  },
  {
   "cell_type": "code",
   "execution_count": null,
   "metadata": {
    "colab": {
     "base_uri": "https://localhost:8080/"
    },
    "executionInfo": {
     "elapsed": 53,
     "status": "ok",
     "timestamp": 1753288175384,
     "user": {
      "displayName": "monotosh kumar das chandan",
      "userId": "10884027464549225371"
     },
     "user_tz": -120
    },
    "id": "QwALoSMIa5GV",
    "outputId": "fc525495-00f3-4c9c-8c7d-7d71e15da765"
   },
   "outputs": [],
   "source": [
    "a = np.array([0,1,0])\n",
    "print(a)\n",
    "print(a.argmax())"
   ]
  },
  {
   "cell_type": "markdown",
   "metadata": {
    "id": "VRJs1nb4cymx"
   },
   "source": [
    "# Dataset Visualization"
   ]
  },
  {
   "cell_type": "code",
   "execution_count": null,
   "metadata": {
    "colab": {
     "base_uri": "https://localhost:8080/",
     "height": 763
    },
    "executionInfo": {
     "elapsed": 1060,
     "status": "ok",
     "timestamp": 1753269812734,
     "user": {
      "displayName": "monotosh kumar das chandan",
      "userId": "10884027464549225371"
     },
     "user_tz": -120
    },
    "id": "5kw4lO8BcXBt",
    "outputId": "984b2592-e50c-422e-d2af-2825221fcba2"
   },
   "outputs": [],
   "source": [
    "plt.figure(figsize = (12,12))\n",
    "\n",
    "for images, labels in train_dataset.take(1):\n",
    "  for i in range(16):\n",
    "    ax = plt.subplot(4,4, i+1)\n",
    "    plt.imshow(images[i]/255.)\n",
    "    plt.title(CONFIGURATION[\"CLASS_NAMES\"][tf.argmax(labels[i], axis = 0).numpy()]) # label_mode = categorical\n",
    "    # plt.title(CONFIGURATION[\"CLASS_NAMES\"][labels[i].numpy()]) # label_mod = integer\n",
    "    plt.axis(\"off\")"
   ]
  },
  {
   "cell_type": "markdown",
   "metadata": {
    "id": "K7Zqv-fnh0qb"
   },
   "source": [
    "# Data Preparation"
   ]
  },
  {
   "cell_type": "markdown",
   "metadata": {
    "id": "JOfHkMKU1Ds4"
   },
   "source": [
    "## Data Augmentation"
   ]
  },
  {
   "cell_type": "markdown",
   "metadata": {
    "id": "TJpHkr743qES"
   },
   "source": [
    "- https://www.tensorflow.org/api_docs/python/tf/keras/layers/RandomContrast"
   ]
  },
  {
   "cell_type": "code",
   "execution_count": null,
   "metadata": {
    "id": "kAM7AM_M3GQr"
   },
   "outputs": [],
   "source": [
    "# class RotNinety(Layer):\n",
    "#   def __init__(self):\n",
    "#     super().__init__()\n",
    "\n",
    "#   @tf.function\n",
    "#   def call(self, image):\n",
    "#     return tf.image.rot90(image)"
   ]
  },
  {
   "cell_type": "code",
   "execution_count": null,
   "metadata": {
    "executionInfo": {
     "elapsed": 30,
     "status": "ok",
     "timestamp": 1753376633258,
     "user": {
      "displayName": "monotosh kumar das chandan",
      "userId": "10884027464549225371"
     },
     "user_tz": -120
    },
    "id": "xn07pf-m1F8S"
   },
   "outputs": [],
   "source": [
    "augment_layers = tf.keras.Sequential([\n",
    "    RandomRotation(factor = (-0.025, 0.025)),\n",
    "    # RotNinety(), # custome augmentation layer\n",
    "    RandomContrast(factor = 0.1),\n",
    "    RandomFlip(mode = \"horizontal\")\n",
    "])"
   ]
  },
  {
   "cell_type": "code",
   "execution_count": null,
   "metadata": {
    "executionInfo": {
     "elapsed": 40,
     "status": "ok",
     "timestamp": 1753376635888,
     "user": {
      "displayName": "monotosh kumar das chandan",
      "userId": "10884027464549225371"
     },
     "user_tz": -120
    },
    "id": "mLrP8R9w1GAd"
   },
   "outputs": [],
   "source": [
    "def augment_layer(image, label):\n",
    "  return augment_layers(image, training = True), label"
   ]
  },
  {
   "cell_type": "markdown",
   "metadata": {
    "id": "fXgpbHxm-ZjU"
   },
   "source": [
    "## CUTMIX\n"
   ]
  },
  {
   "cell_type": "code",
   "execution_count": null,
   "metadata": {
    "executionInfo": {
     "elapsed": 5,
     "status": "ok",
     "timestamp": 1753303182826,
     "user": {
      "displayName": "monotosh kumar das chandan",
      "userId": "10884027464549225371"
     },
     "user_tz": -120
    },
    "id": "Awp6ACNh1GE9"
   },
   "outputs": [],
   "source": [
    "def box(lambd):\n",
    "  #lambd = tfp.distributions.Beta(0.2, 0.2)\n",
    "  #lambd = lmbd.sample(1)[0]\n",
    "\n",
    "  r_x = tf.cast(tfp.distributions.Uniform(low=0.0,high=CONFIGURATION['IM_SIZE']).sample(1)[0], dtype = tf.int32)\n",
    "  r_y = tf.cast(tfp.distributions.Uniform(low=0.0,high=CONFIGURATION['IM_SIZE']).sample(1)[0], dtype = tf.int32)\n",
    "\n",
    "\n",
    "\n",
    "  r_w = tf.cast(CONFIGURATION['IM_SIZE']*tf.math.sqrt(1-lambd), dtype = tf.int32)\n",
    "  r_h = tf.cast(CONFIGURATION['IM_SIZE']*tf.math.sqrt(1-lambd), dtype = tf.int32)\n",
    "\n",
    "  r_x = tf.clip_by_value(r_x - r_w//2, 0, CONFIGURATION['IM_SIZE']) # clip function  for removing out of the image value\n",
    "  r_y = tf.clip_by_value(r_y - r_h//2, 0, CONFIGURATION['IM_SIZE'])\n",
    "\n",
    "\n",
    "  x_b_r = tf.clip_by_value(r_x + r_w//2, 0, CONFIGURATION['IM_SIZE']) # clip function  for removing out of the image value\n",
    "  y_b_r = tf.clip_by_value(r_y + r_h//2, 0, CONFIGURATION['IM_SIZE'])\n",
    "\n",
    "  r_w = x_b_r - r_x\n",
    "  if r_w == 0:\n",
    "    r_w = 1\n",
    "  r_h = y_b_r - r_y\n",
    "  if r_h == 0:\n",
    "    r_h = 1\n",
    "\n",
    "  # print(r_x, r_y, r_w, r_h)\n",
    "  # print(r_y.sample(1)[0])\n",
    "  return r_y, r_x, r_h, r_w\n"
   ]
  },
  {
   "cell_type": "code",
   "execution_count": null,
   "metadata": {
    "executionInfo": {
     "elapsed": 37,
     "status": "ok",
     "timestamp": 1753303184474,
     "user": {
      "displayName": "monotosh kumar das chandan",
      "userId": "10884027464549225371"
     },
     "user_tz": -120
    },
    "id": "6ELaKumI1GJX"
   },
   "outputs": [],
   "source": [
    "def cutmix(train_dataset_1, train_dataset_2):\n",
    "  (image_1, label_1), (image_2, label_2) = train_dataset_1, train_dataset_2\n",
    "\n",
    "  lambd = tfp.distributions.Beta(0.2, 0.2)\n",
    "  lambd = lambd.sample(1)[0]\n",
    "\n",
    "  r_y, r_x, r_h, r_w = box(lambd)\n",
    "  # crop image from image_2\n",
    "  crop_2 = tf.image.crop_to_bounding_box(\n",
    "    image_2, r_y, r_x, r_h, r_w\n",
    "  )\n",
    "  # make an image from that croped image\n",
    "  pad_2 = tf.image.pad_to_bounding_box(\n",
    "    crop_2, offset_height=r_y, offset_width=r_x, target_height=CONFIGURATION['IM_SIZE'], target_width=CONFIGURATION['IM_SIZE']\n",
    "  )\n",
    "\n",
    "  # crop the part of this image to remove\n",
    "  crop_1 = tf.image.crop_to_bounding_box(\n",
    "      image_1, r_y, r_x, r_h, r_w\n",
    "  )\n",
    "  pad_1 = tf.image.pad_to_bounding_box(\n",
    "      crop_1, offset_height=r_y, offset_width=r_x, target_height=CONFIGURATION['IM_SIZE'], target_width=CONFIGURATION['IM_SIZE']\n",
    "  )\n",
    "  image = image_1 - pad_1 + pad_2\n",
    "\n",
    "  lambd = tf.cast(1 - (r_w * r_h) / (CONFIGURATION['IM_SIZE'] * CONFIGURATION['IM_SIZE']), dtype = tf.float32)\n",
    "  label = lambd * tf.cast(label_1, dtype = tf.float32) + (1 - lambd) * tf.cast(label_2, dtype = tf.float32)\n",
    "\n",
    "  return image, label\n",
    "\n"
   ]
  },
  {
   "cell_type": "code",
   "execution_count": null,
   "metadata": {
    "executionInfo": {
     "elapsed": 325,
     "status": "ok",
     "timestamp": 1753376644934,
     "user": {
      "displayName": "monotosh kumar das chandan",
      "userId": "10884027464549225371"
     },
     "user_tz": -120
    },
    "id": "LugM7gtI1GM_"
   },
   "outputs": [],
   "source": [
    "train_dataset_1 = train_dataset.map(augment_layer, num_parallel_calls = tf.data.AUTOTUNE)\n",
    "train_dataset_2 = train_dataset.map(augment_layer, num_parallel_calls = tf.data.AUTOTUNE)\n",
    "\n",
    "mixed_dataset = tf.data.Dataset.zip((train_dataset_1, train_dataset_2))"
   ]
  },
  {
   "cell_type": "markdown",
   "metadata": {
    "id": "F6ZdbFaXEMtE"
   },
   "source": [
    "## TFRECORDS - More Efficient Data Pipeline\n",
    "\n",
    " https://www.tensorflow.org/tutorials/load_data/tfrecord"
   ]
  },
  {
   "cell_type": "markdown",
   "metadata": {
    "id": "hIucpmKBSep3"
   },
   "source": [
    "### Unbatching"
   ]
  },
  {
   "cell_type": "code",
   "execution_count": null,
   "metadata": {
    "executionInfo": {
     "elapsed": 43,
     "status": "ok",
     "timestamp": 1753376648446,
     "user": {
      "displayName": "monotosh kumar das chandan",
      "userId": "10884027464549225371"
     },
     "user_tz": -120
    },
    "id": "H-prOQwo1GRH"
   },
   "outputs": [],
   "source": [
    "training_dataset = (\n",
    "    train_dataset\n",
    "    #.map(cutmix, num_parallel_calls = tf.data.AUTOTUNE)\n",
    "    .unbatch()\n",
    ")"
   ]
  },
  {
   "cell_type": "code",
   "execution_count": null,
   "metadata": {
    "executionInfo": {
     "elapsed": 43,
     "status": "ok",
     "timestamp": 1753376650431,
     "user": {
      "displayName": "monotosh kumar das chandan",
      "userId": "10884027464549225371"
     },
     "user_tz": -120
    },
    "id": "z8SIYPPq1GVY"
   },
   "outputs": [],
   "source": [
    "validation_dataset = (\n",
    "    val_dataset\n",
    "    .unbatch()\n",
    ")"
   ]
  },
  {
   "cell_type": "code",
   "execution_count": null,
   "metadata": {
    "colab": {
     "base_uri": "https://localhost:8080/"
    },
    "executionInfo": {
     "elapsed": 37,
     "status": "ok",
     "timestamp": 1753376651033,
     "user": {
      "displayName": "monotosh kumar das chandan",
      "userId": "10884027464549225371"
     },
     "user_tz": -120
    },
    "id": "G8IkGjyV1GZD",
    "outputId": "3e01008c-d8e2-41ba-e415-8053b96e51ad"
   },
   "outputs": [],
   "source": [
    "print(training_dataset)\n",
    "print(validation_dataset)"
   ]
  },
  {
   "cell_type": "markdown",
   "metadata": {
    "id": "IjA0WqqPTj_4"
   },
   "source": [
    "- https://www.tensorflow.org/api_docs/python/tf/train/Feature"
   ]
  },
  {
   "cell_type": "code",
   "execution_count": null,
   "metadata": {
    "executionInfo": {
     "elapsed": 4,
     "status": "ok",
     "timestamp": 1753288252224,
     "user": {
      "displayName": "monotosh kumar das chandan",
      "userId": "10884027464549225371"
     },
     "user_tz": -120
    },
    "id": "jqJ2eQSt1Gdq"
   },
   "outputs": [],
   "source": [
    "# ERROR_1: AttributeError: 'numpy.float32' object has no attribute '__index__'\n",
    "\n",
    "# The above exception was the direct cause of the following exception:\n",
    "\n",
    "# SystemError                               Traceback (most recent call last)\n",
    "# 2 frames\n",
    "# /usr/local/lib/python3.11/dist-packages/tensorflow/python/framework/tensor.py in __next__(self)\n",
    "#     128   def __next__(self):\n",
    "#     129     if self._index == self._limit:\n",
    "# --> 130       raise StopIteration\n",
    "#     131     result = self._tensor[self._index]\n",
    "#     132     self._index += 1\n",
    "\n",
    "# SystemError: <class 'StopIteration'> returned a result with an exception set\n",
    "\n",
    "\n",
    "\n",
    "def create_example(image, label):\n",
    "\n",
    "  #label_index = tf.argmax(label, axis = -1)\n",
    "  # int64_list=Int64List(value = [tf.argmax(label, axis = -1).numpy()]))\n",
    "  # label - int features\n",
    "  label_scaler = tf.squeeze(label)\n",
    "  int_feature = Feature(\n",
    "      int64_list=Int64List(value = [int(label_scaler.numpy())]))# Solution : ERROR_1 []\n",
    "\n",
    "  # image features - image\n",
    "  bytes_feature = tf.train.Feature(\n",
    "      bytes_list=BytesList(value = [image])) #Solution : ERROR_1 []\n",
    "\n",
    "  example = Example(\n",
    "      features=Features(feature={\n",
    "          'image': bytes_feature,\n",
    "          'label': int_feature,\n",
    "      }))\n",
    "  return example.SerializeToString()"
   ]
  },
  {
   "cell_type": "code",
   "execution_count": null,
   "metadata": {
    "id": "MgZfmhCiZxsZ"
   },
   "outputs": [],
   "source": [
    "# ERROR_2\n",
    "\n",
    "# TypeError                                 Traceback (most recent call last)\n",
    "# /tmp/ipython-input-123-2591357298.py in <cell line: 0>()\n",
    "#       9   with tf.io.TFRecordWriter(PATH.format(shard_number)) as file_writer:\n",
    "#      10     for image, label in shard_dataset:\n",
    "# ---> 11         file_writer.write(create_example(image, label))\n",
    "\n",
    "# 1 frames\n",
    "# /usr/local/lib/python3.11/dist-packages/tensorflow/python/framework/ops.py in __index__(self)\n",
    "#     316\n",
    "#     317   def __index__(self) -> int:\n",
    "# --> 318     return cast(np.ndarray, self._numpy()).__index__()\n",
    "#     319\n",
    "#     320   def __bool__(self) -> bool:\n",
    "\n",
    "# TypeError: only integer scalar arrays can be converted to a scalar index\n",
    "#########SOLUTION\n",
    "# int_feature = Feature(\n",
    "#       int64_list=Int64List(value = [label.numpy()]))\n",
    "##########\n",
    "\n",
    "# ERROR_3 ---------------------------------------------------------------------------\n",
    "# TypeError                                 Traceback (most recent call last)\n",
    "# /tmp/ipython-input-131-2591357298.py in <cell line: 0>()\n",
    "#       9   with tf.io.TFRecordWriter(PATH.format(shard_number)) as file_writer:\n",
    "#      10     for image, label in shard_dataset:\n",
    "# ---> 11         file_writer.write(create_example(image, label))\n",
    "\n",
    "# /tmp/ipython-input-130-1047734668.py in create_example(image, label)\n",
    "#      22   # label - int features\n",
    "#      23   int_feature = Feature(\n",
    "# ---> 24       int64_list=Int64List(value = [label.numpy()]))# Solution : ERROR_1 []\n",
    "#      25\n",
    "#      26   # image features - image\n",
    "\n",
    "# TypeError: only integer scalar arrays can be converted to a scalar index\n",
    "#############SOLUTION\n",
    "# int_feature = Feature(\n",
    "#       int64_list=Int64List(value = [tf.argmax(label, axis = -1).numpy()]))\n",
    "#############\n",
    "\n",
    "\n",
    "\n",
    "# ERROR_4 ---------------------------------------------------------------------------\n",
    "# TypeError                                 Traceback (most recent call last)\n",
    "# /tmp/ipython-input-129-2591357298.py in <cell line: 0>()\n",
    "#       9   with tf.io.TFRecordWriter(PATH.format(shard_number)) as file_writer:\n",
    "#      10     for image, label in shard_dataset:\n",
    "# ---> 11         file_writer.write(create_example(image, label))\n",
    "\n",
    "# /tmp/ipython-input-127-927428001.py in create_example(image, label)\n",
    "#      26   # image features - image\n",
    "#      27   bytes_feature = tf.train.Feature(\n",
    "# ---> 28       bytes_list=BytesList(value = [image])) #Solution : ERROR_1 []\n",
    "#      29\n",
    "#      30   example = Example(\n",
    "\n",
    "# TypeError: expected bytes, tensorflow.python.framework.ops.EagerTensor found\n",
    "########SOLUTION\n",
    "\n",
    "########\n",
    "\n",
    "\n"
   ]
  },
  {
   "cell_type": "markdown",
   "metadata": {
    "id": "vP7Bcz4Qdu8r"
   },
   "source": [
    "- TypeError: expected bytes, tensorflow.python.framework.ops.EagerTensor found\n",
    "- SOLUTION :\n",
    "- https://www.tensorflow.org/api_docs/python/tf/io/decode_image\n",
    "- https://www.tensorflow.org/api_docs/python/tf/image/convert_image_dtype"
   ]
  },
  {
   "cell_type": "code",
   "execution_count": null,
   "metadata": {
    "executionInfo": {
     "elapsed": 6,
     "status": "ok",
     "timestamp": 1753288703949,
     "user": {
      "displayName": "monotosh kumar das chandan",
      "userId": "10884027464549225371"
     },
     "user_tz": -120
    },
    "id": "jbJlHy9CddXd"
   },
   "outputs": [],
   "source": [
    "def encode_image(image, label):\n",
    "  image = tf.image.convert_image_dtype(image, dtype=tf.uint8)\n",
    "  image = tf.io.encode_jpeg(image)\n",
    "  return image,tf.argmax(label)\n"
   ]
  },
  {
   "cell_type": "code",
   "execution_count": null,
   "metadata": {
    "colab": {
     "base_uri": "https://localhost:8080/"
    },
    "executionInfo": {
     "elapsed": 61,
     "status": "ok",
     "timestamp": 1753376748880,
     "user": {
      "displayName": "monotosh kumar das chandan",
      "userId": "10884027464549225371"
     },
     "user_tz": -120
    },
    "id": "7sIq0ihSdmOa",
    "outputId": "0afc1adc-c148-49ff-d570-9f4db03de511"
   },
   "outputs": [],
   "source": [
    "training_dataset"
   ]
  },
  {
   "cell_type": "code",
   "execution_count": null,
   "metadata": {
    "colab": {
     "base_uri": "https://localhost:8080/"
    },
    "executionInfo": {
     "elapsed": 65,
     "status": "ok",
     "timestamp": 1753376760307,
     "user": {
      "displayName": "monotosh kumar das chandan",
      "userId": "10884027464549225371"
     },
     "user_tz": -120
    },
    "id": "tk83r9P4ZhEl",
    "outputId": "c33f0c91-a4bd-4c50-8421-adb4c172daba"
   },
   "outputs": [],
   "source": [
    "train_dataset"
   ]
  },
  {
   "cell_type": "code",
   "execution_count": null,
   "metadata": {
    "executionInfo": {
     "elapsed": 44,
     "status": "ok",
     "timestamp": 1753288642968,
     "user": {
      "displayName": "monotosh kumar das chandan",
      "userId": "10884027464549225371"
     },
     "user_tz": -120
    },
    "id": "GeWsx7_Odf-x"
   },
   "outputs": [],
   "source": [
    "encoded_dataset = (\n",
    "  training_dataset\n",
    "  .map(encode_image)\n",
    ")"
   ]
  },
  {
   "cell_type": "code",
   "execution_count": null,
   "metadata": {
    "id": "0YuZEm35l6i7"
   },
   "outputs": [],
   "source": []
  },
  {
   "cell_type": "code",
   "execution_count": null,
   "metadata": {
    "colab": {
     "base_uri": "https://localhost:8080/"
    },
    "executionInfo": {
     "elapsed": 18,
     "status": "ok",
     "timestamp": 1753288645202,
     "user": {
      "displayName": "monotosh kumar das chandan",
      "userId": "10884027464549225371"
     },
     "user_tz": -120
    },
    "id": "W56cb7DKeHaO",
    "outputId": "88455d3d-db00-43c9-d0f1-ef7d0468ae8c"
   },
   "outputs": [],
   "source": [
    "encoded_dataset"
   ]
  },
  {
   "cell_type": "code",
   "execution_count": null,
   "metadata": {
    "executionInfo": {
     "elapsed": 6,
     "status": "ok",
     "timestamp": 1753288227090,
     "user": {
      "displayName": "monotosh kumar das chandan",
      "userId": "10884027464549225371"
     },
     "user_tz": -120
    },
    "id": "u6C4izP8U8_4"
   },
   "outputs": [],
   "source": [
    "NUM_SHARDS = 10\n",
    "PATH = 'tfrecords/shard_{:02d}.tfrecord'"
   ]
  },
  {
   "cell_type": "markdown",
   "metadata": {
    "id": "VdHBoVuFVRhp"
   },
   "source": [
    "- 1. how to write in tfrecord file : https://www.tensorflow.org/api_docs/python/tf/io/TFRecordWriter\n",
    "\n",
    "- 2. Dataset Shard - https://www.tensorflow.org/api_docs/python/tf/data/Dataset#shard"
   ]
  },
  {
   "cell_type": "code",
   "execution_count": null,
   "metadata": {
    "executionInfo": {
     "elapsed": 52786,
     "status": "ok",
     "timestamp": 1753288330321,
     "user": {
      "displayName": "monotosh kumar das chandan",
      "userId": "10884027464549225371"
     },
     "user_tz": -120
    },
    "id": "Bay9b1NIVLkQ"
   },
   "outputs": [],
   "source": [
    "# Write the records to a file.\n",
    "for shard_number in range(NUM_SHARDS):\n",
    "  # 2\n",
    "  shard_dataset =  (\n",
    "      encoded_dataset\n",
    "      .shard(NUM_SHARDS, shard_number)\n",
    "      .as_numpy_iterator()\n",
    "  )\n",
    "  # 1\n",
    "  with tf.io.TFRecordWriter(PATH.format(shard_number)) as file_writer:\n",
    "    for image, label in shard_dataset:\n",
    "        file_writer.write(create_example(image, label))"
   ]
  },
  {
   "cell_type": "markdown",
   "metadata": {
    "id": "DF_oNfj9ieMs"
   },
   "source": [
    "### Parse the tfrecorder into tf dataset (save in some where for permenent)"
   ]
  },
  {
   "cell_type": "code",
   "execution_count": null,
   "metadata": {
    "executionInfo": {
     "elapsed": 54,
     "status": "ok",
     "timestamp": 1753288336966,
     "user": {
      "displayName": "monotosh kumar das chandan",
      "userId": "10884027464549225371"
     },
     "user_tz": -120
    },
    "id": "k996HdvrVLpo"
   },
   "outputs": [],
   "source": [
    "recorded_dataset = tf.data.TFRecordDataset(filenames = [PATH.format(p) for p in range(NUM_SHARDS)])"
   ]
  },
  {
   "cell_type": "code",
   "execution_count": null,
   "metadata": {
    "colab": {
     "base_uri": "https://localhost:8080/"
    },
    "executionInfo": {
     "elapsed": 30,
     "status": "ok",
     "timestamp": 1753288339473,
     "user": {
      "displayName": "monotosh kumar das chandan",
      "userId": "10884027464549225371"
     },
     "user_tz": -120
    },
    "id": "Ya_fk1pnVLvy",
    "outputId": "5dc9d8aa-af10-43a4-b2b6-01d7b12a6f4b"
   },
   "outputs": [],
   "source": [
    "l = [PATH.format(p) for p in range(NUM_SHARDS)]\n",
    "print(l)"
   ]
  },
  {
   "cell_type": "code",
   "execution_count": null,
   "metadata": {
    "executionInfo": {
     "elapsed": 45,
     "status": "ok",
     "timestamp": 1753288343916,
     "user": {
      "displayName": "monotosh kumar das chandan",
      "userId": "10884027464549225371"
     },
     "user_tz": -120
    },
    "id": "JGPgk4kejNUa"
   },
   "outputs": [],
   "source": [
    "def parse_tfrecords(example):\n",
    "\n",
    "    # dictionary of features\n",
    "    feature_description = {\n",
    "          \"images\": tf.io.FixedLenFeature([], tf.string),\n",
    "          \"labels\": tf.io.FixedLenFeature([], tf.int64),\n",
    "      }\n",
    "    # parse the dictionary\n",
    "    example = tf.io.parse_single_example(example, feature_description)\n",
    "    example[\"images\"] = tf.image.convert_image_dtype(\n",
    "                  tf.io.decode_jpeg(\n",
    "                      example[\"images\"], channels = 3), dtype = tf.float32)\n",
    "\n",
    "    return example[\"images\"], example[\"labels\"]"
   ]
  },
  {
   "cell_type": "code",
   "execution_count": null,
   "metadata": {
    "executionInfo": {
     "elapsed": 130,
     "status": "ok",
     "timestamp": 1753288346035,
     "user": {
      "displayName": "monotosh kumar das chandan",
      "userId": "10884027464549225371"
     },
     "user_tz": -120
    },
    "id": "fBauqBtajNZV"
   },
   "outputs": [],
   "source": [
    "parsed_dataset = (\n",
    "    recorded_dataset\n",
    "    .map(parse_tfrecords)\n",
    "    .batch(CONFIGURATION[\"BATCH_SIZE\"])\n",
    "    .prefetch(tf.data.AUTOTUNE)\n",
    ")"
   ]
  },
  {
   "cell_type": "code",
   "execution_count": null,
   "metadata": {
    "colab": {
     "base_uri": "https://localhost:8080/"
    },
    "executionInfo": {
     "elapsed": 19,
     "status": "ok",
     "timestamp": 1753288348125,
     "user": {
      "displayName": "monotosh kumar das chandan",
      "userId": "10884027464549225371"
     },
     "user_tz": -120
    },
    "id": "pLAsJBPDjNeH",
    "outputId": "37257b19-c313-4891-ec8d-76e737bc1a87"
   },
   "outputs": [],
   "source": [
    "print(parsed_dataset)"
   ]
  },
  {
   "cell_type": "code",
   "execution_count": null,
   "metadata": {
    "executionInfo": {
     "elapsed": 30,
     "status": "ok",
     "timestamp": 1753288374405,
     "user": {
      "displayName": "monotosh kumar das chandan",
      "userId": "10884027464549225371"
     },
     "user_tz": -120
    },
    "id": "le8lgaRoITpn"
   },
   "outputs": [],
   "source": [
    "# len(parsed_dataset)"
   ]
  },
  {
   "cell_type": "code",
   "execution_count": null,
   "metadata": {
    "executionInfo": {
     "elapsed": 37,
     "status": "ok",
     "timestamp": 1753303760351,
     "user": {
      "displayName": "monotosh kumar das chandan",
      "userId": "10884027464549225371"
     },
     "user_tz": -120
    },
    "id": "0nnihJpzkeVc"
   },
   "outputs": [],
   "source": [
    "# for i in parsed_dataset.take(1):\n",
    "#   print(i)"
   ]
  },
  {
   "cell_type": "markdown",
   "metadata": {
    "id": "-y9fOTmYipw-"
   },
   "source": [
    "### Data Augmentation continue"
   ]
  },
  {
   "cell_type": "code",
   "execution_count": null,
   "metadata": {
    "collapsed": true,
    "executionInfo": {
     "elapsed": 166,
     "status": "ok",
     "timestamp": 1753376775335,
     "user": {
      "displayName": "monotosh kumar das chandan",
      "userId": "10884027464549225371"
     },
     "user_tz": -120
    },
    "id": "IW2Em-qtgrUi"
   },
   "outputs": [],
   "source": [
    "# more efficient uses of the data, already included bacth\n",
    "training_dataset = (\n",
    "    train_dataset\n",
    "    .map(augment_layer, num_parallel_calls = tf.data.AUTOTUNE)\n",
    "    .prefetch(tf.data.AUTOTUNE)\n",
    ")\n",
    "\n",
    "# after including cutmix\n",
    "# training_dataset = (\n",
    "#     mixed_dataset\n",
    "#     .map(cutmix, num_parallel_calls = tf.data.AUTOTUNE)\n",
    "#     .prefetch(tf.data.AUTOTUNE\n",
    "# )"
   ]
  },
  {
   "cell_type": "code",
   "execution_count": null,
   "metadata": {
    "executionInfo": {
     "elapsed": 6,
     "status": "ok",
     "timestamp": 1753376777590,
     "user": {
      "displayName": "monotosh kumar das chandan",
      "userId": "10884027464549225371"
     },
     "user_tz": -120
    },
    "id": "TTm7IpbOiQeB"
   },
   "outputs": [],
   "source": [
    "\n",
    "val_dataset = (\n",
    "    val_dataset\n",
    "    .prefetch(tf.data.AUTOTUNE)\n",
    ")"
   ]
  },
  {
   "cell_type": "code",
   "execution_count": null,
   "metadata": {
    "colab": {
     "base_uri": "https://localhost:8080/"
    },
    "executionInfo": {
     "elapsed": 40,
     "status": "ok",
     "timestamp": 1753376790684,
     "user": {
      "displayName": "monotosh kumar das chandan",
      "userId": "10884027464549225371"
     },
     "user_tz": -120
    },
    "id": "2l43Pr4dZnCz",
    "outputId": "5f6d64e5-5a5f-4b65-e7a7-696ad96ec8d2"
   },
   "outputs": [],
   "source": [
    "print(training_dataset)\n",
    "print(val_dataset)"
   ]
  },
  {
   "cell_type": "markdown",
   "metadata": {
    "id": "3h2eVqbeidid"
   },
   "source": [
    "# Resize and Rescale Layers"
   ]
  },
  {
   "cell_type": "code",
   "execution_count": null,
   "metadata": {
    "executionInfo": {
     "elapsed": 39,
     "status": "ok",
     "timestamp": 1753303785391,
     "user": {
      "displayName": "monotosh kumar das chandan",
      "userId": "10884027464549225371"
     },
     "user_tz": -120
    },
    "id": "ZKAnyjPeiUKC"
   },
   "outputs": [],
   "source": [
    "resize_rescale_layers = tf.keras.Sequential([\n",
    "  Resizing(CONFIGURATION['IM_SIZE'], CONFIGURATION['IM_SIZE']),\n",
    "  Rescaling(1./255),\n",
    "])"
   ]
  },
  {
   "cell_type": "markdown",
   "metadata": {
    "id": "Hwu2LvLtkETE"
   },
   "source": [
    "# Model"
   ]
  },
  {
   "cell_type": "code",
   "execution_count": null,
   "metadata": {
    "colab": {
     "base_uri": "https://localhost:8080/",
     "height": 688
    },
    "executionInfo": {
     "elapsed": 135,
     "status": "ok",
     "timestamp": 1753303787885,
     "user": {
      "displayName": "monotosh kumar das chandan",
      "userId": "10884027464549225371"
     },
     "user_tz": -120
    },
    "id": "MqFHagcljJC0",
    "outputId": "e91a07ec-39cc-44f1-832f-b3ba1fd1fbab"
   },
   "outputs": [],
   "source": [
    "\n",
    "IMG_SIZE = CONFIGURATION['IM_SIZE']\n",
    "DROPOUT_RATE = CONFIGURATION['DROPOUT_RATE']\n",
    "REGULARIZATION_RATE = CONFIGURATION['REGULARIZATION_RATE']\n",
    "N_FILTERS = CONFIGURATION['N_FILTERS']\n",
    "KERNEL_SIZE = CONFIGURATION['KERNEL_SIZE']\n",
    "N_STRIDES = CONFIGURATION['N_STRIDES']\n",
    "POOL_SIZE = CONFIGURATION['POOL_SIZE']\n",
    "\n",
    "model = tf.keras.Sequential([\n",
    "  InputLayer(shape= (None,None, 3)), # input could be any dimension.\n",
    "\n",
    "  resize_rescale_layers,\n",
    "  Conv2D(filters = N_FILTERS, kernel_size = KERNEL_SIZE, strides = N_STRIDES, activation = 'relu', padding = 'same', kernel_regularizer=L2(REGULARIZATION_RATE)),\n",
    "  BatchNormalization(),\n",
    "  MaxPool2D(pool_size = POOL_SIZE, strides = N_STRIDES),\n",
    "  Dropout(DROPOUT_RATE), #\n",
    "\n",
    "  Conv2D(filters = N_FILTERS*2 + 4, kernel_size = KERNEL_SIZE, strides = N_STRIDES, activation = 'relu', padding = 'same', kernel_regularizer=L2(REGULARIZATION_RATE)),\n",
    "  BatchNormalization(),\n",
    "  MaxPool2D(pool_size = POOL_SIZE, strides = N_STRIDES),\n",
    "\n",
    "  Flatten(),\n",
    "\n",
    "  Dense(CONFIGURATION['N_DENSE_1'], activation = \"relu\", kernel_regularizer=L2(REGULARIZATION_RATE)),\n",
    "  BatchNormalization(),\n",
    "  Dropout(DROPOUT_RATE),\n",
    "  Dense(CONFIGURATION['N_DENSE_2'], activation = \"relu\", kernel_regularizer=L2(REGULARIZATION_RATE)),\n",
    "  BatchNormalization(),\n",
    "  Dense(CONFIGURATION[\"NUM_CLASSES\"], activation = \"softmax\"),# 3 catagories\n",
    "\n",
    "\n",
    "\n",
    "])\n",
    "\n",
    "model.summary()"
   ]
  },
  {
   "cell_type": "markdown",
   "metadata": {
    "id": "CtiSYPlj1ObH"
   },
   "source": [
    "# Training"
   ]
  },
  {
   "cell_type": "markdown",
   "metadata": {
    "id": "XnhpClHXwlIl"
   },
   "source": [
    "## Loss Function"
   ]
  },
  {
   "cell_type": "code",
   "execution_count": null,
   "metadata": {
    "executionInfo": {
     "elapsed": 40,
     "status": "ok",
     "timestamp": 1753303264573,
     "user": {
      "displayName": "monotosh kumar das chandan",
      "userId": "10884027464549225371"
     },
     "user_tz": -120
    },
    "id": "NsGUkC9OkSFD"
   },
   "outputs": [],
   "source": [
    "loss_function = CategoricalCrossentropy()"
   ]
  },
  {
   "cell_type": "code",
   "execution_count": null,
   "metadata": {
    "colab": {
     "base_uri": "https://localhost:8080/"
    },
    "executionInfo": {
     "elapsed": 2090,
     "status": "ok",
     "timestamp": 1753266464792,
     "user": {
      "displayName": "monotosh kumar das chandan",
      "userId": "10884027464549225371"
     },
     "user_tz": -120
    },
    "id": "TG5Dn852xpP-",
    "outputId": "a5727b39-597e-4783-98bd-261976d4b2df"
   },
   "outputs": [],
   "source": [
    "# if label_mode = categorical\n",
    "y_true = [[0, 1, 0], [0, 0, 1]]\n",
    "y_pred = [[0.05, 0.95, 0], [0.1, 0.05, 0.85]]\n",
    "# Using 'auto'/'sum_over_batch_size' reduction type.\n",
    "cce = tf.keras.losses.CategoricalCrossentropy()\n",
    "cce(y_true, y_pred)\n",
    "# this value tells us, how close the prediction of the model to the true y\n",
    "# high value -- high chance of false prediction\n",
    "# low value (close to 0) - high chance of true prediction"
   ]
  },
  {
   "cell_type": "code",
   "execution_count": null,
   "metadata": {
    "colab": {
     "base_uri": "https://localhost:8080/"
    },
    "executionInfo": {
     "elapsed": 19,
     "status": "ok",
     "timestamp": 1753266464860,
     "user": {
      "displayName": "monotosh kumar das chandan",
      "userId": "10884027464549225371"
     },
     "user_tz": -120
    },
    "id": "1b7ulrkMxpWA",
    "outputId": "73b376f2-5a23-463b-ca38-29c70ad77137"
   },
   "outputs": [],
   "source": [
    "# if label_mode = int\n",
    "y_true = tf.constant([1,2])\n",
    "y_pred = tf.constant([[0.05, 0.95, 0], [0.1, 0.05, 0.85]])\n",
    "# Using 'auto'/'sum_over_batch_size' reduction type.\n",
    "cce = tf.keras.losses.SparseCategoricalCrossentropy()\n",
    "cce(y_true, y_pred)"
   ]
  },
  {
   "cell_type": "markdown",
   "metadata": {
    "id": "Ce-iBCSX1R30"
   },
   "source": [
    "## metrics"
   ]
  },
  {
   "cell_type": "code",
   "execution_count": null,
   "metadata": {
    "executionInfo": {
     "elapsed": 57,
     "status": "ok",
     "timestamp": 1753303269721,
     "user": {
      "displayName": "monotosh kumar das chandan",
      "userId": "10884027464549225371"
     },
     "user_tz": -120
    },
    "id": "7npkKiSMxpbu"
   },
   "outputs": [],
   "source": [
    "metrics = [CategoricalAccuracy(name = \"accuracy\"), TopKCategoricalAccuracy(k = 2, name = \"top_2_accuracy\")]\n"
   ]
  },
  {
   "cell_type": "markdown",
   "metadata": {
    "id": "z1LDcTIu3Ihm"
   },
   "source": [
    "## compile"
   ]
  },
  {
   "cell_type": "code",
   "execution_count": null,
   "metadata": {
    "executionInfo": {
     "elapsed": 5,
     "status": "ok",
     "timestamp": 1753269840953,
     "user": {
      "displayName": "monotosh kumar das chandan",
      "userId": "10884027464549225371"
     },
     "user_tz": -120
    },
    "id": "_iJZ-PYC3FtN"
   },
   "outputs": [],
   "source": [
    "model.compile(\n",
    "    optimizer = Adam(learning_rate = CONFIGURATION['LEARNING_RATE']),\n",
    "    loss = loss_function,\n",
    "    metrics = metrics\n",
    ")"
   ]
  },
  {
   "cell_type": "markdown",
   "metadata": {
    "id": "SFPLZcMI3jX1"
   },
   "source": [
    "## fit"
   ]
  },
  {
   "cell_type": "code",
   "execution_count": null,
   "metadata": {
    "colab": {
     "base_uri": "https://localhost:8080/"
    },
    "executionInfo": {
     "elapsed": 22,
     "status": "ok",
     "timestamp": 1753303314611,
     "user": {
      "displayName": "monotosh kumar das chandan",
      "userId": "10884027464549225371"
     },
     "user_tz": -120
    },
    "id": "cs-b0tZd3q8k",
    "outputId": "7fbfac50-12cc-4c25-c740-9f129774e15a"
   },
   "outputs": [],
   "source": [
    "training_dataset"
   ]
  },
  {
   "cell_type": "code",
   "execution_count": null,
   "metadata": {
    "colab": {
     "base_uri": "https://localhost:8080/"
    },
    "executionInfo": {
     "elapsed": 730407,
     "status": "ok",
     "timestamp": 1753272680450,
     "user": {
      "displayName": "monotosh kumar das chandan",
      "userId": "10884027464549225371"
     },
     "user_tz": -120
    },
    "id": "jFzUOADC3QBG",
    "outputId": "4f437c99-3223-410f-8196-616375b900d6"
   },
   "outputs": [],
   "source": [
    "history = model.fit(\n",
    "    training_dataset,\n",
    "    validation_data = val_dataset,\n",
    "    epochs = 20, #CONFIGURATION['N_EPOCHS'],\n",
    "    verbose = 1\n",
    ")"
   ]
  },
  {
   "cell_type": "markdown",
   "metadata": {
    "id": "rp8wSoRr4u1y"
   },
   "source": [
    "# PLOT"
   ]
  },
  {
   "cell_type": "code",
   "execution_count": null,
   "metadata": {
    "executionInfo": {
     "elapsed": 25,
     "status": "ok",
     "timestamp": 1753378758498,
     "user": {
      "displayName": "monotosh kumar das chandan",
      "userId": "10884027464549225371"
     },
     "user_tz": -120
    },
    "id": "4SmjqtLk3nsZ"
   },
   "outputs": [],
   "source": [
    "def plot_loss(history):\n",
    "  plt.plot(history.history['loss'])\n",
    "  plt.plot(history.history['val_loss'])\n",
    "  plt.title('Model loss')\n",
    "  plt.ylabel('loss')\n",
    "  plt.xlabel('epoch')\n",
    "  plt.legend(['train_loss', 'val_loss'])\n",
    "  plt.show()"
   ]
  },
  {
   "cell_type": "code",
   "execution_count": null,
   "metadata": {
    "executionInfo": {
     "elapsed": 40,
     "status": "ok",
     "timestamp": 1753378763928,
     "user": {
      "displayName": "monotosh kumar das chandan",
      "userId": "10884027464549225371"
     },
     "user_tz": -120
    },
    "id": "yw28t8P25B4W"
   },
   "outputs": [],
   "source": [
    "def plot_accuracy(history):\n",
    "  plt.plot(history.history['accuracy'])\n",
    "  plt.plot(history.history['val_accuracy'])\n",
    "  plt.title('Model accuracy')\n",
    "  plt.ylabel('accuracy')\n",
    "  plt.xlabel('epoch')\n",
    "  plt.legend(['train_accuracy', 'val_accuracy'])\n",
    "  plt.show()"
   ]
  },
  {
   "cell_type": "markdown",
   "metadata": {
    "id": "xk2npb1d6pVO"
   },
   "source": [
    "# Evaluate the model performance on validation data"
   ]
  },
  {
   "cell_type": "code",
   "execution_count": null,
   "metadata": {
    "colab": {
     "base_uri": "https://localhost:8080/"
    },
    "executionInfo": {
     "elapsed": 1286,
     "status": "ok",
     "timestamp": 1753273172976,
     "user": {
      "displayName": "monotosh kumar das chandan",
      "userId": "10884027464549225371"
     },
     "user_tz": -120
    },
    "id": "NYmbx8bT6gdo",
    "outputId": "600b3a53-a091-427e-c2ad-cc48427e0e95"
   },
   "outputs": [],
   "source": [
    "model.evaluate(val_dataset)"
   ]
  },
  {
   "cell_type": "markdown",
   "metadata": {
    "id": "sjgiBXrZ65ia"
   },
   "source": [
    "# Test the model"
   ]
  },
  {
   "cell_type": "code",
   "execution_count": null,
   "metadata": {
    "executionInfo": {
     "elapsed": 57,
     "status": "ok",
     "timestamp": 1753266575832,
     "user": {
      "displayName": "monotosh kumar das chandan",
      "userId": "10884027464549225371"
     },
     "user_tz": -120
    },
    "id": "XGUc2BOg6xTv"
   },
   "outputs": [],
   "source": [
    "test_image = cv2.imread(\"/content/dataset/Emotions Dataset/Emotions Dataset/test/happy/109046.jpg_brightness_1.jpg\")\n",
    "\n",
    "im = tf.constant(test_image, dtype=tf.float32)\n",
    "\n",
    "im = tf.expand_dims(im, axis = 0) # add batch\n",
    "\n",
    "# [angry, happy, sad]"
   ]
  },
  {
   "cell_type": "code",
   "execution_count": null,
   "metadata": {
    "colab": {
     "base_uri": "https://localhost:8080/"
    },
    "executionInfo": {
     "elapsed": 831,
     "status": "ok",
     "timestamp": 1753266580769,
     "user": {
      "displayName": "monotosh kumar das chandan",
      "userId": "10884027464549225371"
     },
     "user_tz": -120
    },
    "id": "wQEviknVAjub",
    "outputId": "9b44bd86-e214-4bc6-8867-9eae4a9c4abf"
   },
   "outputs": [],
   "source": [
    "print(CONFIGURATION[\"CLASS_NAMES\"][tf.argmax(model(im), axis = -1).numpy()[0]])"
   ]
  },
  {
   "cell_type": "code",
   "execution_count": null,
   "metadata": {
    "colab": {
     "base_uri": "https://localhost:8080/"
    },
    "executionInfo": {
     "elapsed": 56,
     "status": "ok",
     "timestamp": 1753266585021,
     "user": {
      "displayName": "monotosh kumar das chandan",
      "userId": "10884027464549225371"
     },
     "user_tz": -120
    },
    "id": "HkSTWLe_B5Qe",
    "outputId": "c0aa1ae4-d15c-4bbe-8cb9-c70006f70f60"
   },
   "outputs": [],
   "source": [
    "test_image_1 = cv2.imread(\"/content/dataset/Emotions Dataset/Emotions Dataset/test/sad/10416.jpg_rotation_2.jpg\")\n",
    "\n",
    "im_2 = tf.constant(test_image_1, dtype=tf.float32)\n",
    "\n",
    "im_2 = tf.expand_dims(im_2, axis = 0) # add batch\n",
    "\n",
    "# [angry, happy, sad]\n",
    "\n",
    "print(CONFIGURATION[\"CLASS_NAMES\"][tf.argmax(model(im_2), axis = -1).numpy()[0]])"
   ]
  },
  {
   "cell_type": "code",
   "execution_count": null,
   "metadata": {
    "executionInfo": {
     "elapsed": 133,
     "status": "ok",
     "timestamp": 1753390093083,
     "user": {
      "displayName": "monotosh kumar das chandan",
      "userId": "10884027464549225371"
     },
     "user_tz": -120
    },
    "id": "KYjR62cDDGj0"
   },
   "outputs": [],
   "source": [
    "def test_model(model, val_dataset):\n",
    "  plt.figure(figsize = (12,12))\n",
    "\n",
    "  for images, labels in val_dataset.take(1):\n",
    "    for i in range(16):\n",
    "      ax = plt.subplot(4,4, i+1)\n",
    "      plt.imshow(images[i]/255.)\n",
    "      plt.title(\"True Label: \"+ CONFIGURATION[\"CLASS_NAMES\"][tf.argmax(labels[i], axis = 0).numpy()] + \"\\n\" + \"Predicted Label: \" + CONFIGURATION[\"CLASS_NAMES\"][tf.argmax(model(tf.expand_dims(images[i], axis = 0)), axis = -1).numpy()[0]]) # label_mode = categorical\n",
    "      # plt.title(CONFIGURATION[\"CLASS_NAMES\"][labels[i].numpy()]) # label_mod = integer\n",
    "      plt.axis(\"off\")"
   ]
  },
  {
   "cell_type": "code",
   "execution_count": null,
   "metadata": {
    "colab": {
     "base_uri": "https://localhost:8080/"
    },
    "executionInfo": {
     "elapsed": 47,
     "status": "ok",
     "timestamp": 1753396227964,
     "user": {
      "displayName": "monotosh kumar das chandan",
      "userId": "10884027464549225371"
     },
     "user_tz": -120
    },
    "id": "5nx3rcei1XgK",
    "outputId": "5fde17b6-540a-4f9f-eff5-4c9e331b42b2"
   },
   "outputs": [],
   "source": [
    "12/16"
   ]
  },
  {
   "cell_type": "markdown",
   "metadata": {
    "id": "cS4yZq2CFxdE"
   },
   "source": [
    "# CONFUSION MATRIX"
   ]
  },
  {
   "cell_type": "code",
   "execution_count": null,
   "metadata": {
    "colab": {
     "base_uri": "https://localhost:8080/",
     "height": 217
    },
    "executionInfo": {
     "elapsed": 644,
     "status": "error",
     "timestamp": 1753391636338,
     "user": {
      "displayName": "monotosh kumar das chandan",
      "userId": "10884027464549225371"
     },
     "user_tz": -120
    },
    "id": "86SI1y8WESSd",
    "outputId": "23d8ca66-e709-4f52-d1ca-4db39c302398"
   },
   "outputs": [],
   "source": [
    "#def confusion_matrix(val_dataset, model):\n",
    "predicted = []\n",
    "labels = []\n",
    "\n",
    "for im, label in val_dataset:\n",
    "  predicted.append(model(im))\n",
    "  labels.append(label.numpy())\n",
    "\n",
    "  # batch mismatch in last batch so concat last batch with previous all batches\n",
    "pred = np.concatenate((np.argmax(predicted[:-1], axis = -1).flatten(), np.argmax(predicted[-1], axis = -1).flatten()))\n",
    "labels = np.concatenate((np.argmax(labels[:-1], axis = -1).flatten(), np.argmax(labels[-1], axis = -1).flatten()))\n",
    "\n",
    "cm = confusion_matrix(labels, pred)\n",
    "print(cm)\n",
    "plt.figure(figsize=(8,8))\n",
    "\n",
    "sns.heatmap(cm, annot=True,)\n",
    "plt.title('Confusion matrix')\n",
    "plt.ylabel('Actual')\n",
    "plt.xlabel('Predicted')"
   ]
  },
  {
   "cell_type": "code",
   "execution_count": null,
   "metadata": {
    "colab": {
     "base_uri": "https://localhost:8080/"
    },
    "executionInfo": {
     "elapsed": 63,
     "status": "ok",
     "timestamp": 1753266638452,
     "user": {
      "displayName": "monotosh kumar das chandan",
      "userId": "10884027464549225371"
     },
     "user_tz": -120
    },
    "id": "dTZDU6NvGIj0",
    "outputId": "e6fd66a7-a09d-47d8-c01b-7fff15f9f490"
   },
   "outputs": [],
   "source": [
    "# print(predicted)\n",
    "# without last batch (error - last batch may be less than 32)\n",
    "print(np.argmax(labels[:-1], axis = -1).flatten())\n",
    "print(np.argmax(predicted[:-1], axis = -1).flatten())\n",
    "\n",
    "# concatination last batch with previous all batches\n",
    "print(np.concatenate((np.argmax(labels[:-1], axis = -1).flatten(), np.argmax(predicted[-1], axis = -1).flatten())))\n",
    "print(np.concatenate((np.argmax(predicted[:-1], axis = -1).flatten(), np.argmax(predicted[-1], axis = -1).flatten())))"
   ]
  },
  {
   "cell_type": "code",
   "execution_count": null,
   "metadata": {
    "executionInfo": {
     "elapsed": 44,
     "status": "ok",
     "timestamp": 1753266641823,
     "user": {
      "displayName": "monotosh kumar das chandan",
      "userId": "10884027464549225371"
     },
     "user_tz": -120
    },
    "id": "3-xm6EJyGMFw"
   },
   "outputs": [],
   "source": [
    "pred = np.concatenate((np.argmax(predicted[:-1], axis = -1).flatten(), np.argmax(predicted[-1], axis = -1).flatten()))\n",
    "labels = np.concatenate((np.argmax(labels[:-1], axis = -1).flatten(), np.argmax(predicted[-1], axis = -1).flatten()))\n"
   ]
  },
  {
   "cell_type": "markdown",
   "metadata": {
    "id": "Jn7_kVchK6Zz"
   },
   "source": [
    "![image.png](data:image/png;base64,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)"
   ]
  },
  {
   "cell_type": "code",
   "execution_count": null,
   "metadata": {
    "colab": {
     "base_uri": "https://localhost:8080/",
     "height": 790
    },
    "executionInfo": {
     "elapsed": 192,
     "status": "ok",
     "timestamp": 1753266645713,
     "user": {
      "displayName": "monotosh kumar das chandan",
      "userId": "10884027464549225371"
     },
     "user_tz": -120
    },
    "id": "BZPJEkezJ6e0",
    "outputId": "fe3ab7e1-d002-4c42-d084-5be6aca1ce88"
   },
   "outputs": [],
   "source": [
    "cm = confusion_matrix(labels, pred)\n",
    "print(cm)\n",
    "plt.figure(figsize=(8,8))\n",
    "\n",
    "sns.heatmap(cm, annot=True,)\n",
    "plt.title('Confusion matrix')\n",
    "plt.ylabel('Actual')\n",
    "plt.xlabel('Predicted')\n",
    "\n"
   ]
  },
  {
   "cell_type": "markdown",
   "metadata": {
    "id": "PgOlyfLhNEkb"
   },
   "source": [
    "- Pooling layers: Down sample the informations from the input. Such that we go deeper into the neural network, we reduce the number of features."
   ]
  },
  {
   "cell_type": "markdown",
   "metadata": {
    "id": "jEGYaPyt0Zxf"
   },
   "source": [
    "# RESNET 34"
   ]
  },
  {
   "cell_type": "markdown",
   "metadata": {
    "id": "7tfyKE32IQ6x"
   },
   "source": [
    "- positional argument\n",
    "- keyword argument"
   ]
  },
  {
   "cell_type": "markdown",
   "metadata": {
    "id": "zXhG12Q78XqB"
   },
   "source": [
    "[ResNets](https://arxiv.org/pdf/1512.03385)"
   ]
  },
  {
   "cell_type": "markdown",
   "metadata": {
    "id": "8Zf5s8F18VYn"
   },
   "source": [
    "![image.png](data:image/png;base64,iVBORw0KGgoAAAANSUhEUgAAA3gAAAGcCAYAAACLJALzAAAAAXNSR0IArs4c6QAAAARnQU1BAACxjwv8YQUAAAAJcEhZcwAAFiUAABYlAUlSJPAAAP+lSURBVHhe7N0JXIz5HwfwT/ctR3QgkUUWsc51LlbWWnLEWiKETUQi11qsdcTKWVJasWKp2GWxf6xblDNH5EiFdDgqKh0z8/s/Mz1UmmrKVFN93/ua1fM8M8888/y+z/F9fs/v+SkxDgghhBBCCCGEVHrK/L+EEEIIIYQQQio5SvAIIYQQQgghpIqgBI8QQgghhBBCqghK8AghhBBCCCGkiqAEjxBCCCGEEEKqCErwCCGEEEIIIaSKoASPEEIIIYQQQqoISvAIIYQQQgghpIqgBI8QQgghhBBCqghK8AghhBBCCCGkiqAEjxBCCCGEEEKqCErwCCGEEEIIIaSKoASPEEIIIYQQQqoISvAIIYQQQgghpIqgBI8QQgghhBBCqghK8AghhBBCCCGkiqAEjxBCCCGEEEKqCErwCCGEEEIIIaSKoASPEEIIIYQQQqoISvAIIYQQQgghpIqgBI8QQgghhBBCqghK8AghhBBCCCGkiqAEjxBCCCGEEEKqCErwCCGEEEIIIaSKoASPEEIIIYQQQqoISvAIIYQQQgghpIqgBI8QQgghhBBCqghK8AghhBBCCCGkiqAEjxBCCCGEEEKqCErwCCGEEEIIIaSKoASPEEIIIYQQQqoISvAIIYQQQgghpIqgBI8QQgghhBBCqghK8AghhBBCCCGkiqAEjxBCCCGEEEKqCErwCCGEEEIIIaSKoASPEEIIIYQQQqoISvAIIYQQQgghpIqgBI8QQgghhBBCqghK8AghhBBCCCGkiqAEjxBCCCGEEEKqCErwCCGEEEIIIaSKoASPEEIIIYQQQqoISvAIIYQQQgghpIqgBI8QQgghhBBCqghK8AghhBBCCCGkiqAEjxBCCCGEEEKqCErwCCGEEEIIIaSKoASPEEIIIYQQQqoISvAIIYQQQgghpIpQYhz+70rh4MGD2LdvHz9ECCGEEEIIIZXD2LFjMWDAAH6obFS6BO/u3bsICwvjh4gsbt26hZs3b0oCisjmyZMnkosJTk5O/BhSla1duxa2trYwMjLix5Cq6ty5c0hJScGgQYP4MYTkSE9Ph5ubG5YtW8aPIUR28+fPx4oVK6CiosKPIUS69u3bo3nz5vxQ2ah0CR4pucDAQAQEBEj+JbIJDQ3FjBkzJP+Squ/zzz+XbCPif0nVtm7dOjx79kzyLyF5vX79Gubm5khKSuLHECI7NTU1yUUC8b+EVDRqg0cIIYQQQgghVUQVSfAykHD7GHb9eR4JIn4UqTYEUf/Ca+t/iBHyI6qD9ChcvBwNaT85NfICDuzchu37TuF+Cj+yMBkJuH1sF/48nwDadBRRCh6cDYKfrz+O3EyUWt4SoiRcCTyEOxn8sFS0n6yshAl3cSk4GMGS1xn8fTIcmfw0IAvPrx3G7h1/4r87iXnGS5eRcBvHdv2J8xQEVUg6oi5eRrSUHUTW82s4vHsH/vzvDhILCY70qIu4LO3DH6PjRRVSeMwUvb8R4XXEaQTt8MO+/8LxqriwoZipMFUgwctC1OmdWDLRBvbup/GCIqiaEeHF2W345RdvnH9ZDQo/PRrnts+BlUUrWHuEIZsfnSMTNzfbwGZtFBpbDUEfw8tw/Xokfn8k4Kd/JCsKp3cuwUQbe7iffkE7X0WTeQc+k+2waNdJBP+zFnad22KozyMpSZ4I8X87Y8T4Lbj4lh9VAO0nKy3RCwTN7I3u3bvnvHoOxx/PDSC5CUz0Cifm98UI77doZ9Ue6b4j0WvGIcQVUr5ZUaexc8lE2Ni74zQFQRWQjuhz2zHHygKtrD0Qlu+AIMKrE/PRd4Q33razQvt0X4zsNQOH8gRHevQ5bJ9jBYtW1vDI/+GC6HhRRRQVM5yi9jdIw+V1NrAa6Qq3NQsxsX87tO63AsGFHXcoZipUFUjw1NG4tz0mWZmBmrWWM8F9bPc4CHm1VhDc3w6PgyWdmzKMxx/A89hA2BpWgzuORTVhaesIK1Mpl83SDmP1iih0dvgB7YzrwuwrZzhYhmDT9huQmuKpN0Zv+0mwMqMtR/EIERO0H+mT/RHg6wXfg2fgN1oFx3fsR+RHRS96Ggj33Q8hLLI1Ne0nKyvh/T9wtIE/XmdnI5t7CbJe4MBYQ8nBO/3MEjj61oOj2w9oadIMg5fPQosD07Hg0OucD39EvXFv2E+yAm3yVYUINS1t4WhlWvDCT/oZLHH0RT1HN/zQ0gTNBi/HrBYHMH3BIbyPDlFNS9g6WkHa4aQAOl5UEUXEDKeo/Y3gljf8UpxxIuwqrt6Nwo1tg6F8biUW74iRnrxRzFSoKnNGrKKsAiX+77wEaSlIzeIHSiQL6RlSwl8khFAcycJMZBRSMQKRAALJR4XIzJT+pkKXS8B9NucPpKfnfYOIm1chPyQrHdIWtSREmdw8SnJ5RZSEcz/bwvVwXP5apPfrp4jfLo0o6Rx+tnXF4bhiriJy6yUzq+CCKnPfl/O9MpLDOqsQujWhr6oNbQ0p0c6ykJ0RifMnH+XEkCgF8YlCGNavV8SGrgJlFalbDtJSUrmtoDSkbzsioVByEBBmZvAxTgqngrpDXOHcSZcf1oVJfQMYNmsBw7zHSmEk/tgUgd5Te0Jfhr25/PeT4k0po+CJgiz7SSKDNJz22Inrj47Cc+cJRKQoQUXlfUGn4fjOQDxr0xM9avKjdLuiZ9skHNz5D17wowrgPi99k09DSumDQMr+VARhThAgk4KgjOiipr4qtLU1CmzXacd3IvBZG/TMDQ507dkWSQd34h8+OHRr6kNVWxvSDifSFXK8kHvs0PGi7BQeM0Xvb0R4ndAUo+f0RC3JKE00s52B4WYCPH8aV0QZ0TlGRZHhlKAy4gLxwm+YMH4BfP8KxKoRXTDI/QrSueCN2DcVnY3rovmItbjwRBxaGYg+OhtfdZ2Kv8WNuITPcXLzEixesgzzx3TF571m4gA3XvTiCvyX2OEriz5YsG0p+pvXRl2rjTlf9176AxxebovO5t3h6rcJU4f0QmtjA7S0D8ATSSwWtlxcuEb9B/cpX6Gp5Y/w/mMxJg7pi3YNjNHxp5MIP7oKP478Fl0aG6HlpCDEiiOYI3x+EpuXLMaSZfMxpuvn6DXzQAnboYnwKngDHCbNwzofT/w6ri96jFyJU/EiLje4hwMuPWFiMhS+3LAw9iJ2zOqNBsbfYGOkEKk39sPn8D28jTyKNYtXIfDSJexcMApdm/XF3K0/YUiHz2CkXwdNB63E+VcCpNw7AJeeJjAZ6ot47uQv9uIOzOrdAMbfbESkMBU39vvg8L23iDy6BotX7UdEga1ThKd/LYTDou34K3Azpg8YjnV3uGT4yRl4utqgy2ffYN1j7scLbmHVkG8wZdEyLF++HEsmdEeDuk0wYnuM5CT009eZAtP9Fo6TTBG6aDBst5zHBZ+5CKizHBvsG8m+oYte48JvEzB+gS+3nldhRJdBcL/CRWhaBPZN7Qzjus0xYu0F5Gw60Tg6+yt0nfp3zmelbjvZeHHFH0vsvoJFnwXYtrQ/zGvXhdXGxzmfIYXS1tHm/+L2D9H7sSN6KHa5D4I+P058kLu3zQOxg5zxdQ2Zz9DyKHx/lBaxD1M7G6Nu8xFYe+GJ5CCcEX0Us7/qiql/x3BDQjw/uRlLFi/Bsvlj0PXzXph5IAbZsuwnieyy7iE8qQ7UwvywdPJAtG3aEVP2PMo5KcoKR+i1JOjUN0W9Dxt4DZg2rI20G6G4VVxjPJ7o9QX8NmE8Fvj+hcBVI9BlkDvEm7ws27zU/Wn2C1zxXwK7ryzQZ8E2LO1vjtp1rbBRvH8m5SQL4aHXkKRTH6a5wYEapg1RO+0GQmUNjmLIPXaEIjpeVKSi9jfcWUS9foPRQ08ykIMJIWT6aNWuGdT5UcWic4zyI+4mofLLZtcXWTKt9r+w29ncoOAxc++hzSzmXmKZ3OC7g3bMqL49O/KOGxDGsZ1D6zDt7mvYfYH4s4y9+Xsqs/WMZkImYA83DWQD1z7k/uJkBrM5zdWYsd1fLJkbfHf8R9ZQrR6zWhPC4qPPsv3/PRK/K5/s64uYpboB+3rNFclnUo87MDPNLmxlBDfHopaL+/bnHn2ZhvaXbMll8SeFLOH3QayGVjM2fm8U9wsZyzg/izXT7sncH4vn9ZBtGjiQrX2Y8yMyg+ew5mrGzO4v8WfzCwgIYDY2NvxQLuGznWyoaTfmdpdfEdkP2cY++qxWv82SdZPx7yRWX7MP2/xcKJmcec6Zfcb9llWSFfeOHZ5ozDStvFiCZCo35t/JrAG3DNYeN1kS95bkkGWsR0011nzWOW5qBvt3Un2m2Wczy5ldJjvn/BnT7LIqpxzeHWYTjTWZldf7uX0k+wZb3L4tW3BZvCYYSzrkxtZfFq9FrvwOjGWGGl3ZavG6yA5je/+8Llm/LOM6+7WLHqvZ6zd2WzyiBOssJCSEderUiR9SMFwMe/bVZAZj/+JK4SOCGHbgx9ZMR0mJaVnOYicSc8quUNnX2SJLLdb+l9uSGBM8dmc9tC3Y3EuSCGUH7YxYffsjku8RxnHxUkebdV9zP2f7YG/Y31NtmWe0+DuK2nbeseM/NmRq9azYmpB4Fn12P/vvUU7ZKYqWLVuyO3fu8EMKRBjLzm6eyrobqzElNRP29YoLLImflBG2gc1wu8RSub+zQ+ezz3X6M+/EnGnSlWA/ye1/4nYOZXW0u7M1uTtKNtXWk4mLW/BwExs4cC3L2ZQyWfCc5kzN2I6JNyVZ9pMVyd3dnc2aNYsfqizesSfnvJlD5zpMRbsDW3qdK7F3h9j4emqskeNJbu/6XiYLndeSqekMY7vT+FEfkRyjtNqzX3KCgD1278G0LeaynE3+ILMzqs/sc4Kg6G2+qP3pu+Psx4ZqrJ7VGhYSH83O7v+PKdgmL9WrV69YzZo1+aHKgttWPfsyTYOx7K8PB4R37ND4ekytkSM7mRscLDN0HmuppsOG5QkOYZwn66tpwMbmfrhw+Y4XZRQ7leB4URhVVVWWlZXFDykyaTGTl5T9jRQZXLm1bT+fBReyr5Ggc4wKUzVr8FQaYYLPKQTM6QjV5AicuvIEGa9f5jztR9kII2eNRYMrvvAKFj9yLhnHj2Xh62ENoSy8j73+V/Hy1jYsWrAAC5b8jaSW3dGCxSNWAKjWqgN9lfro0r89DBv1xLC+5pKvy0tJTw86yrXQqksbyZV2zaZN0QCJiIvjZlDUckEZNfR0oKRuhlatxZ9Uhr6ZKWozQ7TubApVboxag4YwYs/x5KkQwvt74X/1JW5tW4QF3LIu+TsJLbu3AIuPlbFqWoQnAdtxTL0DvjTn7/lSbYox476C8MwO7JNUoX1UK6CkJPX2rveUa9aEnkoDdOj9OWpys9Tv7AyXwXXw+N9DOW8oMLsS1Dpw69SoThQ87SfCIzgBegMcMeHznGtGGgZ18KECQ9US349qB3XxA0fcp2FNxBf4yWMGWnFv/fR1pvgEz67jUmovLF4xBk0eb8TQr2fgn8KeuCCFSqMJ8DkVgDkdVZEccQpXnmTg9ctXktpPZaORmDW2Aa74eiFn0zmOY1lfY1hDbjdS5Lajilp19KFSvwv6tzdEo57D0Ndc5ut91ZuyCXpO34KT189go7Umzi1zgWc4Vxppodj4uxDjZnaBDv/WEitmf2Q0chbGNrgCX69g5BT3MWR9PQwNlYW4v9cfV1/ewrZFXFkvWIK/k1qiewuGeG5HKct+kpSUJhr2mAKvo34YX/cWgoJuQaCkClXxkw8+6sqWO65z+0E1/qEIxVFBowk+OBUwBx1VkxFx6gqeZLzGS/7ReEVt80XuT1VroY6+Cup36Y/2ho3Qc1hf0CZfnpSgmhMc3H95cLHBuLMJ+XTTVkaxwy0fHS8qmpT9DT/lA2Ektm9+hFFbF6Fr7s0mxaJzjPJTNRM8cXJkqI5rHguxPDAapm2bcCdBuTs6za5OmNY1Hrs37UfCq2M4pdwfg424VZEdhehYNbQetQyrVq3iXmvge+AUTu10QEtxhiXBJTklyEvESYzSh+8uerkKUP4ooeKGlVk2srIZt6jRiFVrjVHLxMvJvdb44sCpU9jp0FKSDBZPgGfi+6bF9yznWQC9puYwwgsuIc3ZSX8abTRvxiXO78T3bHwi5UaY7L0dE3WPwaV3K3w57QCeFrrigKxb6zF99T188ZMHZoizO86nrzMFl3UVy0fMR/LolZi7YBcu/OeGrgk+cFx0BCmieHh/Vxu6uro5r9rfwTteSuKnrA9D9WvwWLgcgdGmaNuESx8+nEBqoqvTNHSN341N+xPw6tgpKPcfDPGmI9O2U8wFAlI4daOucPJegSE1HuB2eDoifZZib+Q9+M6aiqlTp2L62hOIz4rA3vmOcPW7gXjv71D7fVnr1sZ33vEoWNrF7I80ue+c1hXxuzdhf8IrHDuljP6DjbhPZSMqOhZqrUdhmaSsV2GN7wGcOrUTDrmFXaL9JJFRbSvY9DNEWnIKhKqNYGaihLdv3uQ5hjC8SUmFkrEpTF5647va72NAF7W/84b0Td4Q6tc8sHB5IKJN2yLfJl/ENi/L/rREF/GIHKmikZkJlN6+wZs8x0n2JgWpSsYwbVD0EU8UX/GxQ8cLBZB3f8OPypGKy5vWI95uK1w78JcY6RxD4YhXW9UjCMeGYd9iZ00H/DT5G3ym/VGRqzTBuBlDoP6vB9Z7noPWtwNQSzxeWQ+6Wi8Qcv5mvr6EBJHXcPO1lEAtqeKWqwSU9XSh9SIE52/mW1JEXrsJ2RZVBfUbGEHp+R2E5a3hESd8aqYwb1L0ASCfQr+PIS39HdSbWvDDspE6O9ELxCpbYf35Wzi7yRqiwCmwWXKBvzf8I1l3sNHJDXfa/QSPGa0k94ZnpmeAffI6U2zCxyfwv7smaG2Zs8Ot2ckFni4d8epyCB6KjPDjwRdITk7Oeb04iB8le838BOEbMOzbnajp8BMmf/MZCm464zBjiDr+9VgPz3Na+HaAZMsp+22HADXMYW5iBBMTNeh1+gG2vZvD3Jwbx72amBpAU0kb9cyawKyeHox+PIgX78s6+QUO/ihOzD5S7P5IBU3GzcAQ9X/hsd4T57S+RU5xK0NPVwsvQs4j/6YUiWs3Xxe+OyBywaAGs6ZNoKrSFD2+bIh3MZF4/v7sS5SEyKjXMOjaE+1Mf8TBF+9jIBkvDv6Yc6KUjwDhG4bh25014fDTZHzzmXaBE6TCtvlPPwaRsqOCpj2+RMN3MYjMDQ4kRUbhtUFX9LQsunZD2Yhih+T4sL/hh8XdMd3zX43jny3A4m9ynq4pTvjeptM5hqIpuPYrKSETQXxrivg6gOj1eRy79BbqWuKnBAkQH/UUb1kWMsVVvrya37lgSsswbNitju/68E+qU2+Hfr3qImLjFLj+81SSPLy99yd+9gmHnvgRdZL5c99TVOWWUCR+Bz/AfYR/qo/4AkVxyyV6X5X2Pla5YfH3Cd8//1zy/dx/3KB6u37oVTcCG6e44p+nkiXFvT9/hk+4nkxP0xMfABrZ2KG/Xij27rnHLY2YEI8vXUPWgCkYZaYCpRr60GVxiIkSzz8dj8Pu4aUoG1lZ4uVRgqYGd5B4m4I33LpPS31fS5fFT+cIHuD4mTQMnDyCG1BCDX1dsLgY5MzuMcLuvYQom3u/ZHaayJndGzBRGj7M7j1BBHZ5H8VrFUN86eCNP1ws8epZzhM8xetYvJa5f8RvxN3NTlh5q+2HWzOBF/hr5wG8tfzUdaYosiGQxEZ+KoaN0UgnGnduv195StDQ1IBOoyaoL/59KipQVVXNeXF/5xBy61scU+K5ifD6/DFceqsOLfFj1QTxiHr6FiwrU3KLXo6a+M5lClqGbcBu9e/wftMpbtuRzJ/7nqI2HZJfVuJjRL3KvTFG+OgsbhlNxIQumqjXbRxc5szBHP7lMqYjDNRM0cdhDqYNbMq9WwUq78talfs7ZxYl3k9yO0q4TGmJsA27of5dH+QUtzra9euFuhEbMcX1H+RsSvfw588+CNfTh7Jk/sXsJ4lMBLGhOHYxCmn8MJJP4p9HvTBtdCOuTNXRdcI4tLr/H47zV8pFL//DiTtNMX5yP4jvmlJReR8DquLNPwd3PBGJyygnCHD+2CW8VdeSPElREB+Fp28ZsvIHgdRtvuhjUM78RRQE5SJbIN6u+QGeetcJGNfqPv47ztfei17ivxN30HT8ZPTLe0tdtkASDx+TGjt5jxdlFjviUx1J8NDxogxJi5mi9zdiAkTtnYe1UR1gZRyPsGvXcO1qMA6sdMfBRK606BxDsXArpZITsGcX/dj0TnpMpWZP5vrnFRaXGc429qvLVNWNWLvv7Nnyzc6sk5Ye++zbJex/8eLGmmJCluAziHWYHypp+PmeMP4/tvjr+kxDWZVp6RuyFgOXshPcZ4QJoWzntE6shooe6zjtd3b6kfjRBh/JjGL/Lfma1eXe02VWILv5/BH796ferI6KNms/PYiFvy58uQ6FnmTrh5sxVbVWzH57CHsWd53tdmzPtFTqsD6LDrI7cQ/Z/34dwIxV1Fk7xz3senw2i/9vMfu6vgZTVtVi+oYt2MClJ9iHn5dHYQ9ZEa+D+BNL2cC2XZntr97Md+NcZj/Nk4W+5meScYOt7VOPadRpxjp9/QNbumkG62Tcmg1f/A97lCFkL/fbsYaaRqzj93OYb2gSy7zkyizUDFmXUY5s/qrf2OKJQ5ndhhCWO7u1rE89DVanWSf29Q9L2aYZnZhx6+Fs8T+PWIbwJdtv15BpGnVk38/xZaFJH/2QzLPMtVMHZuu2lx0/sZctHmvHNt14x949Psu2TbJkmtx66r0giF27vJH1q6nCana0Y4uWLGFLFv/EXMb1YK3HH2DvxL9XxnWmqA9ZESZFsFO7XFnP2spMzcKOeR0MZTEfGklns0d/OrJeXUewpTv/Zgd3LmW2gyex3+/kaWWfl+AZu+g3nXXS49ZXT1f255U4lh3Orb+6qkzdqB37zn452+zciWnpfca+XfK/3PUkTGA+gzqw+aF5t5zCtp1slhC6k03rVIOp6HVk034/zaRtOhVN8R6yksFOOZkzDf0WbPCsNczDw50t+8WTnZUWrBzJgzOKfMhKafeT4uL2YYM6zGf5ilsYz/5b/DWrr6HMVLX0mWGLgWzpiXiWLct+soJVnoesCNmT3wez2tzxo8k3M9mqtSvZojlL2J7wvE80SGN3/CawfsN+Zrv+2sN+HWXFxniFcWOlEzy7yPymd2J6KjVZT9c/2ZW4TBa+sR+rq6rOjNp9x+yXb2bOnbSY3mffsiX/i+c/xZG6zReyP81OYKE7p7FONVSYXsdp7PfTjyQPAqoMKt1DVoRJLOLULubaszZTVrNgdl4HWWjuAYGl3fFjE/oNYz/v+ovt+XUUsxrjxcI+BIeQJUWcYrtce7LaymrMws6LHQyN4adJUeB48VT+sSPkzssqwfGiMFxio/gPWSk0Zorb33Blc2Qa+1xbSZyp5Xkps5rWfixO2qGJzjEqVBVI8AoheMuexyTwBzoBS46NZon5znMz2PkFdmx1eM6zevITsrSEKBaVkMb9JWfFLlcJCdNYQlQUS0grfEkLT/DeE7A3z6NZXKqUeXDzj49+wl6LH0iUmcpS8z2YSPy5Z+wlP06S4Gl2ZL/eecsSxJ/Jv21KCNPiWfST15Kn9mWmpuY87fI9wRv2/NnL/OM+ELBsbn6C1DgW+fAJS5Iyb5nJsM4U+imaxRC+S2SPwi6zGw+5OCtFAAvePmcxXOznDCSz2OjEPE/p42ScZwvsVjOpm05ZbjtlSCGfoil8y2JuhrDQ2zEs+VPivSgy7I8yzi9gdqvDuakFCdMSWFRU6eKsolSup2gKWFLUDXbp4mUWHpta6DYlTItjd2/cYtGlChQBe/s8htsf8kPJsSy6YBAUvs3LsD+tLCrnUzSLwZVP3N0b7FZ0cr6L2fJBsZNXpUjwiiTb/uZTVcdzjIqgJP6fuCav2kh7iohYdRjjIGas1YLb1rEwrlS355VcYGAguCRP8m9ZygqZi7a9T2P0tRAsavnhno5KKTQ0FDNmzJD8S3KkPY1ArLoxcHAG1mq5YetY4ypzj/fnn38u2UbE/xKxNDyNiEVOca+FlttWjK0iO8p169bh2bNnkn9J0aryNi/N69evJW1ak5KS+DGktKpb7IipqakhPT1d8i8pueoYM2Wpmq07IcLXDUObFiao2+svdJz1Q5VP7srT26exSBK+QHTUG34MqTKE4Vg3rA1amNRFr786YtYPtOOtyoTh6zCsTQuY1O2FvzrOwg+0o6x+aJsnpUWxQ0qKYkbuqtn6U8HnzrtwZG8QzoT8hekWJXhSJCmSKP4yzr6zwiqfpejx6n84djeFn0KqBJXP4bzrCPYGnUHIX9NBm07VpvK5M3Yd2YugMyH4a7pF1ehGhJQMbfOktCh2SElRzMhd9btFsxoqr1s0qxK6RbN6oVs0qw+6RZMUhm7RJJ+CbtEkioRqQAkhhBBCCCGkiqh0NXjiWqidO3fyQ0QWb9++RWpqKoyNjfkxpDgZGRl48eIFGjZsyI8hVVlMTIxk+1BXL7oDYFL5iWtnBAIB6taty48hJIdQKER0dLSkFo+Qknr06JEkdpSUPuq9m5CPTJ48GdbW1vxQ2ah0CZ54A4qIiOCHiCwuX76MK1euYNq0afwYUpzIyEjs3r0bixcv5scQQgghhBDyacTNQRo3bswPlQ1qg1cNUBu8kqM2eIQQQgghpDKiNniEEEIIIYQQUkVQgqcI0qNw8XI0hPygYkhH1MXLiC5soQpdZhFeR5xG0A4/7PsvHK/k9KPSoy7icuELU8iyls2yEEKIPKQ9CcPF4GAE531dvIJHSSL+HSWRhidhF/PPi3tdvPIIJZ6dIBG3/7cbPtuCcPVFwQ+Lkq4g8NAdZPDDZUuAqH+9sPW/mEKOkUKkPL6AgD9OIKo0+3jRa0ScDsIOv334L/yVgh2HCSGklMS3aJIKkhbFzv4+m/Uz1WYGY/9i7/jR8hYQEMBsbGz4oeKksaizv7PZ/UyZtsFY9tfHC1XkMqeyUPehrH3r9qy9hRHTVlZjxr2Xswtv+MmlkBZ1lv0+ux8z1TZgYwsuTBHL+mnLEhISwjp16sQPEUKInAmi2MY+OkxVXYvp6OjwL02mpt6Zrbwn4N8kO0HURtZHR5Wpa72fF/fSVGPqnVcy2WeXysL3LWA2/UeyxXuvsvgMfnRewji2f1wjpt3fmyXyo8qU8DnzG2rIjGx2sXghPy6P5NtBbGFfI6bWeDo7LW15i5IaytyHtmet27dnFkbaTFnNmPVefoF9wiGLEEIUAtXgVSRRTVjaOsLKVJGuGYpQ09IWjlam0q9kFrHMglve8Etxxomwq7h6Nwo3tg2G8rmVWLwjhptr6YhqWsLW0QrSV1Hhy1oWy0IIIfIiiDiCZ/2PI+FduuQpx+JX8gVXWHYYBOvPVPh3yUqAiCPP0P94At6l58wrNTUZF1wt0WGQNWSbXQourhwEq5+fY6TPHvzyfXsYavCTPhDhaaA7dj8UQj6N9wW4v90DB4vqdk7ZGOMPPEdsoC0MpZyx6LcagkkDPkNJ15j4u295+yHF+QTCrl7F3agb2DZYGedWLsaOGDpKEEIqN0rw8hJmIC2jkGRLlIn0DGk7fREEgpzPCDMzuUNGCejWhL6qNrQ1FOmRurqoqa8KbW0NSF2qQpdZhNcJTTF6Tk/UkkSVJprZzsBwMwGeP43LXS8ZV7BvzzW85QfzSr6yG4HXMvmhHLo19aGqrQ3pq6iwZZVxWQghpIIom9ri5zldUfvDUViAO3/9C9X+1mj2IVvJwJV9e3BN+g4TuwOvIWePqQxT258xp2vt3IO64A7++lcV/a2byZT8JB1biAm/RmHA+g0YYSr9E8LIP7Apojem9tQv1cmDIDMrzwU2EZLO/Qxb18OIy+ZHSYggFIrfJURmxvu9NfdtQmGez/IEGRC/pbCn0melZxR+y6XoNRKajsacnrVyfotmM9jOGA4zwXM8jaOjBCGkcivNPrrqSbkBvwUzsWCNFzxn9EUbq59wNC7nUCJ6FYwNDpMwb50PPH8dh749RmLlqXjuQJOOB4eXw7azObq7+mHT1CHo1doYBi3tEfAkEzH/zkOfhgaob7UEFyTzSkXEn1PQuZsTDsVUxYOHMur1G4weevygGBNCyPTRql0zfOhdjDuImsW6w2FtKFL4UWLJF93gsCEBZs0KXDIuBRmXhRBCKoiynj708h6BxQnZUSX0H9ICqvwoycUps1i4O6xFaP4dJtwcNiDBrBly9pjK0NPXy3dAF9z5C0eV+mNIi9y5FUr0BH+670RUo37okOgFVydnLHIPwI28jfey7mGbRywGOX+NGoUkVIURPf0LCx0WYftfgdg8fQCGr7sDQeoN7Pc5jHtvI3F0zWKsCryIK/5LYPeVBfos2Ial/c1Ru+7XWLpnM1xtuuCzb9bh8ftsLf0e/GdPwsw1W7F19XwsP5S3fZ4Qz09uxpLFS7Bs/hh0/bwXZh6Q0n5PuR76De6B/IcJIZh+K7RrRkcJQkjlRgme6Dl2/2iPU+0WYcWCWZj7mwva392A3wKeQiSKhf/k0QhqPBsr5zjBdcUOeI94hTU247DlgQaafTMQjTOfI/JOErq6/Y0LN/bhh3d7sH53NBoM+BnzBurhZWwm1OuIV7MuGtTQQZsJ8/FdIxkOuFVA5rWjCK5lj1nWtfkxYvro7OoFJ+F6OKwJkSR5yRdXwcFDDbO3uqBj3qOtHElfFkIIUQyCcC4hY99gSMv8xwf9zq7wchJivcMahOTsMLHKwQNqs7fCpdAdpgDhfx0F+2YIPpqddK+O40jwO+gY1IB+028xxqYt3gQ6oEdXJxx5JU7yMnHTaytSvndGT/2SnjYIcMt3Bf6tbY2Jo8Zg5nJHdFJ+B5Fue9j+0Ak1VJrg27nLsGBEV3S06Q6tx1GIuPkGA/44i393/oyxNuPRVTsasenvbwp9jcMzh2JLzZlwX+gM559+hd0Xmh/u4hA+2oIp67MwdskvWL7pT6z/NgFe05fgn7wJslSZuHY0GLXsZ4EOE4SQyq7aJ3jCx/7wOtEYA76tm7My9AfD+/ZTHHJqBDwJwPZj6ujwpTl/i4sqmo4Zh6+EZ7BjXwSgpAc9HWXUatUFbfS5yZpN0bQBkBgnvg1QF32nT0SbqADsOJ/OTUzCv8cZvhlev3qsdGEktm9+hFFbF3EHZ37cB/roMs8bM0TrMHHqVEzarAoX79llltwVvSyEEFLRuITswFGIvrFGKykJmX6XefCeIcK6iVMxddJmqLp4Y3ZRO0xBOA4cFeEb61Z5agMLJ4h/hvhsTfSasgSjuluiba/xWOfthOaRflj/ZyzSQjfid+E4zOyiw3+iJLhjpFEdRHnaY6JHMBL0BsBxwufS76RQrYU6+iqo36U/2hs2Qs9hfWGurgGDOjU+JHCiuCB4BqqiV38L/repo2EDQ/64KsT9vf64+vIWti1agAULluDvpJbo3oIhPrboO2eEkdux+dEobF3UFXSYIIRUdtU+wct+8ADRylrQzLMm1GvVltw6I3j2FHECIYSiPM3J9ZrC3Ah4wSVxBSgpSdoCvO86XrXleNj3fI2//P7F67iDOK8zCANq5Uyr2lJxedN6xNtthWuHwk4I9NCiuwUE168j26IbmpdVcifTshBCSAWSJGQC9Le2LDQh02vRHRaC67iebYFuxewwBeEHcFTQH9aWsqR33KFLVw86Sow7duXekqnaogu+qCdAzMNg+Czdi8h7vpg1lUswp07H2hPxyIrYi/mOrvC7WVyTA2U0muyN7RN1ccylN1p9OQ0Hnhb9iBalwhrVcbIjbuN+hhZ0dKW9JxtR0bFQaz0Ky1atwirutcb3AE6d2gmHoqoyUy9j0/p42G11BR0mCCFVQbVP8JT19aHzJgSnQtL4MWJpiHzwFKjfAEZKz3EnLC5P425xwqcGU/Mm/HARlBvi+8nfAUf94LHtBgyH9aoGVwYzcc9/NY5/tgCLv3l/VTUVb1Mlf3yQHLwajj4GWHryOBZqbcIUt0tI5qfJj2zLQgghFUlwl0vIsqwKT8iSg7Ha0QcGS0/i+EItbJrihkuF7jAFuHvgKLKsrCFjfgcVky9gWV+E2CfPuE+/pwUtDRXUNmiATj/Yondzc5ibi19NYGqgCSXtejBrYoZ6OoUnYzlEeBGrDKv153Hr7CZYiwIxxWYJLmTxkyXytPUrhpKmJjREz/Do0Tt+TF7K0NPVwouQ87iZ93ldgkhcu/la+rdk3oP/6uP4bMFifPP+MZ2p0p5qQwghlUe1T/DU2w3CN42ewG+GE/yuJSJT8AqXPRdhT5Qu1BvZwK6/HkL37sE9/qgnfHwJ17IGYMooM/EQRNwR48O1SPGDPMRHkPdVeJxaA6fge4P/4H7GFCPaSTvaZkMgYnJ65LT8ZAtEeX/GRwpbZgGi9s7D2qgOsDKOR9i1a7h2NRgHVrrjYGJuE3fxA1Wm+ehhnpcT2umK2+R5w0VlI6asuig9ycsWQFT4whSyrLItCyGEVCwuIdt/FBlcQtZO2n2L4geqTPOB3jwvOLXTlbTJ83ZRwcYpq3BR2g5TcBf7j2bAyrpdvtsgs+4H4pe5q3E4SkqNm0Y32Nm2xMND+3GPT7xEiXcR8aYtrId0QbdxLpgzZw7/csGYjgZQM+0DhznTMLCpinjmCPxlLlYfjsqTIL4nQMQubxx9rQLDLx3g/YcLLF89kzw5U0lTg1vGt0h5wyBKE195E9cict/NHUtzMQiF3LCIO75yQ+pt+uOr+q9waLMvwiU9rWcjITEJoqwMvGPqaNevF+pGcMcT13/wVPxb3t7Dnz/7IFxPypM/BVHYO28tojpYwTg+DNe448TV4ANY6X6QfwMhhFRSfH941VpSyAY2vJkuU1FSZmq1WrFRHlfYW36aMP4EWzqwLetq+yvz9t3I5tpPY56hr5mQZbKo/5awr+uqML0us1jgzefs0b8/sd51VJh2++ksKPx9V6nZ7Pbyfmy4byz3mfyESRHs1C5X1rM2970WdszrYCiLKYPezkvU0bkwiUWc2sVce9ZmymoWzM7rIAvNs1CFL7OQJRyZxj7XVhKnWnleyqymtR+Le//j084yt5me7EYqP/xBMgtxn8pWnsu7AoQsKeIU2+Xak9VWVmMWdl7sYGgMP41T6LLKuCxFoI7OCSHlIvsmW9KhJZt1PpMfkVcaO+s2k3kW3GGy5BB3NnXlOfbxISP75hLWoeUsln92QhazxYrpcce4uuP+5sd9JC2MeY1qz7qMcWP++/3Zr7YDmf32cFaw7/Bsdn2RJdPJ09G5MGYLs9JTYsp1x7G/P14g7lh51rUT62DrxvYeP8H2Lh7L7DbdkCy38OV+ZtdQkxl1/J7N8fmXhe6cxjrV4I6pHaex308/Yqncux6f3cYmWWoylTq92YKgMPZSKGSJZ1ewb810We1mPdiAEZPY7JFtWZ2mfZiDxwUWlx3P/lv8NauvocxUtfSZYYuBbOmJ+ALHXyZMYEemfc60lfIeI7iXck1m7RfHv4kQQionJfH/uJ0aQRZeP4kHMzRFHSlP6he+jcOztBpoaKRT8mrPjFSkqupCV8bbZeQtMDAQXJIn+ZfIJjQ0FDNmzJD8SwghZScVcY/fQtfMOH+3CaWVGofHb3VhZpy/2wTxMS45Yht+2dcB65d05scVlPnqESKeKaGhhTlql6C3gKzkCGz7ZR86rF6Czh99TigQQEUpE/ExcciubYaGNXMPhuJja3xWHdSvU4IvExNlIDEmFqJ6jWHA0iHQ1YUmP0lMlJ6IJ4lAPdN60K729yoRQqob2u19oI7aptKTOzEVPWM0Kk1yJ6ZZcckdIYQQRaYL4yZySu7EdI3RpEByx3kbjn+CAGvHjvwI6TTqNIWlZcmSO27mCM+ZOTpK+ZyKKncAVNGBUZOm+ZI7MfGxtcTJnZiyJuo1NoeRjjJUP0ruxJTFbQTNKLkjhFRPtOsjhBBCqjqt5hg+fxq+qlsWh30tNB8+H9O+4rsbIoQQUqFoX0wIIYRUdara0C6zO0lUoV12MyeEEFJClOARQgghhBBCSBVBCR4hhBBCCCGEVBGV7imau3fvho+PDz9EZPHu3TvJq3bt2vwYUpysrCwkJyejXr16/BhCCCGEEEI+zfTp0zFixAh+qGxUugTv6dOniIqK4oeILM6fP49z587hp59+4seQ4kRERGDr1q3YsGEDP4YQQgghhJBPY25ujvr16/NDZYP6wasGqB+8kqN+8AghhBBCSGVEbfAIIYQQQgghpIqgBI8QQggpgZQHZxHk5wv/IzeRKORHlloKHpwNgp+vP47cTMQnz67SyUDC7WPY9ed5JIj4UWVIEPUvvLb+h5hCVrQw5TEuBPyBE1GlKQkRXkecRtAOP+z7Lxyvql9hEkIUBCV4hBBCiEwyccdnMuwW7cLJ4H+w1q4z2g71waPSnshn3oHPZDss2nUSwf+shV3nthjq86gaJXlZiDq9E0sm2sDe/TRelHmCJ8KLs9vwyy/eOP9Sypel3MHfa6ZghO1SHIoR8CNllYbL62xgNdIVbmsWYmL/dmjdbwWC3/KTCSGkHFGCRwghhMhAGBOE/emT4R/gCy/fgzjjNxoqx3dgf2RpUjIhYoL2I32yPwJ8veB78Az8Rqvg+I79KNXsKiV1NO5tj0lWZlDhx3wKwf3t8DiYxA9Jowzj8QfwPDYQtoZSTn/0W2HIpAH4rBQLI7jlDb8UZ5wIu4qrd6NwY9tgKJ9bicU7Yri0khBCyhcleIQQQogMVOoOgatzJ+jyw7om9WFg2AwtDPNkBBlXsG/PNUiruEm+shuB1zL5IRXUHeIK504f5gaT+gYwbNYCeWdXgECAnLolAdLTsyR/5RAhMzPvcC5BWgpSpU+SnUgIoSRTEXLfU0jtligT6RmFpzOizHRIm6yirAIl/m+ZCTKRlWdeoqRz+NnWFYfjsvkxYiIIJQvNLXNG7jIrc8M5vyUvATLE71EqZEmyuGUvNPEW4XVCU4ye0xO1JGdVmmhmOwPDzQR4/jSOLy9CCCk/lOARQgghstDWgTb/J7KisX9HNIbucscgfX6cmGYzmMW6w2FtKFL4UWLJF93gsCEBZs00+DHi2X2YGze7/dgRPRS73Ach7+zey4r6D+5TvkJTyx/h/cdiTBzSF+0aGKPjTycRfnQVfhz5Lbo0NkLLSUGIlSQvXNJx4TdMGL8Avn8FYtWILhjkfgXp3PjEK35w7NYAdRt+hzXXnuP+Dlt80X0KPM89LXB7qOjVFexcMApdm/XF3K0/YUiHz2CkXwdNB63E+Vc5WZLoVTA2OEzCvHU+8Px1HPr2GImVp+K5b5JMxavgDXCYNA/rfDzx67i+6DFyJU7FF8iwZCN6ir8WOmDR9r8QuHk6BgxfhzuCVNzY74PD994i8ugaLF6xHYE7l8DuKwv0WbANS/ubo3ZdK6y7cBKerjbo8tk3WPf4/S9Nxz3/2Zg0cw22bl2N+csP5WufJ3x+EpuXLMaSZfMxpuvn6DXzgJT2e8qo128weujxg2KMSyKZPlq1awZ1fhQhhJQbcTcJpGoLCAhgNjY2/BCRRUhICOvUqRM/RAgh7wlZ7NnNbGp3Y6ampMZMvl7BLiTxkz5IZpfcvmejVl/i/mIsKXgl+/6Htezym5yp+Qhj2dnNU1l3YzWmpGbCvl5xgRWYnYSQPffoyzS0v2RLLovnKmQJvw9iNbSasfF7o1g2Nybj/CzWTLsnc38sYEzwmLn30GYWcy+xTG7au4N2zKi+PTvyTjwvbvj6r6xLjfps1J6bLHDGRLb5rngO0r37dzJroGbMrD1usiRu1skhy1iPmmqs+axz3GI8YzuHmrJubncZN4mTzR5u7MP0a/Vjm+8LuMk72VDTbsztbs5Ulv2Qbeyjz2r128y4yeIR7PoiS6bV/hd2u/BF+CD7xmLWvu0Cdlny3iR2yG09uyz5gYfZRGNNZuWVIJ7ADR9nPzZUY/Ws1rCQ+Gh2dv9/7BH3vjcHxjJDja5s9cOc5Xn1zyTW/Mtl7Bb/3e/OcetQvTGbfjqDW4cP2aaBA9la/r2ZwXNYc2492P0lXv9Fy+De27b9fBacxo8ghJByRDV4hBBCiMyUYdJzOracvI4zG62heW4ZXDzDP6r50keXed6YIVqHiVOnYtJmVbh4z0bHvDU87ymboOf0LTh5/Qw2Wmvi3DIXeIYXqCLiKKOGng6U1M3QqrW4jk8Z+mamqM0M0bqzKVS5MWoNGsKIPceTp9znVRphgs8pBMzpCNXkCJy68gQZr19+eLKjZrs52DzLGIcdB2G3+VxMtRDPQTrlmjWhp9IAHXp/jpoq3K/r7AyXwXXw+N9DED0JwPZj6ujwpTnfjk4VTceMw1fCM9ix7y6eBGzHMfUO+NKcv+9UtSnGjPsKwjM7sC+i5DcvKtcyQp0oT9hP9EBwgh4GOE7A59KqyFRroY6+Cup36Y/2ho3Qc1hfmHPv0zCogxrv78IUxSHIMxCqvfrj/c9Xb9gA75vnCe/vhf/Vl7i1bREWLFiAJX8noWX3FmDxsUXfdimMxPbNjzBq6yJ0za2kJYSQckMJHiGEEFJS6kbo6uSNFUNq4MHtcLxvWZdLDy26W0Bw/TqyLbqhubTkLg91o65w8l6BITUe4HZ4wblJpayUv+0aN6zMspGVzcQD0DdUxzWPhVgeGA3Ttk2gA8b9954mvvhxMnoI4xB28z5el+iOSW00b9YQyu/SIXj2FHECcZu23DlDrynMjYAXcc/wTNwGTShE/snmMMILxMVJS2SLptxoMry3T4TuMRf0bvUlph14muc3FaRUWJs6sewI3L6fAS0dXaltALOjohGr1hqjlq3CqlXca40vDpw6hZ0OLSUJtXSpuLxpPeLttsK1gw4/jhBCyhcleIQQQkip1IC5uQmMTEwKnPAnB6+Go48Blp48joVamzDF7RKS+WmFqmEOcxMjmJgUnj7ITBCODcO+xc6aDvhp8jf4TPujFEb0AkfXXUH3FWOhvHsWFv77mm8zJwuGtPR3UG9qAZX6DWCk9Bx3wuLyfF6c8KnB1Lwp6jcwgtLzOwiLyzN3ccKnZgrzJiX/naIXsVC2Wo/zt85ik7UIgVNssORC/ifIyPw7lDShqSHCs0eP8I4flZeyni60XoTg/M28CbcAkdduFpIQZ+Ke/2oc/2wBFn9jyJ9gpeJtquQPQggpN5TgEUIIIbLISsTjqFe5t+cJH+HsLSNMnNAl34M0xA9Umeajh3leTminq4/Ort5wUdmIKasu5kvyshIfI+pV7s1+wkdncctoIiZ0kf5YDtH7arD3yQU3zLgBoZAfz8TD3H/coOj1eRy79BbqWhpQ4pY4Puop3rIsZGaI3yhCwsFlCDRxxtxpblg3RgT/WQtxrMhqvCxkZfHfI3iA42fSMHDyCKg0soFdfz2E7t2De/xPET6+hGtZAzBllDka2dihv14o9u65x683IR5fuoasAVMwyizntk0hE4mfB5BTE5d1H4G/zMXqw1FSb4MUROyC99HXUDH8Eg7ef8DF8hWeiZ+cySVrGtxqe5vyBkyUhtR0fj2w/LWEjEsuufRSnGMC6m3Q/6v6eHVoM3zDJSsG2QmJSBJlIeMdg3q7fuhVNwIbp7jin6fiJPIt7v35M3zC9aBf4OxJgKi987A2qgOsjOMRdu0arl0NxoGV7jj46b3hE0JIiags5fB/kyrq7t27CA8Px8iRI/kxpDixsbH4999/MXnyZH4MIaS6yzy3AF9+aQ/vK4l49/oRQo9fhdaY5ZjRqUbuLX7p57BxUwrGrZuGth/u0NNEg279YHplPQIFfdGjkbjmKhPnFnyJL+29cSXxHV4/CsXxq1oYs3wGOn1oJJYrI+oMtnn64NidZOg2bo/2xi/w71Yv/Hn5ETL1WqJDSxWE7fDE9lO3kaLTHJ27dYRG2B5s3boNBy8/gMCcS2T+O4iTYWnQwyksnn8DXRZORk8jXWikXkOQ3y78dVWA5t26oVnt/DVrwmcnsHV7MGJfxyDy0T2c37kTj/usx+YJzaGlrA/LPl9A+N8GbDj2EsKkMAQFRKH76vWYaKENZX1L9PlCiP82bMCxl0IkhQUhIKo7Vq+fCAttEWIv+cNzy58IfZQBnSat8bl+MJaMW4RtR5LwhdNQtPiokk8Ycxg/LwnEa309ZNz9F6dSBsB1dncYqesj8+YueO4+hvAELpF9dgqBBy7jQZIyjD9rjmZmtSGKOgf/LVsRcC0aWbqfoW3b1ujyVXuoXtuOZb9uw//OnsflF8mIv/cSGaoaaNr1e4zoxnBlzyasWrka67cE4n6TaXBzag+9fEUkQuLRmfjG1gPHj++Fr48PfMSvbTtwXG8c1v34BXSl3QNKCCFlREn8pBX+b1JFBQYGIiAgQPIvkU1oaChmzJgh+ZcQQnKIkPrkDsLjuaSheQuY6n/irZSiVDy5E454ZWM0b2GKT51dAcJUxMWmQ9+0HrQhRMrzZ8iq0wh1c3tqkElWyFy07X0Go6+ewhTdJKjVb4haUpZV+DYOz9JqoKGRjpTbg4R4G/cMaTUawkin6JuHspIjsO2Xfeiwegk6f1yZKRRAoKKEzPgYxGXXhlnDmrm3xwrfIi4+C3Xq1ylh1wQiZCTGIFZUD40NGNIFutDV5CeJidKR+CQRqGeKetp04xMhRPHRnooQQgiRiTJ0Tdugc6dWn57ciSnrwrRNZ3RqVQbJnZiKLowlyZ1kAPomJU/ucjFASQv1GklP7sRU9IzRSGpyJ6YCPeNGxSZ34tsgw/8JAqwd0VFalqaiyiV0KtAxaoKmeZM7MRU9GJc4uRNThma9xjAXL7vqR8mdmLI26pmZUXJHCKk0aG9FCCGEkEK9fRqLJOELREe94ceUJS00Hz4f076qSycohBBSSrT/JIQQQohUovjLOPvOCqt8lqLHq//h2N0UfkpZUYW2dllUZxJCSPVBCR4hhBBCpFI26oRh4+wwfvx42I37Af1bijtZJ4QQosgowSOEEEIIIYSQKoKeolkNHDp0CKdOncKGDRv4MaQ4V65cwezZs/H27Vt+DKnK4uLiYGBgADU1NX4MqarevHkDoVCIWrVq8WMIySGOC/G+oEGDBvwYQmT35MkTNGzYEEpK1CcGKdqcOXMwZswYfqhsUIJXDVA3CSUn7h5h6tSp2L59Oz+GVGXDhw/HmjVrYG5uzo8hVdWuXbuQkJAgOcASkldKSgq+++47nD9/nh9DiOw6dOiAS5cu0YVCUqz69eujbt26/FDZoASvGqAEr+SoH7zq5fPPP5dsI+J/SdW2bt06PHv2TPIvIXm9fv1acpEnKSmJH0OI7MSJXXp6OiV4RCFQglcNUIJXcpTgVS+U4FUfpU3wskI94bQlFO/yHDFVGg6G3wobfogURhC+E3N/O4mXIn4ER7lmL+zYZM8PKQa5JXhZofB02oLQ/MGCwUuWwcZMhR9BpBKEY+fc33Ayf7Cgl8s62LdR7KeryiXBo9gpvUocO2WBHrJCCCGEFEMQcw6B517AoHETNGmS82rcoDY/lRRFSdsApvw6k6w3nac4ceASP7UKEsTgXOA5vDBo/OE3N2ncALU1qG1WsZS0YWCaGytNGuvg6YkDuPRMyL+hiqPYKb3qHjsfoRq8aoBq8EqOavCqF6rBqz5KW4OXHvA9TDd3QOgZV5jL6UJ6etRF3FHqjE5yuTKfjqiLd6DUuRNKNzsBEm//hxOXnkLjiyGw6fBR+xBREq7sPw+tQYPRSpMfV0qCqz+h/bAE3Hziy49RDHKrwUsPwPemm9Eh9Axc5RQsihUrXBkm3sZ/Jy7hqcYXGDKsA+rmqy4QIenKfpzXGoTBnx4s+Kn9MCSsegjfbzX4kYpJLjV4ZRA7XPDg4h0ldO5kBrlEzyfGIsVO+aAaPEIIIaQcpUefw/Y5VrBoZQ2PsGx+bGmlI/rcdsyxskAraw+UZnZpdwOwcMR3cApKQQvrcQWTO+6kK/5vZ4wYvwUX6cHC5UrRYoULFgQsHIHvnIKQ0sIa42w+PkEXd47/N5xHjMcWCpaKlR6Nc9vnwMqiFaw9wvDJ0fOpsUixU64owSOEEELKkaimJWwdrWAqlzuHRKhpaQtHK1OUZnYpF1dikNXPeD7SB3t++R7tDQte6RY9DYT77ocQ0v0+5U6RYoULFqwcZIWfn4+Ez55f8H17QxSIFtFTBLrvxkMKloonqglLW0dYySd4Pi0WKXbKHSV4hBBCSDnSrakPVW1tFNasJuPKPuy5Ju0KdjKu7A7EtUx+UEIXNfVVoa2tgRK30kk6hoUTfkXUgPXYMMJU+u1bwkj8sSkCvaf2hD6dMZQ7hYkVJOHYwgn4NWoA1m8YAVPpwYLIPzYhovdU9KRgqXi6NaGvqg3twoMH+/Zcg9ToubIbgfmDp9hYLBzFTkWgtUgIIYQoEM1mZoh1d8Da0BR+jFgyLro5YEOCGZrJpTmJCE/+dMfOqEbo1yERXq5OcF7kjoAbSdyU97Jwb5sHYgc54+saJU8JSNkrn1jhouXJn3DfGYVG/Tog0csVTs6L4B5wA0l5HliYdW8bPGIHwfnrGqVIIEm502wGs1h3OKwNRb7ouegGhw0JMJNT8FDsVAxK8AghhBBFot8Zrl5OEK53wJoQ8akXd8K+ygEearOx1aUj9HLe9Yle4fiRYLzTMUAN/ab4dowN2r4JhEOPrnA68kryjsybXtia8j2ce+rTyYKiKpdY4aLl+BEEv9OBQQ19NP12DGzavkGgQw90dTqCV+IT9cyb8Nqagu+dqaa38tBHZ1cvOAnXw2FNiCTJS764Cg4eapi91QUd5RQ8FDsVg1YlIYQQomj0u2Ce9wyI1k3E1KmTsFnVBd6z5XfCDkE8nsVnQ7PXFCwZ1R2WbXth/DpvODWPhN/6P4G0UGz8XYhxM7tAh/8IUVBlHSsQIP5ZPLI1e2HKklHobtkWvcavg7dTc0T6rcefsW8RuvF3CMfNRBcKlkpGH13meWOGaB0mTp2KSZtV4eI9W27JHcVOxaEEjxA5ET45gJ8njMO4cTmv8TO347aAn1idieJwaOnED+tlnN10+Nyo5CtG+AQHfp6Q+5vGz8R2KmyOCHGHlmLi+/Uyzg7TfW7w00iJ6bVAdwsBrl/PhkW35nI8Yeco6UJPRwninpI+3Cml2gJdvqgHQcxDRPosxd7Ie/CdNZVLGqZi+toTiM+KwN75jnD1u8l/gCiMsowVKEFXT0fcrxZYbrCgRZcvUE8Qg4fBW7F0byTu+c6SxMrU6WtxIj4LEXvnw9HVj38/UVx6aNHdAoLr15Ft0Q3N5bujodipIJTglQPR6wicDtoBv33/IfyVfJ5mVJGECXdxKTgYwZLXGfx9Mhz5m+LmEPd18r/dPtgWdBUvPmzYJSVEwt1L/HdxrzN/42S4lG8TJOL2/3bDZ1sQrpb+yz4JS7qJYw8NMczODnbca9yIL1GftjBuL6OPNgPHStaJnd1otE45jZCnlTwZYkm4eewhDIfllLXduBH4kgqbowz9NgMxlt8GRrdOwemQp/w0UjLJCF7tCB+DpTh5fCG0Nk2B26VkfpocqJjgC8v6EMU+wbM8m6OWlgZUahtAr9MPsO3dXNIvnPjVxNQAmkraqGfWBGb16FK7YinjWIEKTL6wRH1RLJ7kDxZoqNSGQYPO+MG2N5rzsWLexBQGmkrQrmeGJmb1+DcTRZUcvBqOPgZYevI4FmptwhS3S1xEyQvFTkWhM5IylnZ5HWysRsLVbQ0WTuyPdq37YUVwJe7fQ/QCQTN7o3v37jmvnsPxx3MD5OvWU4a+TmQlehGEmb357+JePYf/gecGeb8tDXcDFmLEd04ISmkB63E26FDaL5MD5VqfoVvfvujLvfp0t0Bt2sI42jDr2FuyTvr27Y1WhqV5gpsCUq6Fz7rllHXfPt1hQYUtoW3WEb35baB3K8NSPHGtmsgWQMQKexy4+CEZ0+CjNw9eTu2gK25n5e0ClY1TsOqi9FOvbIEIBWaXdR+Bv8zF6sNRKHhJRQPd7GzR8uEh7L+XlTNKlIi7EW/Q1noI6nUbB5c5czCHf7mM6QgDNVP0cZiDaQOb5ryflI/yiBVk4X7gL5i7+jCipFx/0+hmB9uWD3Fo/z3unWIiJN6NwJu21hjSpSfGueTGyhyXMejIHadN+zhgzrSBkneTipINgYih0Oi56IZpPnqY5+WEdrriNnnecFHZiCmrLkpP8qTGIsWOIqIzkrIkuAVvvxQ4nwjD1at3EXVjGwYrn8PKxTsQUzGVTJ9MeP8PHG3gj9fZ2cjmXoKsFzgw1jA3kGTp60RmQtz/4yga+L+WfFc2t2PJenEAYw3ff1sKLq4cBKufn2Okzx788n17SOnCqRJIwYOzQfDz9ceRm4ml658or5QHOBvkB1//I7iZWPq5FV0DK0LSlUAcupPBDxNZpTw4iyA/X/gfuYlPKJ4P5DK/YmrARUlXEHjoDqi05UGE5PunsWfzftzMfoOrf+/AoctP+Gk50s95I6CGK7ZMb5vb/k1y4j4bGv5eOJ+3IETJuH96Dzbvv4nsN1fx945DuPwk5w2i+FPwdV+LhROX4oiUwlPvMB9+q5vi0JSJWL37AHavXIijpmvw++zW/DtIxSq/WOGCBad83bF24UQslR4smO+3Gk0PTcHE1btxYPdKLDxqijW/z0ZrVf49RKGIku/j9J7N2H8zG2+u/o0dhy7jfXFLpJ+Dd0ANuG6Zjra5wSNJ8mZr+MMrf/AUHosUO4qJVUOCd6nsnYAfyEfIMtLecf8vSJidzSQfEWSwjGzJqGIJE46zg+fe8ENimezsDHOm3sKVXcrkR5WDgIAAZmNjww99ilR2wrE1a2XtzFb4HmW3X368El+z/zk2Y5pmk9iRJH7Ux95dZnt3X2V518p7SZf9WcDVDH6Ik3qCObZuxaydVzDfo7fZx1/3+n+OrJmmGZtU6JeVXkhICOvUqRM/JJvssMWs83feLJEflknGbeY9yZqNsHdg9oMtWR0NYzbI+2FOrJVCxm1vNsl6BLN3sGeDLeswDeNBzPthCeeWGs72LbBh/UcuZnuvxrM8JfKBMG4/G9dIm/X3LtGv5WSwo1PasYkH3/HDiqFly5bszp07/JAMssPY4s7fsZL9/Ax223sSsx5hzxzsBzPLOhrMeJA3K2nx5JLH/FJZ+L4FzKb/SLZ471UWL72w2f5xjZh2/xLGNifj6BTWbuJBfkgxuLu7s1mzZvFDskvbN5LV6b6GPSp1eVWMzKR7zMN5KQsp6piT8ZI9DAtjj16Vz4Ep+8pC1qahPT+kOF69esVq1qzJD32CtH1sZJ3ubE3lCxZ2z8OZLS06WNjLh2Es7NEr7oymHGRfYQvbNGT2R6TtnBSLqqoqy8rK4odKiWJHfipR7JSFalWDl3LDDwtmLsAaL0/M6NsGVj8dRZz4YrXoFYI3OGDSvHXw8fwV4/r2wMiVpxDPTUt/cBjLbTvDvLsr/DZNxZBerWFs0BL2AU8gFMTg33l90NCgPqyWXMiZV2oE/pzSGd2cDuFp7X4Y3CNva1UGoZBBv1U7NFPnR31ElHgFfo7d0KBuQ3y35hqe398B2y+6Y4rnOTyt6OZ7WfcQnlQHamF+WDp5INo27Ygpex7xVe7cssvQ10lJ+l3JuheOpDpqCPNbiskD26JpxynY8+j9rURP8Kf7TkQ16ocOiV5wdXLGIvcA3Mj3ZYpOiJig/Uif7I8AXy/4HjwDv9EqOL5jPyJLU9bCGATtT8dk/wD4evni4Bk/jFY5jh37I2WvFZSlBlb0FIHuu/GQi2UiO2FMEPanT4Z/gC+8fA/ijN9oqBzfgf2lKmx5zE+WGnARnga6Y/dDYaG3+BBF9hbh/wQB1o7oWMgxR0KjDppaWsK8dlFvIlXd2/B/EARrOBYdLKjT1BKW5rVB0ULeo9hRPNUmwRM9340f7U+h3aIVWDBrLn5zaY+7G35DwFMBYv0nY3RQY8xeOQdOriuww3sEXq2xwbgtD6Dd7BsMbJyJ55F3kNTVDX9fuIF9P7zDnvW78UipEQb8PA8D9V4iNlMddcRrU7cBaui0wYT536HRx1XPmddwNLgW7GdZozY/6mPK9TpiwjoPODR9g7AbD/Dy9g1oTNyGLdN6oqHU3v/LkXoHzNxzGtej4xF5dismN3+C7ZN/wKobOUlXsX2dSMje74p6h5nYc/o6ouMjcXbrZDR/sh2Tf1gFyde9Oo4jwe+gY1AD+k2/xRibtngT6IAeXZ1wJPfLFJwK6g5xhXMnXX5YFyb1DWDYrAUM85R1xpV92HNNWrvNZFzZHYhr7585o1IXQ1ydkTs7E9Q3MESzFobcN8kiCccWTsCvUQOwfsMImEr9kBCRf2xCRO+p6Ekd1pSISt0hcHXuxJVyDl2T+jAwbIYWeQsbGbiybw+kF/cV7A689uGBRrLNr3BJxxZiwq9RGLB+A0ZIL2wII//ApojemEr9oFVSWmg+fD6mfVWXyo8US6v5cMyf9lWp28yT6otiR/FUk6IQ4rG/F040HoBv+ejTH+yN208PwanhMwRsP8YlE1/CnD/HUW06BuO+EuLMjn3ckBL09HSgXKsVurTR54Y10bRpAyAxDnHixqS6fTF9YhtEBezA+XRuOOlfHGffYHiBJ+pxJ8bbN+PRqK1Y1FWbH1cIzXaYs3kWjA87YtBuc8ydagHFuk1ZEw17TIHXUT+Mr3sLQUG3ICi2r5O8SVcJ+13RbIgeU7xw1G886t4KQtAt7tvinyE+WxO9pizBqO6WaNtrPNZ5O6F5pB/W/xnLf1DxaevkxkJW9H7siB6KXe6DuDWUS7OZGWLdHbA2NF+dJy66OWBDghlyKz21kTu7LETv34HoobvgPijv3AonSw1s1r1t8IgdBOeva1SNB6WUJ20droR4WdHYvyMaQ3e5I3/xaKKZWSzcHdYif3FfhJvDBiSYNcutUZVpfoWQpQY86x62ecRikPPXqEGFXUmpQlubGrkQ2ahqayvYuQapLCh2FE81SfCy8eBBNJS1NPP8YHXUqq0HZcEzPOUyNaFQlOcWJD00NTcCXsTxw3kpQUmJO9v58BQhVbQcb4+er/+C37+vEXfwPHQGDUAtfup7qZc3YX28Hba6dpCp01jNL37E5B5CxIXdxP3Xn1Yjpa6uDiMj7vfIW20r2PQzRFpyCpe+Ft3XSWT0x49WKnm/K7WtbNDPMA3JKdy36epBR4n7rtwvg2qLLviingAxkdH8mNJTUVFB48aN+aEyJnqOcx6O6Nt1LDz3eeNX748eUSxuMO/lBOF6B6wJkdR54uIqB3iozcZWl4Kd2Yqen4OHY190HeuJfd6/wlvGx2UXWwObeRNeW1PwvXNPVLXKu88++wzKyuXxo0R4fs4Djn27YqznPnj/6o2Pi0e/syu8nIRY77AGOcV9EascPKA2eytcClwFKX5+UhVbA56Jm15bkfK9c5WrqdXR0UGtWh/voQnhju7csb1Nmzb8ECEl0759+5zzQ0IUQDVJ8JShr6+DNyGnEJLGjxJLi8SD50ZoYKSE53fCctrQ8cQJn5qpOT9UNOWG32Pyd8BRPw9su2GIYb3y19Bl3vPH6uOfYcHib/D+AZCpb1Nz/pBKhBdH1+FK9xUYq7wbsxb+i0/J8bKyshAfH88PyReDGsyaNuFSuWL6OjHIfwtY6fpd4ZJqNTM0bcJ9m8kXsKwvQuyTZ3ke/60FLQ0V1DYw4IdLTygUIioqih8qY8om6Dl9C05eP4ON1po4t8wFnuEftaPS74J53jMgWjcRU6dOwmZVF3jPLpjciSmb9MT0LSdx/cxGWGuewzIXT3w8u4KKq4F9i9CNv0M4bia6VMEusB4+fAiR6BM2Mpkpw6TndGw5eR1nNlpD89wyuHiGF2gjqd9lHrxniLBu4lRMnbQZqi7emC21ilu2+X2suBrwtNCN+F04DjOrYGGnpaUhKSmJHyIkF2MMt27d4ocIKZlr165JYogQRVBNEjx1tBv0DRo98cMMJz9cS8yE4NVleC7agyj9JrCx6w+90L3Yc49PFYSPcelaFgZMGZUzKD7x+7DNih+UIj4RzNuvSC0MnPI9DP5zxxnTEWiXp55aELUX89ZGoYOVMeLDrnE7gKsIPrAS7gcT+XcUJEo4iGWBJnCeOw1u68ZA5D8LC4+95tK+iiWIDcWxi1H4kCMnn8Q/j3ph2uhGkjZeRfV1Mviz3ARPtn5XBIgNPYaLUbkZefLJf/Co1zSMbsTNS6Mb7Gxb4uGh/cjtwukuIt60hfXgz3JGVDLqRl3h5L0CQ2o8wG1pnbnrtUB3CwGuX8+GRbfmUpO7XOow6uoE7xVDUOPBbUibXX5F18A+DN6KpXsjcc93FpdgcknH9LU4EZ+FiL3z4ejqx7+fyEzdCF2dvLFiSA08uB3+oV1dXnotusNCcB3Xsy3Qrbgqbhnml1eRNeAPg+GzdC8i7/lilrisp07H2hPxyIrYi/mOrvC7+XFtPCGEEEIUSTVJ8ADtr37Brt8GIDtwMjoa66HeV+uBMbPQv5YyTMf74M95BgicMgHLfX7HpoVr8fSHQGwbUx9Z0Wfw58lIZCeE4K9DtxAXeQJ+/0ZIhg8cvov3z0LQ7DoJdj37YcwPTT880EKUeBTOg+yxaftiDOncAR06iF8d0dP+Mhp9bSZ5j6+vL7y9vT+8/ue/Cot/mI27Fn3RQFUZ+m364EvDx/C1/x5LDkcWe+JWdkSIO7YSo3u2QpsBznBzX4WfV1xGD08PDH9fLSlLXyey9rsiisOxlaPRs1UbDHB2g/uqn7Hicg94egzna0HV0WG+H1Y3PYQpE1dj94HdWLnwKEzX/I7ZlbljlRrmMDcxgonJx78hGcGrHeFjsBQnjy+E1qYpcJPhXrwa5uYwMTJBgdkVUEwNbIPO+MG2N5pz8zMXv5qYwkBTCdr1zNDErB7/ZlIyNbh1aQIjE5OCbReSg7Ha0QcGS0/i+EItbJriJsOtl0XM7yNF14A3QKcfbNG7OV/W5k1gaqAJJe16MGtihno6dAsSIYQQotAknSVUJ5mvWEzMSya1VwzBG/Y8Oo6lSusITwbv3r5lMnaR94GjoyObMmXKhxeX8PFT5Ed+/eAJWFLUDXbp4mUWHpsqtb/AHHLq60SQxKJuXGIXL4ez2CIKJePlQxYW9ojJswun8uoHLzMhkj1+mRs1gnu/sYH917Bb+QIpiQWvGs3Gbb7BUvkxLDmErfl+BFsZnLcPwEyWEPmY5c5OwO79NpD1X3OLj8tMFhGwlLm6/cMeSwvUzCvs53Y1WIdfbvHlJmRPPPsxgy4rPloeTvZ1tshSp4L7wROyV/dOsUC/7WzviTsF+kksiXLpBy8zgUU+fpm7jxDcY78N7M/WfLxyk4LZqtHj2OYbH0qbK+417PsRK1n+4i56fpkRAWypqxv7R3phsys/t2M1OvzCbvHbjfCJJ+tn0IWtKFjY7PoiS6ZT4f3gJbP7ZwLZ9m272OGwhFL3FakY/eDJ57d8kHyfnQnczrbtOszCEko7t2yWcOtf5u/twwKvSClp4Wt2OeAguy2HTbcs+sFLvn+GBW7fxnYdDmOlXQWK2Q+eIsYKV4YJt9i//t7MJ/AKSyxweBay15cD2EH5BIvc+zKTR6xIo4j94Mn3t8onFitz7Mhr+ykP1aYG7wP12jA1rVOwby8xFT0YNzKCTinXiqaubrFXzj/m6emZrwbP3t6en6KIVFDTrC26fNkRLU10iqj+lVNfJyo1Yda2C77s2BImRRSKRp2msLQ0R+XrwikTwcutYGHeGtYuv3GxsA4rA7Qxd2eeGk9O+jlvBNRwxZbpbXMf0CN+8Ir3bGj4e+F9pScyg7HcygLmra3h8psnPNetRID2XOyc3TonLkXxOOXrjrULJ2LpkfcfykOWGliFkYbL62xgNdIVbmsWYmL/dmjdbwWCpXUvoCAyg5fDysIcra1d8Bu33a9bGQDtuTs/qnFOxznvANRw3YLpuVXckgeveM/WgL/XeeQWd1HzEyH+lC/c13LrZumRnA/kU8lqwDPvwGeyHRbtOongf9bCrnNbDPV5VGxbQ4Uk59+SeccHk+0WYdfJYPyz1g6d2w6Fz6OSzS3tbgAWjvgOTkEpaGE9DjYd6vJT3uPi6W9njBi/BRcVbhvLxB2fybBbtAsng//BWrvOaDvUByVcBYpJAWOFCxYELByB75yCkNLCGuNsOhR4NL4o/m84jxiPLQoXLFU4VgqQ82+VRyxW6tiR0/ZTnvhEj1Rh8qvBqz7KqwaPCd+ymJshLPR2DEuWVtFSQsK3MexmSCi7HZOcW7OTV2YSu+fhzJaGFFXdKacaWKnkU4OXfdOdOSw+y15Lrv69Y/d/H87qq2izPpuii6hZLly51OBxS/Y25iYLCb3NYuRR2MXOL5Ml3fNgzktD+GHpyqIG/D351OAJWLT/UrY+9C0/nMQOTWjANL50Y/dLcQG1Ymvw5PtbmCCa+S9dz3Jnd4hNaKDBvnS7L/PV9eTgFax3/WbMLiCm0M8In+xlc4Z9yRpo9S9hzEsnzxo8QbQ/W7o+lOWuggmsgcaXzK0UK1SxavAUL1a4YGEretdnzewCWEzhwcL2zhnGvmygVYo7PKSQYy2MPGNFGkWqwZPvb5VDLFby2JHL9lPOSllXRQiRC2VdmLbpjE6tTKEvh4oTZV1TtOncCa1M9aXWJr8N/wdBsIZjx6KqO+VUA1tisnbyLcLrhKYYPacnakn2YJpoZjsDw80EeP40Lk+bMkWjDF3TNujcqRVM5VHYxc3vbTj+CQKsHTvyI6SrsBrwjCvYt+fah3bMeSVf2Y3A3B78UXeIK5xze/CHSX0DGDZrARn7dFcgsv2WjCv7sEf6hoAruwORu2rqYoirM3JnZ4L6BoZo1sLwQ1vwIiUdw8IJvyJqwHpsGGEq/TPCSPyxKQK9p5Zn9yjl1+G/4lKwWEESji2cgF+jBmD9hhEwlR4siPxjEyJ6Ty3H7lUoVqSR6beW2z5YUWOnPLef8kcJHiHViFbz4Zg/7asCt0UoBlk7+VZGvX6D0SPvgyWZEEKmj1btmpVzUqrAtJpj+Pxp+EoxC5sr7mYwi3WHw9pQ5C9uNzhsSIBZbg/+0M7twR9Z0fuxI3oodrkPgmxd+CsWWX6LZjMzxLo7YG3+DQEX3RywIcEMuatGG7mzy0L0/h2IHroL7rL1do8nf7pjZ1Qj9OuQCC9XJzgvckfAjSRuyntZuLfNA7GDnPF1ufZ2X04d/is4xYkVLlqe/An3nVFo1K8DEr1c4eS8CO4BN5CU5/HeWfe2wSN2EJy/roHyixaKFalk+a3ltA9W3Ngpv+2nIlCCR0g1oqqtXeJ2ouWpZJ1858q8dhTBtewxy7o2P4ZwhQ1tRS5sydNzveAkXA+HNSGSE4zki6vg4KGG2VtdULBP9+c45+GIvl3HwnOfN371lqXvTAVV3G8Rt7H1coJwvQPW5GwIuLjKAR5qs7HVpWD/l6Ln5+Dh2Bddx3pin/ev8Jatt3scPxKMdzoGqKHfFN+OsUHbN4Fw6NEVTkdeSd6RedMLW1O+h3NP/XI/WSiXDv8rA4WIFS5ajh9B8DsdGNTQR9Nvx8Cm7RsEOvRAV6cjeCU+Uc+8Ca+tKfjeuTxrenNQrBSmuN9aPvtgRY6d8tp+KgR/qyapwqgNXsmVWxu8ake2NnjcQYaNGObAHIaPYmtC3/BjCyF4xLaMGsLcruQ+dbKkyqcNXvUjWxu8ZHZx1Qg2zMGBDR+1hhVX3JlxwWyTTROmrtGJLb9T8tYPpW2Dl7S8HdMwncBCP7GJTV7F/pbki2zViGHMwWE4G7UmlBW9ajJZXPAmZtNEnWl0Ws6KXTXZt9iSL9SYtvXO3PmK45obp9V3M2OpIWy1kzu7ym+q2aHz2ec68mmDl/H3UFZPtzs/VLQS7Qsy41jwJhvWRF2DdVp+p8RtY+TWBi9pOWunYcomyDFYKjRWWDa7teQLpqZtzXbmBgsLW8yN0+rLNj95w0JWOzH33GBh8z8vzVOWpcj4mw2tp8u6exS/fy/PWJFGLm3wyiB2iv+tZbkPrhyxU7bbT8WgGjxCiMKRvZPvVFzetB7xdlvh2iH3qZOkMtFDi+4WEFy/jmyLbii+T/eucPJegSE1HuB28T34y416w4bQMjJDTTkeNYv9LXot0N1CgOvXs2HRrXmBq8n5qcOoqxO8VwxBjQe3UeyqUdKFno6S+CJv7i2Zqi3Q5Yt6EMQ8RKTPUuyNvAffWeLO7qdi+toTiM+KwN75jnD1u8l/oHRU6pmhjl4jfqhoZdnhf5lRb4iGWkYwk2OwVGisQAm6ejpQ4mKF5QYLWnT5AvUEMXgYvBVL90binu8sSaxMnb4WJ+KzELF3Phxd/fj3l5JKPZjV0UOj+sXfjlApY+VjZRA7xf/WstwHV47YKdvtp2JQgkcIUSwyd/KdiXv+q3H8swVY/I0hvzNLxdtUyR+kkkgOXg1HHwMsPXkcC7U2YYqbDLf91DCHuYkRTIrvwV9+NDWhoq4l/wb1hf6WZASvdoSPwVKcPL4QWpumwE2G24FqmJvDxMgExa4aFRN8YVkfotgneJbnyURaWhpQqW0AvU4/wLZ3c76ze3M0MTWAppI26pk1gVm9T7yYoqYFNVVNfqAIZdzhf9nRhKaKOrTkHSwVFStc1Jt8YYn6olg8yR8s0FCpDYMGnfGDbW8052PFvIkpDDSVoM0l8k3M6vFvLi01aKmpQrO4xtWVNlY+VkaxU8RvLdt9cCWInTLffioGJXiEVLgUPDgbBD9ffxy5mVjqPo4+SHmAs0F+8PU/gpuJpZ+bIPE2/rfbB9uCruLFhytv74mQdCUQh+5I6U/vU4gbxk/zgd48Lzi105W0rfB2UcHGKatwMd/+VoCovfOwNqoDrIzjEXbtGq5dDcaBle44+Am/uTykPDiLID9f+B+5CXksqlzmJ0jE7f/ths+2IFwtWNgQJV1B4KE7H/rgkxdxY/5pPnqY5+WEdrri9iDecFHZiCmrLuY7wchKfIyoV7knB8JHZ3HLaCImdKl8j9SR7beIG/lPg4/ePHg5tYOupN9LF6hsnIJV+TaELCQ+jkLu7IR4dPYWjCZOgGR2WfcR+MtcrD4cJeXpshroZmeLlg8PYf+9rJxRokTcjXiDttZDUK/bOLjMmYM5/MtlTEcYqJmij8McTBvYNOf9ZUnWfUFWIh5Hvcr9fcJHOHvLCBMndKn0D1wq11jhpt8P/AVzVx9GVMFggUY3O9i2fIhD++9x7xQTIfFuBN60tcaQLj0xziU3Vua4jEFHAzWY9nHAnGkDJe8uUxQrBcn4W+WzD67EsSO37UcB5dypSaoyaoNXcuXWBi/jNvOeZM1G2Dsw+8GWrI6GMRvk/bDU7QEybnuzSdYjmL2DPRtsWYdpGA9i3g9LOLfUcLZvgQ3rP3Ix23s1nknrQUYYt5+Na6Rdivvki2qDl8bOus1knjcK3i+fHOLOpq48x3I+JWQJR6axz7WVmHgXlvtSZjWt/VhcKTrCK582eBnstvckZj3CnjnYD2aWdTSY8SBvVtLiySWP+aWy8H0LmE3/kWzx3qssXnphs/3jGjHt/iVvX1pkG7y0s8xtpicrWNzJLMR9Klt57n2MZLBTTuZMQ78FGzxrDfPwcGfLfvFkZ+NL0+NhRfeDJ9tvSTvrxmZ63uBK5yPJIcx96kqWu2pOMSdzDabfYjCbtcaDebgvY794nmXvZyeM2cKs9JSYct1x7G9pmxy3zYV5jWLtu4xhbv77mf+vtmyg/XYWLiUOsq8vYpZyaoNXfD94su4LxKvAiZlr6LMWg2exNR4ezH3ZL8zzbHyp+sNUrH7wyjdWuGBhW6z0mJJyXTZOerCwtDAvNqp9FzbGzZ/t9/+V2Q60Z9ulBwtbZCmndlTF9mVWMbEijSL1gyfTb5XXPrjSxo54Fchp+1FAlOBVA5TglVz5JHjVsSNb+XR0Lm/lkeDJu5PdT59fMgte0ZvVb2bHAgovbPZk7xw27MsGTEveCV5JCN+ymJshLPR2DPvUPuIrNsHjyPG3iAnfxrCbIaHsdkwyk9rdfdI95uG8lIUU1ZF9xkv2MCyMPSqL3u6lkGdH5+IYLbrDf9kpVoLHKedY4YKF3fNwZkuLDhb28mEYC3v0ipVLtMizs2o5xoo0ipTgyf23FheLVT52ZNh+FAzdoklIhaGObKsT2TrZLb9Oe5OOLcSEX6MwYP0GjJBe2BBG/oFNEb0xtQIek5+Psi5M23RGp1amkEsf8RVJzr9FWdcUbTp3QitTfSntiN4iPKe3e3Qs6jYijTpoamkJ83Lv7V4eiunwvzIr11jhoiX8HwTBGo5FBwvqNLWEpXntSnhbYxWOlQLk/FuLicWqHzvFbz+Khs7QCKlA1JFtNSJTJ7vl1Gmv6An+dN+JqEb90CHRC65OzljkHoAb+Qsb2zxiMcj5a5RrH9dEjrTQfPh8TPuqLh3sSbG0mg/H/GlfoS4FCykhih3FQ0VBSEWjjmyrkeI72S2XTntfHceR4HfQMagB/abfYoxNW7wJdECPrk44klPYuOm1FSnfO1NNbaWmCm3F7u2eKBBVbe1KUTNBFA/FjuKhIzchFU3ZBD2nb8HJ62ew0VoT55a5wDP8o8ch6nfBPO8ZEK2biKlTJ2Gzqgu8ZxdM7sSUTXpi+paTuH5mI6w1z2GZiyc+nl1BAsQ/i0e2Zi9MWTIK3S3botf4dfB2ao5Iv/X4M/YtQjf+DuG4mehC3c19AmWY9JyOLSev48xGa2ieWwYXz/ACT07V7zIP3jNEWDdxKqZO2gxVF2/MLpDcick2v48J4p8hPlsTvaYswajulmjbazzWeTuheaQf1v8Zi7TQjfhdOA4zqbAJIYSQSocSPEIURLXtyLY6kqGT3bLstFdJVw86SuKHbOXekqnaogu+qCdAzMNg+Czdi8h7vpglLuup07H2RDyyIvZivqMr/G5KeQ42IYQQQhQGJXjVgJKSElRVqfK8JMTrTF29ApoBV8uObCuehoaGpMzLVxGd7JZxp70qJl/Asr4IsU+e5ekfTQtaGiqobdAAnX6wRe/mfFmbN4GpgSaUtOvBrIkZ6ulU7gZ5ysrKUFGR7UE0pHoR7wO0uH0eIaUhjp3yP44QIh0leNUAYwwCAV11LwnxOsvK4jv/LUPUka1iyMzMlJR5mZK1k105ddqbdT8Qv8xdjcPSCxt2ti3x8NB+5PZxfRcRb9rCekgXdBvnklvWc1wwpqMB1Ez7wGHONAxsWrmTI5FIBKGwtD3Ck6pMvA949+4dP0RIyYhjp8yPI4TIiBI8QipMJoKXW8HCvDWsXX6Dp+c6rAzQxtyds9E6TxVM+jlvBNRwxZbpbfGhRZQkyZsNDX8vnM/gx2UGY7mVBcxbW8PlN094rluJAO252Dm7dU6Njigep3zdsXbhRCw98v5Deah3wHy/1Wh6aAomrt6NA7tXYuFRU6z5Pf/ykNLJDF4OKwtztLZ2wW+enli3MgDac3didr6Vm45z3gGo4boF09vmtn+TJHmzNeDvdR65xV3U/ESIP+UL97ULMXHpkZwP5KOODvP9sLrpIUyZuBq7D+zGyoVHYbrm94+Wh8hTetRFXI6WV3KZjqiLl1Hi2YleI+J0EHb47cN/4a+ktNcUIuHuJQQHB+e8zvyNk9Lu8RYk4vb/dsNnWxCuvsjz9FUiH+lRuHg5utj2tLIqXeyJ8DriNIJ2+GHff+F4VeDjFCsKqSrFDgRIvP0/7PbZhqCrL/hxRCaMVHnU0XnJlU9H55xq15Ft9e3oXO4dzxY7v0yWdM+DOS8N4Yely3j5kIWFPWJl0ce13Do6l6OK6Og8Leos+312P2aqbcDG/vWpsZ/Gos7+zmb3M2XaBmNZiWaXGsrch7Znrdu3ZxZG2kxZzZj1Xn6BveEniwkT97Lv6ymLqyEkL+XaQ9kf8UJ+qlgqC9+3gNn0H8kW773K4kvRh7B8OzqXH4Xo6Dwtip39fTbrZ6rNDMb+xT45Wkode6ks1H0oa9+6PWtvYcS0ldWYce/l7EKeYCmPWJF3Z9VlqcI7Oq9SscPNJXwfW2DTn41cvJddLd2OptLETlmgGjxCKhJ1ZFuNyLuT3WLm9zYcOX1cd+RHSKdRpyksLc1RKfu4riRENS1h62gFU7lcUhehpqUtHK1MS3iFXoBb3n5IcT6BsKtXcTfqBrYNVsa5lYuxI+Z9rYoQ9/84igb+r5Gdnc29BMh6cQBjDd+fKqTg4spBsPr5OUb67MEv37eH4YeOGYlciGrC0tYRVvIJllLHnuCWN/xSnHEi7Cqu3o3CjW2DoXxuJRbviOEiUIxiReFUmdjhoufiSgyy+hnPR/pgzy/foz0FT4lRgkdINUKdkVYjWs0xfP40fEWFXeF0a+pL+onSKOT5CxlX9mHPtbf8UF7JuLI7ENfy3bmki5pcQq+trYESPc5B9BoJTUdjTs9aOQd+zWawnTEcZoLneBrHt9NMOw2Pndfx6Kgndp6IQIqSClTyhE/SsYWY8GsUBqzfgBGm9KCaMqFbE/qq2tAuPFiwb881SI2WK7sRmD9Yio096UR4ndAUo+f0RK2cYEEz2xkYbibA86dxOe1+KVYUTxWJHS54sHDCr4gasB4bRpiCoqd08q5SQkgVR52RViPiAz0VdqWg2cwMse4OWBsq7tn+PfHDlRywIcEMzeRx8Vq5HvoN7pGvexUmFILpt0K7ZjnVt1n3wpFURw1hfksxeWBbNO04BXsevX8KzxP86b4TUY36oUOiF1ydnLHIPQA3kqhNVbniEnOzWHc4rA1Fvmi56AaHDQkwk0+woF6/weiRP1ggZPpo1a5ZzkOcKFYqn8oQO1yC+ORPd+yMaoR+HRLh5eoE50XuCLiRxNf+EVlRgkeIHAke/I1lrq5w5V7zlgfhvnzulKjcRIk4tWm+ZJ24ui7EjqtvJDfdV3qCB/h7WU5Zu85bjiAqbI4Iiac2YT6/DSzccRVvqkRhlzHxQ5O8nCBc74A1IeJTLy65W+UAD7XZ2OrSsZg+L0srE9eOBqOW/SxY184Zo95hJvacvo7o+Eic3ToZzZ9sx+QfVuGG+Nzr1XEcCX4HHYMa0G/6LcbYtMWbQAf06OqEI6/o1Kv86KOzqxechOvhsCZEcqKefHEVHDzUMHurCzqWTbAg89pRBNeyxyw+WChWKqNKEDt4heNHgvFOxwA19Jvi2zE2aPsmEA49usLpyCvxG4iMKMEjRE6UTYdj2ZLR6GxpCUvu1aZlQ9Qo0a0NVZSyBgybtZGsE0vLdhjk4obJ7dX4iZWUsimGL1uC0Z1zytqyTUs0pMLmKEPDsBna8NtAu0EucJvcnp9GiqTfBfO8Z0C0biKmTp2Ezaou8J5dVskdIIzcjs2PRmHroq7Q5sd9oNkQPaZ44ajfeNS9FYSgWwII4p8hPlsTvaYswajulmjbazzWeTuheaQf1v8Zy3+QlA99dJnnjRmidZg4dSombVaFi/fsMjtB54IF2zc/wqiti9D142ChWKlkFDt2uODBs/hsaPaagiWjusOybS+MX+cNp+aR8Fv/J/9BIgtK8AiRE+VabfDtaFvY2ua8xgzrDGPawjj6+Pyb0R/Wi+0YG3xZv5LfVa9cC22+zfubhqEzFbaE/uffYPT79WI7BjZf1uenkGLptUB3CwGuX8+GRbfmZZbcIfUyNq2Ph91WV3TI7Y2jgNpWNuhnmIbkFCGUdPWgo8TAWG4NjGqLLviingAxkdH8GFJ+9NCiuwUE168j26IbmpddsODypvWIt9sK1yKChWKlMlHc2OGCB3o6SpL+BD9Ej2oLdPmiHgQxkfwIIgs6IyGEEEIqXDKCVzvCx2ApTh5fCK1NU+B2KW/P9nKSeQ/+q4/jswWL8c37p9alSnvsghgD1MzQtIkqVEy+gGV9EWKfPMvtXB9a0NJQQW0DA36YlJfk4NVw9DHA0pPHsVBrE6a4XeIiSN4ycc9/NY5/tgCLvzHkTxhT8TZV8sdHKFYqC0WOHS548IVlfYhin+BZbvBAS0sDKrUpdkqCEjxCCCGkrGULIGKFNUgUP1BlGnz05sHLqR10xW3yvF2gsnEKVl2UfuqVLRChwOyy7iPwl7lYfTgqz4l1HoIo7J23FlEdrGAcH4Zr167havABrHQ/KJ6I2NBjuBiVlvNeTvLJf/Co1zSMbqQCaHSDnW1LPDy0H/feP0sj8S4i3rSF9eDPckYQOcmGQMQKbassfijGNB89zPNyQjtdcbsqb7iobMSUVReln6hLjb0s3A/8BXNXH0aU9GBB1N55WBvVAVbG8QjjYuXa1WAcWOmOg4mZFCsKq5LHDjTQzc4WLR8ewv7c4MHdiDdoaz04Z5jIJqc7PFKVUUfnJVeajs5J5VXijs5JpVX+HZ0LWVLEKbbLtSerrazGLOy82MHQGH5ajrSzbmym5w2Wyg9/kBzC3KeuZOfy9jEsTGIRp3Yx1561mbKaBbPzOshCY3LeIIzZwqz0lJhy3XHs74/7JRYmsCPTPmfaSpJzv9yXck1m7RfHTX/Cfh9cm6loN2HfzFzF1q5cxOYs2cPC0/jPi6WFMa9R7VmXMW7Mf78/+9V2ILPfHs5K2o0wdXReOGFSBDu1y5X1rK3M1CzsmNfBUMYXb460s8xtpie7UTBYWIj7VLYyf7AUHnvCGLbFSo8pKddl4woGC0s4Mo19rq2UP1agzGpa+7G47PKLFeroXHZVJnZYGgvzGsXadxnD3Pz3M/9fbdlA++0svOQ7mmrd0bmS+H/cyidVWGBgILgkT/IvkU1oaChmzJgh+ZdUfZ9//rlkGxH/S6q2devW4dmzZ5J/SyI94HuYbu6A0DOuMFfgJqRZyRHY9ss+dFi9BJ1L2nm9MBnRtyMQl10DjVq2gImO9Jt8Ml89QsQzJTS0KF0H+YKrP6H9sATcfOLLj1EMr1+/hrm5OZKSkvgxpZQegO9NN6ND6Bm4KnawIGLbL9jXYTWWlDRYyilWuGDBT+2HIWHVQ/h+q9idXaupqSE9PV3yb6lR7OTKfIVHEc+g1NAC5qXb0VSa2CkLdIsmIYQQUiW8Rfg/QYC1IzqW5mRapSbM2nbBlx1bFn7SxdGo0xSWlqU8YScK4234PwiCNRxLEywUK9VaecQOFzxoamlZuuSOUIJHCCGEVA1aaD58PqZ9VZcO7qRYWs2HY/60r1CXgoWUEMWO4qOiIYQQQmQguPQTWupoQlMz56XXYQk/RVGoQltblf9bcWSenonmedabbrc1uCvkJ1ZVgkv4qaXOh9+sqdcBS25IfSJFhVHV1uYiRsFknsbM5nnWm243rKnywfIRip3SodjJh9rgVQPUBq/kqA1e9UJt8KqP0rbBQ/prPE9KgzC3ay8oq9dAfUN9fogUKjMJcS9TIci77lR1Ud+4Fj+kGOTWBg/peP08CWn5gwU16hpCn+42K0YmkuJeIjV/sEDXwBi1FLwZlVza4FHsfILKGztlgWrwCCGEkOJo14ZJ/YZo2DD3RcmdjDRqwfjjdadgyZ18aaO2Sf18v7dhfTpBl40Gahl/vO6q0wk6xU7pVffYyY8SPEIIIYQQQgipIirdLZq+vr7YtGkTP0RkkZmZiaysLOjp6fFjSHEEAgHS0tKgr09X6KuDlJQU6OrqQkVFgR9LTeTi3bt3EIlE0NHR4ccQkkMcF+J9Qa1aVbl2kZQV8S2+4thRUlLixxAi3dy5c2Fra8sPlY1Kl+C9ePEC8fHx/BCRxfHjx3Hs2DG4u7vzY0hxbt26BTc3N+zZs4cfQ6qyIUOGYO3atWjatCk/hlRVf/zxBxISEuDq6sqPISSHOLn79ttvERwczI8hRHbt2rXD5cuXP7ENHqkOTExMUKdOHX6obNBDVqoBeshKydFDVqoXeshK9VHqh6yQKk9+D1kh1ZF8HrJCiHxQglcNUIJXcpTgVS+U4FUfpU3wskI94bQlFO/yHDFVGg6G3wobfogURhC+E3N/O4mXeR9uV7MXdmyy54cUg9wSvKxQeDptQWj+YMHgJctgY0a3gRdJEI6dc3/DyfzBgl4u62DfRvG6AMlLLgkexU7pVeLYKQv0kBVCCCGkGIKYcwg89wIGjZugSZOcV+MGtfmppChK2gYw5deZZL3pPMWJA5f4qVWQIAbnAs/hhUHjD7+5SeMGqK1BbbOKpaQNA9PcWGnSWAdPTxzApWfVpD8zip3Sq+6x8xGqwasGqAav5KgGr3qhGrzqo7Q1eOkB38N0cweEnnGFOV1I/ySCqz+h/bAE3Hziy49RDHKrwUsPwPemm9Eh9AxcKVg+jeAqfmo/DAmrHsL3W8V+3r1cavAoduSnEsVOWaAaPEIIIaQcpEddxOVoeV1NTkfUxcso7ewKXRbRa0ScDsIOv334L/wVCrwjNRIXDuzEtu37cOp+Cj+SyF16FC5eji64/kvpk2KvsGWhWFFMVSF2kIrICwewc9t27Dt1HxQ9JUcJHiGEEFKG0qPPYfscK1i0soZHWDY/trTSEX1uO+ZYWaCVtQdKOrsilyXtMtbZWGGkqxvWLJyI/u1ao9+KYLzlJ2fe3Awbm7WIamyFIX0Mcdn1a4z8/REE/HQiB+nROLd9DqwsWsHaIwyfHC2fEntFLQvFiuKpIrHDBQ8229hgbVRjWA3pA8PLrvh65O94RMFTIpTgEUIIIWVIVNMSto5WMJXLJXURalrawtHKtFRX6AtfFgFuefshxfkEwq5exd2oG9g2WBnnVi7GjhjxQwvScHj1CkR1dsAP7YxR1+wrODtYImTTdtygEy/5EdWEpa0jrOQTLJ8We4UuC8WKQqoSscNFz+HVWBHVGQ4/tINxXTN85ewAy5BN2E7BUyKU4BFCCCFlSLemPlS1tVHYcxIyruzDnmsfrl/nkYwruwNxLZMflNBFTX1VaGtroDSPXSh0WUSvkdB0NOb0rJVzYqDZDLYzhsNM8BxP48QnVgxZ2RmIPH+Sv5IuQkp8IoSG9VGPziTkR7cm9FW1oV14sGDfnmu5tR15JF/ZjcD8wVJs7BWpsGWhWFFMVSJ2uOjJykZG5Hmc5KvsRCnxSBQaoj4FT4nQ2iKEEEIqkGYzM8S6O2BtaN6WJsm46OaADQlmaFYezwdQrod+g3tAjx8UY0IhmH4rtGumzg3p4lvHSTANXYTBtltw/oIP5gbUwfIN9mhEZxLlhzshNot1h8Pa0HztkpIvusFhQwLMyiNYKFYqp0oRO1z0fOuISaahWDTYFlvOX4DP3ADUWb4B9hQ8JUJrixBCCKlI+p3h6uUE4XoHrAkRn3pxyd0qB3iozcZWl475TobKTyauHQ1GLftZsOZ7g9DvvRqH/cdB8/B09LLaijpz1sCupWbORFJO9NHZ1QtOwvVwWBMiOVFPvrgKDh5qmL3VBR0rJFgoViqHyhE7XPBg9WF/jNM8jOm9rLC1zhyssWsJip6SoQSPEEIIqWj6XTDPewZE6yZi6tRJ2KzqAu/ZFZXcAcLI7dj8aBS2LuoKbX4cBM9w/VIqei1egTFNHmPj0K8x45845OlWmJQLfXSZ540ZonWYOHUqJm1WhYv37Ao6QadYqVwqQexAgGfXLyG112KsGNMEjzcOxdcz/kEcBU+JUIJHSCkJnxzAzxPGYdy4nNf4mdtxO+eWcVIUURwOLZ34Yb2Ns5sOH0VvPC18ggM/T8hd5vEzsZ0KWwYixB1aionv19s4O0z3ucFPIwXotUB3CwGuX8+GRbfmFZbcIfUyNq2Ph91WV3TQ4cchC1eXj8D85NFYOXcBdl34D25dE+DjuAhH8t7vRcqJHlp0t4Dg+nVkW3RD84oKFoqVSkiRY4eLnqvLMWJ+MkavnIsFuy7gP7euSPBxxCIKnhKhBI+QUmJJN3HsoSGG2dnBjnuNG/El6tMWVTxlfbQZOFayzuzsRqN1ymmEPFXwZIkl4eaxhzAcllPWduNG4EsqbBkoQ7/NQIzlt5HRrVNwOuQpP43kl4zg1Y7wMViKk8cXQmvTFLhdSuanlaPMe/BffRyfLViMbwz5GE99Cwgf48T/7sKktSUk52I1O8HF0wUdX11GyEO62FHekoNXw9HHAEtPHsdCrU2Y4naJi6ByRrFSKSl07ECIxyf+h7smrWGZEzzo5OIJl46vcDnkoXgEkRGdoRDyCZRrfYZuffuiL/fq090CtWXcolIenEWQny/8j9xE4ic/0TgFD84Gwc/XH0duJpbq0enl25GtNsw69pass759e6OVYemeBljulGvhs245Zd23T3dYyF7YOBvkB1//I7j56YUth9gprINsEV5HnEbQDj/s+y8cr6TMOzXyAg7s3Ibt+05B1uLWNuuI3vw20ruVYemeyFYVZAsgYowf+Jj4gSrT4KM3D15O7aArbpPn7QKVjVOw6qL0U69sgQgFZpd1H4G/zMXqw1FF9zdW2LIIorB33lpEdbCCcXwYrl27hqvBB7DS/SCgYojGjXQQfec2F0E5lDQ0oaHTCE3oYoecZUMgYig0Wi66YZqPHuZ5OaGdrrhdlTdcVDZiyqqL0k/UpZZ3Fu4H/oK5qw8jquhgkb4sFCsKqpLHDlRg2LgRdKLv4HZu8EBTQweNmtTnRxCZMFLlBQQEMBsbG36IyCIkJIR16tSJH5IuO2wx6/ydN0vkh2WTwW57T2LWI+yZg/1gZllHgxkP8mYPBfzkksq4zbwnWbMR9g7MfrAlq6NhzAZ5P2Qyzy4tip39fTbrZ6rNDMb+xd7xoyVSQ5n70Pasdfv2zMJImymrGbPeyy+wN/zkjLBNbHh/B/bH9ecsMeo0WzWoAxvh+5Bl89Nlk8GOTmnHJh7M983lrmXLluzOnTv8kBTZYWxx5++Yd8kKmysebzbJegSzd7Bngy3rMA3jQcy79IX9ibGTxqLO/s5m9zNl2gZj2V/5C5uFug9l7Vu3Z+0tjJi2shoz7r2cXXhf2Nx3h20azvo7/MGuP09kUadXsUEdRjDfhyUs7aNTWLuJB/mhiuHu7s5mzZrFD8kubd9IVqf7GvaoxMUnZEkRp9gu156sNrdeLey82MHQGH5ajrSzbmym5w2uFD6SHMLcp65k5/KWlTCJRZzaxVx71ua2SQtm53WQhcbkvEEYs4VZ6Skx5brj2N9SN6kilkWYwI5M+5xpK0nOx3JfyjWZtV+c5C3Zj/5kjr26shFLd7K/D+5kS20Hs0m/3+Gio2SyryxkbRra80OK49WrV6xmzZr80CdI28dG1unO1pQ8WLjijWCndrmynrWVmZqFHfM6GMr44s2Rdpa5zfRkNwoGCwtxn8pW5g+WIso7hm2x0mNKynXZOOnBUviylGOscMHCFrZpyOyPlPiT5U5VVZVlZWXxQ6VEsSMOHvanYy/WdcRStvPvg2znUls2eNLv7E7JdzSVJnbKAiV41QAleCVXVgmeINqfLV0fyt7yw0mHJrAGGl8yt/ulOekXsGj/pWx96Ie5sUMTGjCNL92YzLN7m8SSMyPZb901PkrwstlNdwe2+OxrbjfPeXef/T68PlPR7sM2RYvHpLKgHwzZF4vDPiR0747Ys4ZtFrDLJTrnr8IJniCa+S9dz3KL5xCb0ECDfel2X/YEPI9Pj523LCk5k0X+1p1pfJTgZd90Zw6Lz7LXOYXN7v8+nNVX0WZ9NkXnlH9qEPvB8Au2OOxDabMj9g1ZmwWXS5TQV88Er3xlJt1jHs5LWUgmP0LehO9Y4qMwdvnGQ5aQJomOEqMET0FkJrF7Hs5saVkFixxihRI8BVXWscMded4lPmJhl2+whwlpOcehkqrmCR7VlRNSjlTqDoGrcyfo8sO6JvVhYNgMLQxV+DEcmTsjVUHdIa5w7vRhbjCpbwDDZi2Qd3ZFoo5sy45KXQxxdUZu8ZigvoEhmrUw5EruvQxc2bcH0vu4voLdgdfwobRliZ0iFdZBtgivE5pi9JyeqJVT2GhmOwPDzQR4/jQu51Y/loXsjEicP/koZ1iUgvhEIQzr16P7/BXKW4T/EwRYO6JjTpdS8qesibrmlujYtinqaVPpV2Zvw/9BEKzhWFbBQrFSZZV57HBHFs265rDs2BZN62nTcaYUaJ0RUp60dXIfBZwVjf07ojF0lzsG6fPjxErQGam2Tu6DhbOi92NH9FDsch+EvLMrFerIVg60kVs8WYjevwPRQ3fBPX9ho5lZLNwd1iJ/H9cX4eawAQlmzfChtGWJnVJRRr1+g9Ejf2FDyPTRql0zSA7fut/CcZIpQhcNhu2W87jgMxcBdZZjg30jOogoFC00Hz4f076qS+VCiqXVfDjmT/sKdSlYSAlR7Cg+KhpCyp0Iz895wLFvV4z13AfvX72R/2F5JeyMVPQc5zwc0bfrWHju88av3mXxRCzqyLa0RM/PwcOxL7qO9cQ+71/h/dGTEfU7u8LLSYj1DmuQ08f1Raxy8IDa7K1wKVjYxcSOfGReO4rgWvaYldvzLHqvPgz/cZo4PL0XrLbWwZw1dqDiVjTiGlpV/m9Ciqaqrc1FDCElR7Gj+CjBqwbU1dVhbGzMDxFZqKiooEmTJvyQvCnDpOd0bDl5HWc2WkPz3DK4eIZ/9ITKEnRGqmyCntO34OT1M9horYlzy1zgGf7pT2vMq6p3ZNu8eXMoK5fN7lDZpCembzmJ62c2wlrzHJa5eOLj4tHvMg/eM0RYN3Eqpk7aDFUXb8yWXtgyxM4nEkZi++ZHGLV1EbrmVhBzxX0dl1J7YfGKMWjyeCOGfj0D/1TCnmd1dHRQq1YtfoiQXEpKSmjbti0/REjJdOzYURJDhCgCSvCqgaysLMTFxfFDRBZCoRCPHz/mh8qIuhG6OnljxZAaeHA7/ENbq1wl64xU3agrnLxXYEiNB7gdXnBupVYNOrK9f/8+RKKyTFbUYdTVCd4rhqDGg9uQVjx6LbrDQnAd17Mt0K34wi4mdkorFZc3rUe83Va45u95FstHzEfy6JWYu2AXLvznhq4JPnBcdCTfbcSVQVpaGpKSkvghQnIxxhAWFsYPEVIyV65ckcQQIYqAEjxCKlQNmJubwMjEpMDtDqXqjLSGOcxNjGBiIqebJ6gjW7mqYW4OEyMTFCie5GCsdvSBwdKTOL5QC5umuMlw62XhsVM6mbjnvxrHP1uAxd8Y8geHVLxNFRf3Cfzvrgla5/Q8yxW3CzxdOuLV5RBQcRNCCCGKhRK88iDnjo4rVtl0hlyoMulouwJlJeJx1KvcToiFj3D2lhEmTuiS8zALnqydkWYlPkbUq9wzbOGjs7hlNBETuojnVt06si0+NstXFhIfRyG3eIR4dPYWjCZOgKR43hM/UGWaD/TmecGpna6kTZ63iwo2TlmFfH1cFxM7WfcD8cvc1ThcdGFL7yCbm2vU3nlYG9UBVsbxCOPK+trVYBxY6Y6D3D5LxbAxGulE405uz7PQ0NSATqMmqPB+i0VJuBJ4CHcy+GFSrYmSriDw0B1QOJDiUKyQEqtE55yU4JWxzDs+mGy3CLtOBuOftXbo3HYofB5V1iQvDZfX2cBqpCvc1izExP7t0LrfCgR/eMR7Jm5utoHN2ig0thqCPoaX4fr1SPye8xz9kku7jHU2Vhjp6oY1Cyeif7vW6Lci+EP3AZk3N8PGhktAGlthSB9DXHb9GiN/5x/jrqAyg5fDysIcra1d8JunJ9atDID23J2Y3TpPHUz6OXgH1IDrlulo++EuuZwkb7aGP7zOvz8cZSJ4uRUszFvD2uU3eHquw8oAbczdORuS2YniccrXHWu5dbf0iPRDmCj5Pk7v2Yz9N7Px5urf2HHoMp6I3ypKxFHnQbDftB2Lh3RGhw4dJK+OPe1xudHX3BtqwWblRgy4/ysm/vIHDh76A78uPAnz1atha1wRu5XiYrMCZAZjuZUFzFtbw+U3T3iuW4kA7bnYObt1nhq3dJzzDkAN1y2YnlvYOUnebA34e53/cPJRdOyIEH/KF+5rud++9EjOBz4mSsb903uwef9NZL+5ir93HMLlnMJG4lFnDLLfhO2Lh6AzX9YdOvaE/eVG+NpMhStuG6zcOAD3f52IX/44iEN//IqFJ82xerUtKqS4P+B+99/OGDF+Cy5WZFkXKwUPzgbBz9cfR24mfnqbSTlcNEyPuojL0VI+W5kvqnH7vL+dR2D8lotSu5mpLFIenEWQny/8j9zEp18TlkPspUfh4uXogp+lWFE4VSZ2kIrICwewc9t27Dt1XyGaAlS6c05Jb3ikbMi5o+PSkldH5+XVGXKO8upoW7qy6uhc3Hnn25ibLCT0NotJlsOCCt+ymJshLPR2DJM6O4XvyFY+HZ0XG5vFKJOOzjnCtzHsZkgoux2TXIpt4GPFxU4mS7rnwZyXhvDD8id8l8gehV1mNx4msNIUt7w7Ohc+2cvmDPuSNdDqL3PZlHtH5xm3mfckazbC3oHZD7ZkdTSM2SDvh6U+BmTc9maTrEcwewd7NtiyDtMwHsS8H8o+t7Sos+z32f2YqbYBG5u3t3ux1FDmPrQ9a92+PbMw0mbKasas9/IL7A0/OSNsExve34H9cf05S4w6zVYN6sBG+D4scWyXTUfnQvZk7xw27MsGTKt/SffLOSq+o/MMdtt7ErMeYc8c7AczyzoazHiQNytB8eb3qbGXFsXO/j6b9TPVZgZj/+L2rHmUU6yUTWfVnx4r0lRsR+dVJ3a44GGbhvdnDn9cZ88To9jpVYNYhxG+7GHJdzRyjJ2yPecsC9WyBk+YkYYMqZciRMhMz+D+X5BIIMi5wiDMRKas6bpMHR1XFnLqDFnWTryrbEfbytA1bYPOnVrBVF8OLaeUdWHapjM6tTKFtNlV7o5sZe0EXIbYrCDKuqZo07kTWpnqy6GdXDGx8zYcOX1cd+RHyJ+yZl2YW3ZE26b1IO/izriyD3ukFzau7A7Eh/793xNG4o9NEeg9tSf0FXabFyImaD/SJ/sjwNcLvgfPwG+0Co7v2I/I0lwOF8YgaH86JvsHwNfLFwfP+GG0ynHs2B8p89V1UU1L2DpawbTABwS45e2HFOcTCLt6FXejbmDbYGWcW7kYO2LER8U0HF69AlGdHfBDO2PUNfsKzg6WCNm0HTfkvpHJuu3nEkb+gU0RvTG1p36lvTVJGBOE/emT4R/gCy/fgzjjNxoqx3dgf+mC5dNjT1QTlraOsCoQLBQriqbqxA4XPYdXY0VUZzj80A7Gdc3wlbMDLEM2Ybv8g6cEx53Kd85ZVWJbJik3/LBg5gKs8fLEjL5tYPXTUUie8i16heANDpg0bx18PH/FuL49MHLlKcRz09IfHMZy284w7+4Kv01TMaRXaxgbtIR9wBMIBTH4d14fNDSoD6slF3LmlRqBP6d0RjenQ4gRyNLRcX6ixCvwc+yGBnUb4rs11/D8/g7YftEdUzzP4WlptlO5kVNnyLJ24k0dbctF5e6MVNZOwGWIzepAqzmGz5+Gryppz7OazcwQ6+6AtfkLGxfdHLAhwQx5+vfnZOHeNg/EDnLG1zUU+bHkKqg7xBXOuVf5YFLfAIbNWsAwz1U+mU8y5HDRULemvqQPK42PV5tCXVSTddvnZd3DNo9YDHL+GgodDsVQqTsErs6duCjJoWtSHwaGzdAif7DIdpFUxtgrkm5N6KtqQ/vjYKFYUThVJ3a46MnKRkbkeZzkm/eIUuKRKDRE/TLIpGQ/7lS+c04FXSz5Ez3fjR/tT6HdohVYMGsufnNpj7sbfkPAUwFi/SdjdFBjzF45B06uK7DDewRerbHBuC0PoN3sGwxsnInnkXeQ1NUNf1+4gX0/vMOe9bvxSKkRBvw8DwP1XiI2Ux11xGtTtwFq6LTBhPnfoRF/kb24jo7zUq7XERPWecCh6RuE3XiAl7dvQGPiNmyZ1hMNZd2wyknpOkMuYSfeH1BH26VR2TsjLVkn4LkKxmY1ID6YVu7ChquXE4TrHbAmp7BxcZUDPNRmY6tLx3wXezJvemFryvdwrgRX4LVzr/IhK3o/dkQPxS73QdyeMJfsJxklv2goMwW7qCb7tp+Jm15bkfK9M3oqblWubLR1cvsZzYrG/h3RGLrLHfmKV9aLpBxZYq9UKFYUT5WJHS56vnXEJNNQLBpsiy3nL8BnbgDqLN8A+7IJHpmPO5XunJO/VbOKE7CHq7ux2sN2s/fN4cTtVV6/esPFVRRb10ubNZ15lhvz3ku2w7oGU2u/jPtb/NmuTPMzZ3ZO8gYBe7y2O9Ns4sROS27rzWa3l3VgWo2nsv/SuMHXAWzGzCD2Wjwpn0wWF7yJ2TRRZxqdlrM7xdzI/O7KEtZBtyYzHbKRRZT2HmqevNrg5SN4xLaMGsLcrqTyI3JkR//FXMdMZ6tX2rLP9ZSZbptp7NBzaY11ktnFVSPYMAcHNnzUGhb64eZr6QSPtrBRQ9xYvq/LjmZ/uY5h01evZLaf6zFl3TZs2qHnMrW5Kk7ZtcEj+cnWBi/54io2YpgDcxg+iq0pPlikxmZRyqoNHslPpjZ4yRfZqhHDmIPDcDZqTWhuu4z3UkPYaid3dpUPmezQ+exzHQVugycmjGVnN09l3Y3VmJKaCft6xQWWxE/6IPkSc/t+FFt9KZkbSGLBK79nP6y9XPD3c4SxZ9nmqd2ZsZoSUzP5mq24UGBuRRLGebK+mlLa4OWTwYLntGXt5wcz8aEth4DFHPiRtdZRYkpalmzWicRS7W9L0gavuG0/NWQ1c3K/yrfxyWah8z9nOpW2DZ6YkMWe3cymdjdmakpqzOTrFaxg8SazS27fs1GrL3F/cdESvJJ9/8Nadll6sBQfe0URxjHPvpoF21HlU3axUpJ2VOUZK9JUbBs8saoSO1z0xBxgP7bWYUpKWsxy1gmWWLodjext8Io77oiV4TlnWahilzAKk40HD6KhrKWZ52qvOmrV1oOy4JmkWlgoFOV5TLwempobAS+kdQ6uBCUlJXFmzA+rouV4e/R8/Rf8/n2NuIPnoTNoAGrxU3MV39FxXppf/IjJPYSIC7uJ+69z7ktWHPLoDLkEnXhXg462SdFk7wS8kNgklYdeC3S3EOD6/9k7F7gc7///v7or5VYiOYU0tcgcp5xltmmnLzGMYYzonxIpYWbE6GBiUpIhtmYovhh9f2MO2UpFySG01SobqqGo6HDf9/t/H64Od8f7rrvz5/l4XPL5XPd93df1eb+uz/V5X5/DO64I5mP6yr1BlcwNSd7rjiPJ97BvxRIsWbIES7edR3rhfRxZ4wC3oJvc51SPRpeh+GCUMfi1GdbFM4TV0t24EHcZO220cWWTC/wTyo251xuJ1YHLINq+UHxdi7BLwwWBrvJvkIvhGVph6e4LiLu8EzbaV7DJxR/lD1dXhMkHsCtpFvasG13aMyB+XsZdzcX49Vswp89f2Dn1XSz7+TGUfUKp6ZriLeuBXKp6qr33hcnY634Eyff2YYVYC0uWLMW28+kovH8EaxzcEHRTNsSrwdHogqEfjIJx7cQCQ6ul2H0hDpd32kD7yia4+CeUm2Oph5GrA7FMtB0Lxde9aJcGXAJdKx8Bo4j26kh9akUsFpi+ZY2BnWsewtQstVIeph0xAvwTdxW549djy5w++GvnVLy77GfZNChlUEI71T93JDS/NmcrcfB40NNrhxdRFxGVx2VJyEvGH4+6oWc3NTy6Ey8nHonDp2lkwqWqh9drJhb/BwgL8sN3N7ri4/GlMi1PlYGO5RDh37DtuDZ2Cz7j/YgVa/+HpuPjqSYYssJBvFmgbYbCQcCr1iajuZCNCG8H7DVwx4Vza9HW1w5ecsZWg+7wTzF3Ql+YiOtSydbHyADaanx0Me4D4y7159QLMm/gf1dT8bJCDEHFadNtNJwCt2BK+z9wu7K3fDU2Msqi3EtDpajnl2qUk4TL525zqWqo6d4XN+CGfzoXE/rKtGBi0gdGBtpQ43eBcR9jdGlXm0ayChBk4sb/riK1bmLBaKdAbJnSHn/cThDXbuVR4iWpmBq1V1vq+wUs5SDp8jnc/rcGx6K5aqU8rV47kr6CzZixJhuzPVbhix9+x69eo5Gx1wHrlK9oFNNOjc8dMc2wzdlKHLw2GDrpffR+EIRlTkGIzSyAQGwU/3WHkaLXB9Pnvwfd6CM4fI8zktiQV2ML8YHdLFlSJPauSu41kjp/kr+lt19HfGQ3Ewa/+uCy0QwMLXHeFAx0XA5RxilsCjGE8ypHeG2fA1HwCqz95Znyb75UjmqCISsaxLv5BdpmqBzJRHlFgoDXoE1Gc0Ay58wRe3VXI8BpKHQkcyMCXaC+0w6eJcbmocuYeXBZuRIruc1ljiUMNI3wtv1KOH5kyn2uCdNe3Lg07AbDCm/5FGhkVIJiLw2VoKm8VFPk3ud1wZh5LiVaWLnSBXMsDaBp9DbsVzriI9MmNnFdadqLHRFDdDM0rDCXWuGXpGWpUnu1hGmlCdNMtSNuJ/91/v9w13AgZH0FHTDcxR8ulk8RE/WnJEPFKPLcEdMM25ytpiXMf2sjfvjmAxSFLIZld110eWsHMGcF3uvIg9Hne/HTagOE2C3A5r374bt2G/7+NATfzemBwtTL+OlCMooyovDf07fwOPk8gv53X5o+ceZuyWpE2qMXYb7VRMz51LR0NTMFAh0vXLgQ8+bNK9l8v3bE+k9dcdf8HfTU4EFv0NsY1fUv7LOdiQ1nkit5E9NQqCgYsqJBvJtdoG3lYIFsFUHRIOAKaLMxUUFQ6rLUXTsvkRIZg4oxrkV4dv8SQg8G4eivCXhaybFzk3/HiUPf4cDRi1C1uV9eCcSx9m7YvXSIrFEoQfqwdYVWcABK4vs3Mwoz/0JK6Vs+CJPCcavbQiyQe8unYCOjppeGhYkI2bgK3mdSUG0zukgAUck0gzI0mZdqit77LYzCTPyV8rTUdsIkhN/qhoULRsqtBqzoS9LqtVeIxJCNWOV9BinViwUCUdkX2hxMK02LlqIdcQu662u90S71Dkr7CrSgrdUOvfv04DJUh+LPnWbY5uTm4rUeCp5SWtoTqnTKpeAFPUp9TLm1nDH5KienQhDPmgIdBwcH06FDh0q23377jdujOuplkZVqqGswZKWoc6Dtyqm/RVZYIFt5VBPovK7U1yIrdQ1KLU9dtZNHKeH7yXWiEfENPiP59TVyKdpnKg0bOIyGmXcjPk+Tuk/YTL+XzDTPp3jfafSe/fcU9yiTUi550iSLGbRPycizqg50XhsadpGVfLroZEJaev1o8oqt5OfnQ5s2+lN4unxdlRfuRcv9b4itUI7sKPJZ4kFXim2Vf5GcTLRIr99kWrHVj/x8NtFG/3AqPpwwbTdZ66oRr/M8OlnpLSWkrPsX6Qc3K9IX29h8fgCdik7jdmXQWcc3iK8mbY+VbrwOZBP0WPqRoqSfyGH8aJrhfohOnjpE7nMn06L9d8RXqRz1E+i87jT2Iiv5F53IREuP+k1eQVv9/Mhn00byD0+XX8QhL5y8lvvTjYpioSifJeRRKpbqtSdMo93WuqTG60zzKhcLCbPu08Uf3MhKn0ea5vMp4FQ0pUk+2oBaUW2w6vqlMRdZaUnaEYuHfnIYT6NnuNOhk6fokPtcmrxoP91RvqJRvXbqqc1ZH7Q+B68V0tAOXkugvhw8QWowue+ILlnNNev0AuqpNYq8EmvT6BdQarA77YguORqdXtCTtEZ5kcKHy8mi7IJk+masVjkHr4hu+tjT+vBnsgfEq0TaP60HqfPfJt9USU4uhX7ald5cH1/i0L06a0u9Bn1BMUq1+VuwgydIpWD3HVRqntO0oKcWjfJKVNwBL0PdtZNDWdkFlPzNWNIq5+AV3fQh+/Xh9ExmbErcP416qPPpbd9Umf1zQ+nTrm/S+vgSa9NZ21406IsYpRz61ufgiRHmUNrNKIq+nUbZyvnDlVLTS8OCrHvk5+xOUaXLQqsWFTRwmINXFULKSbtJUdG3KU01YqleewVZdM/PmdzrSyyqaAwzB09BWph2xNfzKjOJ4mNu0J8ZebLnkLI0I+3UB01/LBuD0YJggWxbEQoFpc7HtaOHUXmM62v4MSS2ZFi2QtqpFh100NMAn68FeWuL8CzDFLNXWqGjzNgwm7sM04wFePT3Y9mQHypEUX4yfruQJEuLniM9U4iuPbq0nnH+tYWnA6NBIzB8gJH4XuPy6gBPxwiDRgzHACO9SmJc5iDh51DAxgGWZcdlqRKeNjqbDIblEFN04TPrqxYedIwGYcTwATBSjViq1V5Ows8IhQ0c6kssTCsNSAvTjvh6tDubYLDlEJh24bPnTC1gZcZgNCQskG0rgq9AUGqxM2X8ED722yAf4zoSXvbfIsPYDKUxrhXQTq3gocvEyRgnb2wISQ8DhprJ5m/ofAiHRUaIXjcZc3f/ht/3rsKxTpvxrW1v9hBpUrRF32lr4PhWZ2YXRo207TsNaxzfQmcmFoaSMO00fZhpGIwGR4RHV/zg8M5ofOZ/FIFfB5Zb9l8y8TkATsIdsN8aJXXysiM9Ye+nCdc9LhXj1Yge4YqfA94Z/Rn8jwbi60AFVsRSmgLEhkWgo+0K2OjLcvQmeONM8Dxon1mK8dZ70GnlVszvry3byShB9OgK/BzewejP/HE08GsEllsZUbIYQICTEDvstyJKZmx42vtB03UPXCoauwbtqIaC2DBEdLTFimJjizU5wfsMgudp48zS8bDe0wkrt84HM3dTQ9JDq4K394xWgQafX0kvMINRM0w7TR/m4DEYDQ4LZNuaUCQotd7I1QhcJsL2hUuwZNEuaLgEwrVyYyugnToiTMaBXUmYtWcdRpd2EIvNHYerueOxfssc9PlrJ6a+uww/Kx15lsFgMBgMRn3DHLxWgJaWFgwNDbkUQxHU1dVhalrPMbVYINsmg7m5OXi8+qwOaw5KrdtvLMwFcYgrMseYmo1dg3ZqSy5ifHcgff4euMlHnsXmGWuQPdsDq774Ab//6oXRGXvhsO6s3DDi5oCOjg709Yt7JhmMUtTU1DBs2DAuxWAox6hRo6QaYjCaAszBawUUFBTg0aNHXIqhCEKhEElJSVyqPmGBbJsC9+7dg0hU/71RVQalzo6At8NeGLhfwLm1beFr56XA0MuqtVM7CnAv2BvnXv8C69/vyj0ccpGTKzH3efzfXUMMlEWeFZvbBf4ulngaE4XmZu7c3Fw8e/aMSzEYpRCRNCYXg1Ebrl69KtUQg9EUYA4eg9GQsEC2rYgaglIXI1lQxXEvdFcHwGmojixAr4s6dtp5Qj7GdfXaKUwMwcZV3jhTvbFRJBCJGyFcogQBUo6sxrYUC1h3T0e82Nax1yNwwsMHpzKFYnO/ht7tUnGnNPIstLS10K53HzBzK87LlEjEVIwwX0uqClhfE0Jk3L2KiIgI2Xb5JC5U0qVc1bmKnt3HpdCDCDr6KxIqi4bPUA0vUxAZk6qy4de11Z4w4y6uFmsl4jJOXqg4YoBppYnRArQjWcn7/qVQHAw6il8Tnqp2GkJrQRosgdGiYXHwlKe+4uCxQLblacFx8GoISi0jj8K9lpN/RWNTdpQPLfG4UhKbsHrtCClttzXpqvGo87yT0pwKCLPo/sUfyM1Kn3ia5jQ/4BRFy4xNGWcd6Q2+mrytwaMONkH0WPoDRZT0kwONHz2D3A+dpFOH3Gnu5EW0X8nIs60yDp6YvJRw2u86kYz4BvSZfIT5WlBdwPqaEWYeoZldeCV25ulPpe/LiLK6c82N9qGpwwbSsGHm1I0vrjO6T6DNpdHwFYbFwauGvBQK3+9KE4345WKT1o46aU+YSUdmdpHE05LphadPU78vfV41hFZYHDwlaCHaEYuHfKYOo4HDhpF5N774edWdJmz+nZRWTyuPg8ccvFYAc/CUp74cPEljmgWyLUsLdvDE1BSUWjlq0k4BZd3zI2f3KC6teoSvMikpPoZu/JlBtTF3a3XwcrKyqSD5GxqrVYuGUgWqDlhfMwK6u20euZ4T67GoSLwJSFDOjlWea9FN8rFfT+GyaPj0KnE/TeuhTvy3fSlVSS0wB68acrIouyCZvhmrpZJGel20J7i7jea5nhM/WyRaKSJBObE0hFaYg6cELUE74iflTR97Wh/+TOYMvkqk/dN6kDr/bfJVvqJhgc4ZDEZDwQLZtiaqD0qtLDVoJycBshjXllyG6uFpd4bJYEsMMe0CZm7F0ekgtj+fD60q1l/Iv3YUhyuPdo9rP4YgVm5cU1UB6xUg7xL8DsUhKcwfh87fx3M1daiXs2NV5yp6lgHT2SthJYuGD22zuVg2zRiCR3/jcfWjghnKoNNBXJfzwa9aLDh6OBaVquXajwiRF0uN2quaPFzyO4S4pDD4HzqP+8/VoF5OLEwrTYwWoB3J0MwM09lYadVRNodM2wxzl02DseAR/mbiUQr5EmcwGC0KFoy0FdG2L6atccRbzNjNDm0zYzz0scc2+Wj3iPSyx7cZxjAriXZfNwrvJSCrkybig9yx+KMhMLW0w+GkQm5v9fC6TMRk+Wj4EAoJegOGwqye3h8xKkHc4DV+6AP7bdFyK9hK5m3bf5sBY9WJBQlZnaAZHwT3xR9hiKkl7A4nQRG1MK00UZqBdsTiwcTJ4yCnHqEQpDcAQ5l4lIK1BBiMFozkDZlqVlhkNHkkb26ZsZsneiPgFuAE4Q57bJVFu0ekpz38NF2xx8VSrrFTF9pYLMfhS3FITU9G+J7F6PvgABZ/6okbivl48hTEIiyiI2xX2IAFnWhIJItuBcBJuAP2W6OkDfXsSE/Y+2nCdY9L5bFSa0MbCyw/fAlxqelIDt+DxX0f4MDiT+FZG7EwrTQRmqF2UIDYsAh0tF0BGyYepWAOHoNRBwR/nMQmNze4ibfVm0ORyJZ6qhlRJi76rpGWmZvbWhy8/kI6C7vJI/gDJzfJbO22ejNCmbEVQITMi75Yw90jaw9ex4tmYexGQG8kVgcug2j7QixZsgi7NFwQ6Ko6504O7V4YZxeAsKDP0flWKEJvKTv0SYjkA7uQNGsP1pWNhs9oIPQwcnUglom2Y+GSJVi0SwMuga6qa6DLoY1e4+wQEBaEzzvfQmjordKVfBWCaaVp0Zy0I1ZP8gHsSpqFPetGg6lHOZiDx2DUEp7RNGzaMBsjBg/GYPE2qH8vtFd6rHorhKeFrmaDpGU2ePBQTHLxwuJhmtzOJgrPCNM2bcDsETJbDx7UH72YsRWAB62uZhjE3SNDJ7nAazELJF0luv0w1lyAuLgimI/pWz/OXRn0radjYtc8ZD9X7mVFbowvdqTPxx43C1kcTEYjoIt+Y80hiItDkfkY9K1/sWD6xK7Iy36u1JL1TCtNkeahHbF44LsjHfP3uMGCiUdpmIPHYNQSXsdB+HD2XMydK9vmfDwC3dkdpQB6eOP92SXlNnfOdIzqoc7ta6LwOmLQh2XP+WOMYMZWCL033sfs4nKbOwfTR/Xg9jDkyUaEtwP2Grjjwrm1aOtrB6+ao93XEQI0jWHaR/GxvQX3guF97nV8sf59dOVugVxJNHxGg5Id4Q2HvQZwv3AOa9v6ws7rqlyM1PqAoAlj0z4KD/tnWmmaNAftiMWDYO9zeP2L9Xi/VDyyvwyFYC0UBoPBYDDqmyIBRBUjzHNIFlRxxF7d1QhwGgodyZy8QBeo77SDp1y0+1IqDVhfmIiQjavgfSalkqFQAjyM/gWRKXlcWvyrF35G0nhHzO5d7gVLFecqSDmC1dtSYGHdHenxsYiNvY6IEx7wOZXJfYKhGoogEJHE/a4UyaIYjnt1sTrACUN1JPOqAuGivhN2npGVN9QrtWchEkM2YpX3GaRUMm5O8DAav0SmoEQt2Rfwc9J4OM7uDTm1MK00MZq/dsTiwZHV25BiYY3u6fFi7cTiesQJePic4j7AUATm4DEYDAaDUW+IkJ14CYd3HcfNohe4fvIgTsc84PbJeHklEMfau2H30iGlw9ikTp4rtIID8Fs+lydBlI3ES4ex6/hNFL24jpMHTyPmgewDovSL2OezDWsXuuNs2e9IED3GLx6zYTVgED5w9oKP51fYEjMO/n7TSnpXqjtXUWYYnCfZwvfAekwZYQELC8lmCSvbGPR+11j6GUbdEWUn4tLhXTh+swgvrp/EwdMx4Mwr4+UVBB5rD7fdSzGkVCzShrqrVjAC5MVStfZE6bi4zwfb1i6Ee0Wx4PEvHphtNQCDPnCGl48nvtoSg3H+fphWIhamlaZGS9COZI5+mPMk2PoewPopIzjtWMDSyhYxvd+VfYahEGqSYHjc/xktlJCQEBw7dkz6l6EY0dHRWLZsmfQvo+XzxhtvSO8RyV9Gy2b79u34559/pH+V4eWxmTDaZYHoy24wacIjiguz7+O7jUdh4b0BI8qvKi7MRurt+3hc1B69+/eDYbvGeccruP4lhn2cgZsP9nE5TYNnz57BxMQEWVlZXE4teXkMM412wSL6Mtyatlhw/7uNOGrhjQ0VxYLs1Nu4/7gI7Xv3Rz/Ddo3TIyC4ji+HfYwMzz+x70MVLeNfT2hqauLly5fSv7WGaUd1NCPt1AeNU7szGAwGg8FQMTlIkEW7h2VlIaPUO8B4yEiMsuzfaM4do+mQk/AzQmEDh8rFgg7GQzBylCX6N1YDndFkYdpp+rByZzAYDAajRdAWfaetgeNbndnDnVEjbftOwxrHt9CZiYWhJEw7TR9mGgaDwWAwWgQa4LNo9wwF0eDzFV/VkMEoA9NO04c5eAwGg8FgKIDg6pfo304b2tqyTddiA7eHUR0Fl5ajb5ly0xmzFXeVC73X/BBcxZf925Vcs7auBTbcUDbMcyuk4BKW9y1TbjpjsLXFi6UcTDu1g2lHDrbISiuALbKiPGyRldYFW2Sl9VDbRVbw8hkeZeVBKOLSYnht2qNHVz0uxaiSgiw8fpILQdmy09BBj+4duVTTQGWLrOAlnj3KQp68WNC+c1foVTZliVGGAmQ9foJcebFAx6A7OjbxdTJUssgK004daL7aqQ9YDx6DwWAwGDXB14dhj17o1at0Y86dgmh1RPfyZdfEnDvVwoe+YQ+56+3VgzXQFUMLHbuXL7vW1EBn2qk9rV078jS7HrxHjx7h77//5lIMRbh48SIuXbqEr7/+msth1MTdu3fx7bffYu/evVwOoyUzd+5c6f3x2muvcTmMlsqRI0fw77//wsnJicthMGS8ePECM2fOxP/+9z8uh8FQnPHjx+PChQvQ0GCz0xjV07t3b3Tr1o1L1Q/NzsE7dOgQAgICuBRDEfLz86Vbhw4duBxGTRQVFSEnJwf6+vpcDqMl8/TpU+jp6bEHcytAMoRKKBRCV1eXy2EwZIhEIjx58gRdunThchgMxcnMzETnzp2hpqbG5TAYlePs7IxZs2ZxqfqBzcFrBbA5eMrD5uC1LtgcvNZDrefgMVo8qpuDx2iNqGYOHoOhGtgcPAaDwWAwGAwGg8FoIbAevFYA68FTHtaD17pgPXitB0V78Aqj/eG0Oxqvyjwh1XtNRtCW6VyKUTsESDi0Ct9ceILSte546DDeBb62g7h046B4D14hov2dsDv6FUrloY5ekzdgy3RjLs2oFYIEHFr1DS48KbsSYgeMd9kO20FNewi9Yj14TDv1RjPWTn3AevAYDAaDwSiHIO0KQq78C4PX+qBPH9n2Wk82J7fuqIFvYFRSpn36vIZ2f5/Hiav/cPubAwKkXQnBlX8N8FqZ6+ip30qX61MlanwYGBWXqXh7rR3+Pn8CV/9pKfHMmHbqjRavHeVgPXitANaDpzysB691wXrwWg+K9uC9PDYTRrssEH3ZDSbqXGYdeZkSiTtqIzDcWBUHfImUyDtQGzEcSh1O9Az3wy8iKlWInsPfxYQ3OkH+60Jk3I1BUhb3FrzoX+R3/gDvvFGuASrIxO1fz+Pq31p4c8rHsOhc2/fFAlz/chg+zvDEg30fcnmNg+I9eC9xbKYRdllE47KbSbnyqyUvUxB5Rw0jhhur5Hi11Zro2X2EX4xCqrAnhr87AW90KqeOjLuIScriel+L8G9+Z3zwzhuQV4cAmbd/xfmrf0PrzSmYbtGZy68Fguv4ctjHyPD8E/s+bNpOkGI9eE1fO7U9HtNO04L14DEYDAaDUY+8TL2CAyutYT7ABn7xRVxubXmJ1CsHsNLaHANs/KDU4fJisH26NT5x88LWtQvx3tCBmLglAjncbgmif0OxfMJYjB0r26ymfY9HBmUbrHm4e2wtZvzHCaHP+8Fm3vQ6OHcMsThw5cBKWJsPgI1fvLjZWzfqorW8mO2Ybv0J3Ly2Yu3C9zB04ERsiSijDtG/CF0+oUQbY62m4ftHBpBTx91jWDvjP3AKfY5+NvPq1kBnVI+KtVOX4zHtND1YrcxgMBgMRj0i6jAYcx2sYaSSkUIidBg8Fw7WRlDucALcCgzCc+fziL9+HXdTbuC7yTxc8ViPg2nFc1aESPw+DD2Dn0lDxRQVCVD47wl81rW4qfAckR6TYP3VI3yy9zA2zhyGrq3vxbhqEXXA4LkOsFaNOGqvNcEtBAY9h/P5eFy/fhcpN77DZN4VeKw/iGJ5CBO/R1jPYDyTaqMIgsJ/ceKzriUNyeeRHphk/RUefbIXhzfOxDAmjvpFxdqp9fGYdpokzMFjMBgMBqMe0emgBw0+H1pVhMfKv3YUh2PL9qMVk41rP4YgtoBLStFBBz0N8PlaUCralugZMkxnY6VVR9mDX9sMc5dNg7HgEf5+LJB+BHmX4HcoDklh/jh0/j6eq6lDvUwrIeuXtVjwdQo+2PEtZhipZDAYQ6cD9DT44FctDhw9HCvXy1pM9rUfESIvjhq1VhWiZxkwnb0SVh1lBtc2m4tl04whePQ3ZPLIwyW/Q4hLCoP/ofO4/1wN6vLiwNoFXyPlgx34doaRaoYKMqqnJu0gH9eOHkblVcs1/BgSC/mqpabjVQ7TTtOkTAkzGAwGg8FoaLTNjPHQxx7bop9zORKyEellj28zjGGmipfZvC6YOHkcyoZ3J6EQpDcAQ83aSNOF9xKQ1UkT8UHuWPzREJha2uFwUqF0H0QP8JPPIaT0ngiLzAC4OTljnc8x3Cieq8eoH8SOuPFDH9hvi4acOiK9YP9tBoxVIg6JPCZi8jg5dUAoJOgNGAqpPArvISGrEzTjg+C++CMMMbWE3eEkyNQhwoOffHAopTcmWmQiwM0Jzut8cOxG8XwrRuOgDTPjh/Cx3wb5qiUSXvbfIsPYrNz8t9rBtNM0YQ4eg8FgMBiNid4IuAU4QbjDHlujJC0xsXPnaQ8/TVfscbGUc8pURwFiwyLQ0XYFbLjFQdtYLMfhS3FITU9G+J7F6PvgABZ/6okbkpbY03M4G/EK7QzaQ8/0Q8yZPgQvQuwxbrQTzj5lTbH6Qw8j3ALgJNwB+61RUicvO9IT9n6acN3jAsv6EYdYHrEIi+gI2xU2kMqjjQWWH76EuNR0JIfvweK+D3Bg8afwlIkD585G4FU7A7TXM8WHc6ZjyIsQ2I8bDaezTyXfZjQSeiPcEOAkxA77rZBVLZHwtPeDpuseuNSXeJh2mgTMwWMwGAwGo7HRG4nVgcsg2r4QS5Yswi4NFwS61pdzBwiTD2BX0izsWTcafC6vBO1eGGcXgLCgz9H5VihCbwkgSP8H6UXaGG+3AbPGDsaQ8Z9je6AT+iYHYcdPD7kvMuoHPYxcHYhlou1YuGQJFu3SgEuga/05dxAi+cAuJM3ag3Wjy6tDG73G2SEgLAifd76F0NBbEAjS8U96EbTH22HDrLEYPGQ8Pt8eCKe+yQja8RP3PUZjoTdyNQKXibB94RIsWbQLGi6BcK038TDtNBWYg8dg1BLhgxP4asE8zJsn2z5ffgC3uaksjGoQPcZp94Ul5TZv/lLsvdHEC074ACe+WlB6zp8vxwFmbAUQ4fFpdywsLrd587F07w1uH6MCuv0w1lyAuLgimI/pW2/OHXJj4LsjHfP3uMGiHZdXCfrW0zGxax6ynwuhpqOLdmoEotLeOo1+I/FmFwHSklO5HEb9oYt+Y80hiItDkfkY9K03cUjk4Ysd6fOxx80CVcpD3xrTJ3ZFXvZzCNV0oNtOTawNKh1Wp9EPI9/sAkFaMpfBaEx0+42FuSAOcUXmGFOP4mHaaTowB4/BqCWUdRO//NkVH8+fj/nibd6MUejB7qia4elh0EefScts/vzZGPj8EqL+buLOEmXh5i9/ouvHMlvPnzcDo5ixFYAHvUEf4TPuHpk98DkuRf3N7WPIk40IbwfsNXDHhXNr0dbXDl5Xs7l9KqTgHoK9z+H1L9bj/eLVMXMrW4VBAgGaxjDtowF1wzcxuIcIDx/8g9K7tS3aaqlD38CASzPqi+wIbzjsNYD7hXNY29YXdl5XxYpRPQX3guF97nV8sf59lMojV/afchA0YWzaBxrqhnhzcA+IHj7AP2Wq8rZttaCuz7TR6GRHwNthLwzcL+Dc2rbwtfNC/VQtTDtNCdZCYTDqAK/j6xjzzjt4R7y9PdYc+uyOUgA+jC0nSMvsnXcmYEBXJVcDbCx4HfH6GJmt33l7LMyZsRWCb2yJCdw9MmFAV6VX92sxFAkgIrHDVCmSBVUcsVd3NQKchkJHMicv0AXqO+3gGVl5S6xIIEKFwxUmImTjKnifSSnjhJVBkIIjq7chxcIa3dPjERsbi+sRJ+Dhc0qyEw+jf0FkSp7ss2KyL/yMpPGOmN1bHdAag/lz++PP08dxT7Y6AkSZd3H/xRDYTH5dlsGoJUUQiEjiTleKZEEVx726WB3ghKE6kjl5gXBR3wk7z8jKnbxKtVaIxJCNWOV9BilVvE8TpBzB6m0psLDujvT4WLE+riPihAd8TmVC8DAav0SmoEQd2Rfwc9J4OM7uDXVoYcz8uej/52kcLxUH7t5/gSE2k2VpRj1RvXakC6o47oXu6gA4DdWRzskLdFHHTjtPVF61VH68wsQQbFzljTNViIdpp+nBWigMRiPw/I9whAbtQ/DZm8iscwib5/gjPBRB+4Jx9mamkrGxRHh2/xJCDwbh6K8JeFrhy0Jk3L2KiIgI2Xb5JC4kyC/LLUWQidv/9yP2fheK6/+yBRfkeP4HwkODsC/4LG7W3dh10o7o2X1cCj2IoKO/IqGisSHMuIurxbaOuIyTFxLkl9HmEGTexv/9uBffhV4HM3dNiJCdeAmHdx3HzaIXuH7yIE7HPOD2yXh5JRDH2rth99IhpcOapE6eK7SCA/BbPpcnQZSNxEuHsev4TRS9uI6TB08j5oHsA6L0i9jnsw1rF7rjbNnvSBA3msKcJ8HW9wDWTxkBCwsL6WZpZYuY3u+K9z/GLx6zYTVgED5w9oKP51fYEjMO/n7TuLfxbWCxJgjepqdht9AbP574ER5rw2C0dT9cB2pIf4KhPKLsRFw6vAvHbxbhxfWTOHg6Bpw5Zby8gsBj7eG2eymGlIpD6uS5agUjQF4cVWtNlI6L+3ywbe1CuFcQh0QeYXCeZAvfA+sxZYRMGxYWlrCyjUHvd43w+BcPzLYagEEfOMPLxxNfbYnBOH8/TOO6atpYrEGQtylO2y2E948n8KPHWoQZbcV+14HS/QzVU6N28BJXAo+hvdtuLC0Vj8zJc9VCcMBvkFNPlccTIf3iPvhsW4uF7melny0L004ThRgtnmPHjtH06dO5FEMRoqKiaPjw4Vyqcori19OI/wRSJpdWjHy6HbiIbGbYkr3tZBrcSYu6TwqkPwXcbmXJv02Bi2xohq092U4eTJ20utOkwD9JscPlUrTPVBo2cBgNM+9GfJ4mdZ+wmX5/we0WI8w8QjO78CQv86QbT38qfZ8u5PZKyKWEo1/Q9Pc+ofVHrlN6PpetMPkUZjeUFp56xaUbh/79+9OdO3e4VCUUxdP6Ef+hQOWMLTZPIC2ymUG29rY0eXAn0uo+iQJrb+w6aSc32oemDhtIw4aZUzc+jzS7T6DN8samIzO7kPiRK7M3T5+mfp9OZa1NuQl09Ivp9N4n6+nI9XTxGSlHfpgdDV14iks1Dj4+PrRixQouVTV5Rz+hTmO3UlJtzdVIFGTdIz9nd4oq4DKUQZBFKTeuUmRMAj3MlbO8HPlP/qT4+CR6WpvfqEARXVs7iHrZnuXSjcfTp0+pQ4cOXKo68ujoJ51o7NYkBevaJkJBFt3zcyb32omDslJu0NXIGEp4mCtfL5Ql/wn9GR9PSaoRh1ge12jtoF5ke1bph0uDo6GhQYWFhVyqKpqpdqiAsu75kbN7FJdWBqadxoD14DEYDYgwLRTHXy5G8LF9CNh3CpeDZkP93EEcT65Nz44QaaHH8XJxMI7tC8C+U5cRNFsd5w4ehyKHE9wKRNBzZ5yPv47rd1Nw47vJ4F3xwPqDadxkZyESvw9Dz+BnKCoqEm8CFP57Ap8VD67Hc0R6TIL1V4/wyd7D2DhzGLqqJiRTy0CYhtDjL7E4+Bj2BezDqctBmK1+DgePJyvZyyqjTtoR3EJg0HM4n4/H9et3kXLjO0zmXYHH+oNI43rghInfI6xnMJ5JbV0EQeG/OPFZ19JhHs8j4THJGl89+gR7D2/EzGFdVRJDiaFKcpDwcyhg4wBLWWg75VDvAOMhIzHKsj8M21XdPNDqZIrBg02gX5vfYDQaOQk/IxQ2cKidONDBeAhGjrJEf8N2VQ//0uoE08GDYcLE0bLISYCsarHkMpSBaacxqLoGZzAYKke98xS4OQ+HDpfWMewBg65m6NdVncsRk38NRw/HiptqFcm+9iNCYosHzamj8xQ3OA8vORoMexigq1k/lD1c5YjwLMMUs1daoaO0FtCG2dxlmGYswKO/H8vm7+Rdgt+hOCSF+ePQ+ft4rqYO9TI1RtYva7Hg6xR8sONbzDCq8QdbH+qdMcXNGaXmMUQPg64w69dVbLli8nHt6GHEVm5s/BgSWzJEUiHtVIHoWQZMZ6+ElczY0Dabi2XTjCF49Dcey4yNS36HEJcUBv9D53H/uRrUyxobWfhl7QJ8nfIBdnw7A8zcTZW26DttDRzf6swe7owKtO07DWsc30JnJg6GsrTti2lrHPEWE0+zgVmKwWhI+O1KY04VpuL4wVRM/cEHk/S4PAnaZjB+6AP7bdHSoLbFSCba23+bAWOz0n4TfrvSODOFqcdxMHUqfvCZhLKHqxweukycjHFlV0smIYSkhwFDzSB5f1Z4LwFZnTQRH+SOxR8NgamlHQ4nFU+CfoCffA4hpfdEWGQGwM3JGet8juFGFpuQVQofpeYpROrxg0id+gN85I0NM+OH8LHfhmh5Y8PL/ltkGJuV9pIpop0q4HWZiMnyxoZQSNAbMBRmMmMjIasTNOOD4L74IwwxtYTd4STxWcsQPfgJPodS0HuiBTID3ODkvA4+x26AmbupoQE+n82HY1SOBp8vVgiDUQs0+GBVS/OCOXitAB6Ph7Zt23IphiKoqamhXbsqo7jUEREeXfGDwzuj8Zn/UQR+HVhuyWLJBPoAOAl3wH5rlNTJy470hL2fJlz3uFQMbit6hCt+Dnhn9GfwPxqIrwNrt3x2QWwYIjraYoWNvjTdxmI5Dl+KQ2p6MsL3LEbfBwew+FNP3JC0+p+ew9mIV2hn0B56ph9izvQheBFij3GjnXD2afNr9evq6kptXh+IHl2Bn8M7GP2ZP44Gfo3AcutTSya8BzgJscN+K6JkxoanvR80XffApaKxa9COghTEIiyiI2xX2EBq7TYWWH74EuJS05EcvgeL+z7AgcWfwlNqbIm5zyLiVTsYtNeD6YdzMH3IC4TYj8Nop7NobubW0NBAmzZsCBCjIpI6oEOHDlyKwVAOfX39enuOMBjKwhy8VoBIJMKrV6+4FEMRiAh5eaXLhasWHgytlmL3hThc3mkD7Sub4OKfUG5elh5Grg7EMtF2LFyyBIt2acAl0LWicyeBZwirpbtxIe4ydtpo48omF/gnKDnLS5iMA7uSMGvPOowu7RSUod0L4+wCEBb0OTrfCkXoLQEE6f8gvUgb4+02YNbYwRgy/nNsD3RC3+Qg7PjpIffF5kNOTo7U5vUBz9AKS3dfQNzlnbDRvoJNLv4obx69kasRuEyE7QuXYMmiXdBwCYRr5cZWQDs1IUTygV1ImrUH6yoaG73G2SEgLAifd76F0NBbEFsb6f+ko0h7POw2zMLYwUMw/vPtCHTqi+SgHfjpYfPy8AQCAQoLi/smGYxSJHVAdnZt3pgwGMCzZ8/q7TnCYCgLc/AYjMaiTTeMdgrElint8cftypaj10W/seYQxMWhyHwM+lbW3i9Dm26j4RS4BVPa/4HblYUyqJJcxPjuQPr8PXCzqLrXUt96OiZ2zUP2cyHUdHTRTo3ED7PSxr1Gv5F4s4sAacmpXA6jlDboNtoJgVumoP0ft1GZeXT7jYW5IA5xReYYU7Oxa9BO1eTG+GJH+nzscbMoXZK/PPrWmD6xK/Kyn4vdQTXo6LaDmrjhUmpuDfQb+Sa6CNKQnFpFUC0Gg8FgMBiNAnPwGIxGpT1MTAzRzdCwwtyI7AhvOOw1gPuFc1jb1hd2XgoMvWxvAhPDbjA0VHSwfAHuBXvj3OtfYP37xSsm5iInV/qfchCgaQzTPhpQN3wTg3uI8PDBP2UCKrdFWy116BsYcGlGedqbmMCwmyEqmCc7At4Oe2HgfgHn1raFr52XAkMvq9ZOVRTcC4b3udfxxfr3udhmYmtXbmyxtTVhbNpHfGx1GL45GD1ED/HgnzLOXNu20FLXh4EBW3GFwWAwGIymBHPwGhJRFq6FnMadijFGmx8vUxAZk1rt0DBR1jWEnL4jF0iztrxMiURMajW/1lzKtjATf6U8LXWKhEkIv9UNCxeMlC5sUoxkQRXHvbpYHeCEoTqyoLYu6jth5xkp5+QVZv6FlKeljW5hUjhudVuIBSOlK2cgMWQjVnmfQUqlnSwCpBxZjW0pFrDuno742FjEXo/ACQ8fnMoswMPoXxCZUjpMNfvCz0ga74jZvcUNeq0xmD+3P/48fRz3itddybyL+y+GwGby67KMBqemoO0NTSEy/0pBqXmESAq/hW4LF0BqnmIkC6o47oXu6gA4DdWRBaF1UcdOO09Eyhu7Wu0UJoZg4ypvnKnc2BCkHMHqbSmwsO6O9HixrWOvI+KEB3xOZULwMBq/RKagxNrZF/Bz0ng4zu4tXfFTa8x8zO3/J04fv8ctvCJC5t37eDHEBpNfb2QHr1kE2X+OP8JDEbQvGGdvZio5pLYS6hI8X/QM9y+F4mDQUfya8LSScxEi4+5VLti9eLt8Ehcq63JuFuUuQObt/8OPe79D6PV/ubymx/M/whEatA/BZ29CWXNWpG5aEz27j0uhBxF09FckVFKJCjPu4mqxNiIu4+SFykYQNOVyr/k5oVp71C+qPte6HK/la0eMgnWvIPM2/u/Hvfgu9DoarXokRgMhpMfH51Fv/ntKB0uuKyoNdJ6XQuH7XWmiEZ8MPvsvVRmeWviYjs/rTfz3lA0ELk9eSjjtd51IRnwD+uy/Vf2a6su2vgKd5190IhMtPeo3eQVt9fMjn00byT+8XDDpvHDyWu5PN3K5dAnZFOWzhDyuFJdDPl10MiEtvX40ecVW8vPzoU0b/Sm8OBC5MI12W+uSGq8zzTtZvuyElHHWkd7gq8mCWpdsPOpgE0SPix7Q/sn6pM7vQ+8v96RtHuto5YbDlJDHfV1CXjwFzBpGI+d4UfDxYPp67kdkeyBByeDXqgp0XnPQ9uqol0Dn+RfJyUSL9PpNphVb/cjPZxNt9A8nuTjxlEfhXsvJv6KxKTvKh5Z4XCm5x6rXjpDSdluTrhqPOs87Kc0pizDjLDm+wSc1OVuDeB1sKOhxET3YP5n01fnU5/3l5LnNg9at3ECH5YwtMXcAzRo2kuZ4BdPx4K9p7ke2dCBBSWurNNB57YLsN3ig8/zbFLjIhmbY2pPt5MHUSas7TQr8s9ZBjusUPD83mnymDqOBw4aReTc+8TS704TNv1PZ20SYeYRmduGVakR/Kn0vJ9ralXvV1E+g89yEo/TF9Pfok/VH6LqCJ9nwgc7z6XbgIrKZYUv2tpNpcCct6j4pkBQ1ZwXqqLXcaB+aOmwgDRtmTt34PNLsPoE2l61EhZl0ZGYXSQBlmT54+jT1e/nnV23KvVpUGqy6pudE3ezRsIHOVaydOh6v5WtHcnspUPfmJtDRL6bTe5+spyPX08Wl2ngwB6+BED44Qis/HkU92zZzBy8ni7ILkumbsVrVOHhCenBkJX08qie1raODl5OVTQXJ39BYraodvPoo2/py8CRlk5N2k6Kib1NadhGXVweEOZR2M4qib6dRpYcryKJ7fs7kHlXAZSiBIItSblylyJgEepgr55XIkf/kT4qPT6KntfgJyUNFFQ5e0U0fsl8fTs+kp/mKEvdPox5ih+Vt31S5B0hV1IuDJ0aYk0Y3o6Lpdlq2uBlbV2rSTgFl3fMjZ/coLq0MAspKuUFXI2Mo4WFuNWWWT0/+jKf4pKfiX1Me1Tl42RSxZQL1MJtPx9KUa9E0rIMnoNRgd9oRncOls+j0gp6kNcqLEmtzXEEqBbvvoNLDnaYFPbVolFeiAo3FIrrpY0/rw5/J7PsqkfZP60Hq/LfJN7XY4gK6u20euZ4T67WoSLwJSCAnhtqXe9Wo3sHLjthCE3qY0fxjaUo1ohvawROkBpP7jmgqNecC6qk1irxqJ466aa3oJvnYr6dwWSUqlsd+mtZDnfhv+1KxPAR3t9E813PiZ41EG0UkkBdHrcu9WlTYSK/pOVFXezSkg6da7dTxeK1AOwrVvdkRtGVCDzKbf4xUVj3WgVY5RFOYn4f8SntWRSh4mS/+tyIigUA21EFYgILKR0BVjTAZ3/vex4QlVtBr7iWu0wF6kngoWlUvBSxM/h6+9ydgiZVexTHACgfxlqHTQU8au6fKn2t2ZcuDjtEgjBg+AEZ6Kggqw9OB0aARGD7ASGwXLq8MOQk/IxQ2cLCsxbLw6h1gPGQkRln2h2G7qgtXq5MpBg82gX4tfqJ6FA0CrkDQ9kaCp2OEQSOGY4CRWMdcXu2pQTs5Cfg5FLBxsOQylEEdHYyHYOQoS/Q3bFfN2H0tdDIdjMEm+nJDilVB/rWjOFy5sXHtxxCUrRqaT5B9dXSe4gbn0mj3MOxhgK5m/VA2Pr3C165Q8PwqED1DhulsrLTqKLOvthnmLpsGY8Ej/C2Ldg/kXYLfoTgkhfnj0Pn7eK6mjrLx7hut3JV5bmT9grULvkbKBzvw7QyjmsulEVHvPAVuzsPFqpChY9gDBl3N0E9eHApeu2JaqwrRswyYzl4JK1klKpbHXCybZgzBo78hk0ceLvkdQlxSGPwPncf952pQlxdHI5W76p4TCtmjiaDYuSpaNnW79uarHVXWvVn4Ze0CfJ3yAXZ8OwNN4bFUpoRbPs9vBOGL5V9ga4A/lr0zCNZfhuGxxJsTPUXEt/ZYtHo79vp/jXnvjMMnHheRLt738o8z2Dx3BEzGuiHIdwmmjB+I7gb9YXvsAYSCNPxv9dvoZdAD1ht+lx0r9z5+shuBMU6nkSYVdiHufeeHh5Oc8W77muOjiDKvIchhDHp27oX/bI3Fo8SDmPvmWNj5X8HfSo6HbhQK7+E7v4eY5PwuKr1cJYJ414xyZdsaadt3GtY4voXOzfJOVzQIeM1B21sFbfti2hpHvNU8jS2uGozx0Mce2+SNjUgve3ybYYySqqGZBdnnl0a7R2HqcRxMnYoffCZBLty9oteuUPD8KuB1wcTJ4yB/mwhBegMwVBrtXlJ9JyCrkybig9yx+KMhMLW0w+Gk4km2jVjuCj83RHjwkw8OpfTGRItMBLg5wXmdD47dyKr0xW2jw28ntihHYSqOH0zF1B98IGdOJZ6ZimitKnhdJmKyfCUKoZCgN2AopPIQP9sTsjpBMz4I7os/whBTS9gdThKrUEJjlrsKnxOK2KOpoNC5Klo2Yupw7c1XO6qre0UPfoLPoRT0nmiBzAA3ODmvg8+xG2jUxxLXk9fiET4MpplD59LRTFm3cPapz6kH/y36NrWI/jk0lYzGeNFdrku16M+d9LZeR5q4K1GSorh1g6mNwbu09Vq2OJ1L5+yNSXukB92XfD7n/+j/Gbeh/qujuSFLOXTGeRF994/sd/Ljv6VlXlfF3xIfKXoNvdFOgWGEr+Lo65Htqcesw3QzZBkt3HW3TsO7VDpEU4LwMfm/o13JEM18iv92GXldlV4tRa95g9pVOkQzm656zaRZ3lfF/yPKivCgmZ9uo5gq5ksJH/vTO9oVh2jWqmwVpP6GaDLkqXmIZvZVL5o5y5uuysRCHjM/pW1ViYUjP2IlDRm2hiLkp5FVSX0N0WTIU+MQzeyr5DVzFnnLjE0RHjPp020xcnPEKPM7+pDPow5jXOmn3+LpxuUgchrRkdr1c6AzT+SH/VRGg8/BkyB8SOG7ltDY7pqkpmlI7275XXx15VDk2jmED8Np15Kx1F1TjTQN36Utv1c4mgLkU8TKITRsTQRVuE1ePaArgfY0opM68S3cKU7ycKtjuVeNokM0FXluZNJ3H/KJ12EMuf70G8XfuExBTiOoY7t+5HDmCfeZqmn4OXgShPQwfBctGdudNNU0yfDdLVTRnEo8MxXRmiLkR9DKIcNoTYVK9BU9uBJI9iM6kTrfgtxl4qhTuVeLgsPsVPecUMQeldOwc/AkKHauipdN7a9djmamHVXUvZnffUh8Xgca4/oT/RZ/gy4HOdGIju2on8MZqlP1WAdaiYMnoD+9x5D+xz+WjC+WzFd59vQFCYUptH08n0yXh5eZU/KEDtq0J81hm8T/l3x3NGm/7kxXpB8Q0F/bxpJ2Hye6JNVMEd3eZEFtX1tCv0q0/OwYLVseSs8ku3KjyNvJh65zbVdlnJBX1zaQhU4HMpqyU+ZI1oGGcvByo7zJyec6l1edgychmyI9Z9DH9vY0bdZWiq6mHq7UwatD2SoCc/AaCsXm4GVHetKMj+3Jftos2lqdWCQIkmj3rCnkda3iwiVVwRy8hkGhOXjZkeQ542Oyt59Gs7ZGV3jIFt3aQG9q8snmUOkeyb34pmZbemfXAy6nahrFweMoeBxBvtP7UBut4bT5TiUHruHa5SmgxxG+NL1PG9IavpkqO1x1CJJ206wpXlTdbfL0tC31bjOA1l4rqnO5V40yc/BqeG4U3aINb2oS3+ZQadlJ7l1xXtt3dnEZVdM4Dh5HwWOK8J1Ofdpo0fDNdyo5ruLPTAk1aq1aBJS0exZN8bomfYFaKU9Pk23vNjRg7TUqqmO5V4sS86hU+pyo0R4VaXgHj0OBc1WqbGpx7aU0T+3Ure4tolsb3iRNvg2VVo9FFL9enNf2Hdr1oHE8vFYyRLMIf/yRCl5b7TJjUtugo74ueIJ/pPMPhEKRdGkfGbowNekG/PuYS5dFDWpqapKuTy6tgf6f28Lq2X8R9L9neHzqN7Sb9AE6Qojkve44knwP+1YswZIlS7B023mkF97HkTUOcAu6yX2/crTf/H9YPE6Ix/E3kfisSQ4ukUeYjL3uR5B8bx9WiK91yZKl2HY+HYX3j2CNgxuCbnJzPEpQLoi3PHUrW0bzQ/Eg4IoFbWc0YXT7Yay5AHFxRTAf01duSKGEhgqyr9FlKD4YZQy+Ckd/t+k2Gk6BWzCl/R+4XXm0+2qvXZ6ag+dXSW4MfHekY/4eN1R3m+hbT8fErnnIfi6sx3JXg67pW7Ae2JlLV0cNzw01Hei2U5O8uC4d3qXRDyPf7AJBWjKXoQo00GXoBxhlzBefvYpo0w2jnQKxZUp7/HG7suXjlXtm1qi1asiN8cWO9PnY42aBKuWhb43pE7siL/s5hPVZ7mri9thb1hjYueZJTSp9TtRoj9rSGNpRpmzE1OHam6t26lb3qkFHtx3UJJ1mpReBfiPfRBdBGpJTy7d/G4ZW4uDxoKfXDi+iLiKqNKwXkJeMPx51Q89uanh0J142h45D4vBpGplwqerh9ZqJxf8BwoL88N2Nrvh4vGSgrvihNfxTzJ3QFyYmJtKtj5EBtNX46GLcB8Zdqmt8ivBv2HZcG7sFn/F+xIq1/0OT9/HEN9LwT+diQl/ZtZqY9IGRgTbU+F1g3McYXcQ3cFlqFcS7hLqULaPZoXAQcGWCtjOaJtmI8HbAXgN3XDi3Fm197eBVztgNFWRfkHkD/7uaipelb/5UQ3txnWXYDYYVo93XeO2VUWXw/KoouIdg73N4/Yv1eL802r3sbwXEF69pDNM+GvVY7oScpMs4d7vmmFc1PjfUDfHm4B4QPXwA+Zj8WlDXV502pLG6bvwPV1NflnkxrArai59nhuhmaFhhUaZaPTOr1FrVFNwLhve51/HF+vdRKo/KK1GCJoxN+0CjPsudcpB0+Rxu/1vDIgT18pyo2h61p+G1o3jZlEX5a2+22qlz3asOwzcHo4foIR7IXwS01PVhYNA4K65wJmjptMHQSe+j94MgLHMKQmxmAQRPY+C/7jBS9Ppg+vz3oBt9BIfvcYYR/oWrsYX4wG6WLCkSe1cld6Jk8qjE2xJ76rIMMR3xkd1MGPzqg8tGMzBUejfw0GXMPLisXImV3OYyxxIGmkZ4234lHD8ylX6zsLAQBQUFJZtAIIAo4xQ2hRjCeZUjvLbPgSh4Bdb+8qxBJpwqRhEEorLXL4bXBWPmuZRc68qVLphjaSB2kt+G/UpHfGRaKnBFg3iXUCQuk5IeUwmKlS2jBaBoEHDxQ7PqoO3NYXUihuQhG+nliL26qxHgNBQ6eiPgFugC9Z128Cxr7CYZZL9qCjP/QkpptHsIk8Jxq9tCLJCPdq/YtaOG4PmFiQjZuAreZ1LKOGFlEKTgyOptSLGwRvf0eMSK75PrESfg4XNKshMPo39BZErpW9DsCz8jabwjZvcW19+NXO6KPTe0MGb+XPT/8zSOl54k7t5/gSE2k2XppkRhJv5KeVpqK2ESwm91w8IFI2WLfnAo+sysXmuFSAzZiFXeZ5BSqTgk8jiC1dtSYGHdHenx4jo09joiTnjA51QmBA+j8UtkCkrUkX0BPyeNh+Ps3lBv7HJX1XNCQXs0CRQ9V0XLpobjFSaGYOMqb5ypQjzNVjsqqnu1xszH3P5/4vTxe+JPShAh8+59vBhig8mvN46DJ+kWbSVkUdS308hMR53UeJrUccAs8rvGzcgTptN5949oyOi59HXgPtq5ypYc/aOlsVIKUn6lDe92JnXdkbQi5CY9SvoffTlBMkF0GC0NTSgzZvg2bZ44jfY9rHqsbVHcOhpcbp6Yjo4OtWnTpmSbM/Vt8fFfo7c9b0onUxf8FUyf9lYn9e7v0rqfk0iBkcQVUOUcPGHWfbr4gxtZ6fNI03w+BZyKprRKp0/JFqepMAdP4SDeEoSUdf8i/eBmRfpim5nPD6BT0WncPnkqK9u6UN9z8LITL1PIge/ohzPxlFHngfjZlHg5hA589wOdic9Qcry8kJ7eu0ghQQfoyPk79KTClwWUnhBJv//+u2y79F/69U4lKizKoFv/C6bAvSF0jVvISDGqm4OnaBDwGoK2K3A69ToHLzuRLoccoO9+OEPxdTd2nbQjfHqPLoYE0YEj5+lORWOTID2BIott/fsl+u+vdyqtc4oybtH/ggNpb8g1Usbc1c3Bywv3ouX+NyrO28iOIp8lHiRXNdQhyH7DzsHLp4tOJqSl148mr9hKfn4+tGmjP4XLR7tX/NprCJ4vTNtN1rpqxOs8j06Wv6WEGXTW8Q3iq5W9R8QbrwPZBD0W739A+yfri59tfej95Z60zWMdrdxwmOTi3deh3KtGgTl4Sj038ig+YBYNGzmHvIKPU/DXc+kj2wOkSEz+hp6Dl3/RiUy09Kjf5BW01c+PfDZtJP9w+eDPil97DVoTptFua11x+6czzasgDok8zpLjG3ySTEApqw9eBxsKelxED/ZPJn11PvV5fzl5bvOgdSs30GF5cdS63KulxnlUqntOKGSPamjIOXiKnauiZVPT8YSUttuadNV41HneSWlOWZqvdsS/rKK6V0JefADNGjaS5ngF0/Hgr2nuR7Z0oM4XUXtakYPHUfCU0tKeVP5AErygR6mPqZqYztXyKidH/Khqeqh8kZVWQP05ePl0O3AR2cywJXvbyTS4kxZ1nxRIf9a2ps+/TYGLbGiGrT3ZTh5MnbS606TAPxV8cORStM9UGjZwGA0z70Z8sRPdfcJm+r3M7GJh5hGa2YVXWmHrT6Xv5RqnuZRw9Aua/t4ntP7IdUpXui5TbJGV+qa+HLz824G0yGYG2drb0uTBnUir+yQKrL2x66Sd3GgfmjpsIA0bZk7d+DzS7D6BNssbm47M7CKZmC2zN0+fpn5frsGQm0BHv5hO732yno5cT6+8Hq0G1QU6l1GbIPsNvsiKMIfSbkZR9O00qjQ+vZLUFDy/IOse+Tm7U5QSZVKCIItSblylyJgEeljNg7A25V41qg90LiX/Cf0ZH09JSpxkwy+yIqSctJsUFX2b0lQjjuq1VpBF9/ycyb124qCslBt0NTKGEh7mlnMkylCLcq8WZRbKqDN1s0fDLrKiYu3UeLwCyrrnR87uUVxaGVqGdmqqe2Xk05M/4yk+6WmZhRsbh1YyRLMMbfRhZNSpNPZHWdR10b13N1QT07latHV0VDhOm9ESEaaF4vjLxQg+tg8B+07hctBsqJ87iOPJtRlGKERa6HG8XByMY/sCsO/UZQTNVse5g8ehyOEEtwIR9NwZ5+Ov4/rdFNz4bjJ4Vzyw/mAaNxxYiMTvw9Az+BmKiorEmwCF/57AZ8WD6/EckR6TYP3VI3yy9zA2zhyGrpXeWK0UYRpCj7/E4uBj2BewD6cuB2G2+jkcPJ4sLlnlqZN2BLcQGPQczufjcf36XaTc+A6TeVfgsf4g0rix38LE7xHWMxjPpLYugqDwX5z4rHiOipjnkfCYZI2vHn2CvYc3YuawrpXXow1I/QXZVyE8HRgNGoHhA4xQWXx6Zak+eH4OEmTR7mFZmzJR7wDjISMxyrI/DKt5EDaLctfqBNPBg2HStMUBHaNBGDF8AIxUI45qtZaT8DNCYQOH2okDHYyHYOQoS/Q3bFf1/J5mUe5VoWJ71CuqPtcajpeTAFnVYsllKEPL0E71dW8xWuhkOhiDTfQbfVhv1TU4g8FQOeqdp8DNeTh0uLSOYQ8YdDVDv65lxmjnX8PRw7HiplpFsq/9iJDY4jWt1NF5ihuch5ccDYY9DNDVrB/KHq5yRHiWYYrZK63QUVoLaMNs7jJMMxbg0d+PZePw8y7B71AcksL8cej8fTxXU4d6mRoj65e1WPB1Cj7Y8S1mGDXSGPOmjHpnTHFzRql5DNHDoCvM+nUVW66YfFw7ehixlRsbP4bElqxgppB2qkD0LAOms1fCSmZsaJvNxbJpxhA8+huPZcbGJb9DiEsKg/+h87j/XA3qZY2NLPyydgG+TvkAO76dAWbupkpb9J22Bo5vdWYPd0YF2vadhjWOb6EzEwdDWdr2xbQ1jniLiafZwCzFYDQk/HaQrLEqpTAVxw+mYuoPPpikx+VJ0DaD8UMf2G+LxnMuS4Jkor39txkwNivtN+G3Kzma+HDHcTB1Kn7wmYSyh6scHrpMnIxxZdcCJiGEpIcBQ81kk6rvJSCrkybig9yx+KMhMLW0w+Gk4knQD/CTzyGk9J4Ii8wAuDk5Y53PMdzIajpLATU+fJSapxCpxw8ideoP8JE3NsyMH8LHfhui5Y0NL/tvkWFsVtpLpoh2qoDXZSImyxsbQiFBb8BQmMmMjYSsTtCMD4L74o8wxNQSdoeTuMniEnP/BJ9DKeg90QKZAW5wcl4Hn2M3wMzd1NAAn9/Uex4YjYUGn89GGTFqhwYfrGppXjAHj8FocER4dMUPDu+Mxmf+RxH4dWC5JYslq6QFwEm4A/Zbo6ROXnakJ+z9NOG6xwWW5QO0iB7hip8D3hn9GfyPBuLrQGVCTpRSEBuGiI62WGGjL023sViOw5fikJqejPA9i9H3wQEs/tQTNySt/qfncDbiFdoZtIee6YeYM30IXoTYY9xoJ5x9ylr9ZRE9ugI/h3cw+jN/HA38GoHlll+WrGoW4CTEDvutiJIZG572ftB03QOXisauQTsKUhCLsIiOsF1hA6m121hg+eFLiEtNR3L4Hizu+wAHFn8KT6mxJeY+i4hX7WDQXg+mH87B9CEvEGI/DqOdzoKZm8FgMBiMpgVz8BiMBocHQ6ul2H0hDpd32kD7yia4+CeUm5elh5GrA7FMtB0LlyzBol0acAl0rejcSeAZwmrpblyIu4ydNtq4sskF/glKzvISJuPAriTM2rMOo0s7BWVo98I4uwCEBX2OzrdCEXpLAEH6P0gv0sZ4uw2YNXYwhoz/HNsDndA3OQg7fnrIfZEhgWdohaW7LyDu8k7YaF/BJhd/lDeP3sjVCFwmwvaFS7Bk0S5ouATCtXJjK6CdmhAi+cAuJM3ag3UVjY1e4+wQEBaEzzvfQmjoLYitjfR/0lGkPR52G2Zh7OAhGP/5dgQ69UVy0A789JB5eAwGg8FgNCWYg9cKaNOmDbp06cKlGIqgrq4OIyMjLlVPtOmG0U6B2DKlPf64nVAy16oUXfQbaw5BXByKzMegb2Xt/TK06TYaToFbMKX9H7idUPFoVZOLGN8dSJ+/B24WVQeJ17eejold85D9XAg1HV20U5OswlvauNfoNxJvdhEgLTmVy2k+9OnTBzxefVaHbdBttBMCt0xB+z9uozLz6PYbC3NBHOKKzDGmZmPXoJ2qyY3xxY70+djjZoEqra1vjekTuyIv+7nYHVSDjm47qElWXS4xtwb6jXwTXQRpSE6tPC5SU4XP50NPT4FxrYxWh5qaGvr378+lGAzlGDRokFRDDEZTgDl4rQBJMPXMzEwuxVAEoVCIBw8ecKn6pD1MTAzRzdCwwtyI7AhvOOw1gPuFc1jb1hd2XgoMvWxvAhPDbjA0VHSwfAHuBXvj3OtfYP37xSsm5iInV/qfchCgaQzTPhpQN3wTg3uI8PDBP6WBUdEWbbXUoW9gwKWbD3/99RdEovrviWpvYgLDboaoYJ7sCHg77IWB+wWcW9sWvnZeCgy9rFo7VVFwLxje517HF+vfR/FiqLmVG1tsbU0Ym/YRH1sdhm8ORg/RQzz4p4wz17YttNT1YWDQvFZcefnyJZ4/LzvhkcGQQUS4e/cul2IwlOPWrVtSDTEYTQHm4DEYDUlhJv5KeVrqFAmTEH6rGxYuGCm3pK5kQRXHvbpYHeCEoTqSOXmBcFHfCTvPSDknrzDzL6Q8LW10C5PCcavbQiwYKV05A4khG7HK+wxSKu1kESDlyGpsS7GAdfd0xMfGIvZ6BE54+OBUZgEeRv+CyJQ87rPic7rwM5LGO2J2b3GDXmsM5s/tjz9PH8e94nVXMu/i/oshsJn8uiyj1VOIzL9SUGoeIZLCb6HbwgWQmqcYyYIqjnuhuzoATkN1pHPyAl3UsdPOE5Hyxq5WO4WJIdi4yhtnKjc2BClHsHpbCiysuyM9Xmzr2OuIOOEBn1OZEDyMxi+RKSixdvYF/Jw0Ho6ze0tX/NQaMx9z+/+J08fvcQuviJB59z5eDLHB5NfZkppV8TIlEjGpSg6XroY6He9lCiJjUisZzluIR7Fn8OPBn/DrncwKvcGiZ/dxKfQggo7+ioSnVf+2KOsaQk7fQT6XZtTES6RExkBl8qjSvopQ9bkUPorFmR8P4qdf70D8WJBH9Az3L4XiYNBR/JrwtOrfFmXhWshp3GHiUBGtSDviZ03WtRCcZuJRHmk0PEaLhgU6V576CnSef9GJTLT0qN/kFbTVz498Nm0k//BywaTzwslruT/dyOXSJWRTlM8S8rhSHBQ8ny46mZCWXj+avGIr+fn50KaN/hReHIhcmEa7rXVJjdeZ5p0sH0hcSBlnHekNvlpJEHPZxqMONkH0uOgB7Z+sT+r8PvT+ck/a5rGOVm44TAl53Ncl5MVTwKxhNHKOFwUfD6av535EtgcSlAx+3YIDnedfJCcTLdLrN5lWbPUjP59NtNE/nOTixFMehXstJ/+KxqbsKB9a4nGFSqxdrXaElLbbmnTVeNR53klpTlmEGWfJ8Q0+qcnZGsTrYENBj4vowf7JpK/Opz7vLyfPbR60buUGOixnbIm5A2jWsJE0xyuYjgd/TXM/sqUDCUpaW8WBzmtDQwQ6z0sJp/2uE8mIb0Cf/bfu2q7T8fJSKHy/K0004pPBZ/8t0ZMU4RM6t3osjV4svrcfJtKp5eNphNMpesRptMbg+MUIH9Pxeb2J/55y9aGMegp0XgsaJtB5HqWE7yfXiUbEN/iM6iyP6uxbI9Wdi5CenFtNY0cvFtcFDynx1HIaP8KJTpWKg3ymDqOBw4aReTc+8TS704TNv1NFdQjp8fF51Jv/nnL1ZzENGui8btR/oPPWph1J1XKc5vXm03u1EU8z0k59wBy8VgBz8JSnvhw8ScWXk3aToqJvU1p2EZdXB4Q5lHYziqJvp1GlhyvIont+zuQeVcBlKIEgi1JuXKXImAR6mCvnlciR/+RPio9Poqe1+IkW7eCJEeak0c2oaLqdli1uxtaVmrRTQFn3/MjZPYpLK4OAslJu0NXIGHFDP1f8S1WRT0/+jKf4pKfiX1Oe1uLg5WRlU0HyNzRWSzUOXp2Ol5NF2QXJ9M1YrQqNuLwLjmTa6WMKfspl5Jyk+T160fz/ijOKbpKP/XoKfyZTw6vE/TSthzrx3/alVDmBCOnBkZX08aie1JY5eAqQQ1nZBZT8zVjSUkUjvRr71kw155J3gRxNO9HHpeKgk/N7UK/5/6WnYpvd9LGn9eHPZHXFq0TaP60HqfPfJl95cZDwwRFa+fEo6tmWOXgymHYU1Y5YPHRk5cc0qmdb5uDVAjZEk8FoUHjQMRqEEcMHwEhPBUFleDowGjQCwwcYobLD5ST8jFDYwMGy7JhABVHvAOMhIzHKsj8M21VdVWh1MsXgwSbQr8VPtHR4OkYYNGI4BhjpqSD+VA3ayUnAz6GAjYMll6EM6uhgPAQjR1miv2G7asbua6GT6WAMNtGXG1LMkEeng9jefD60qlpvIf8ajh6OReXx7X9ESKz8eKYaj1cdOh3EdQMf/ApfzsO5QyH4Z5AVxnXgsnRGw2pIFk4d+hkZNQbHlyFM/h6+9ydgiZUem/OhEDroIL5/+XwtVG7OfFw7ehixlYsDP4bEyg+jrdK+ilD1ueSdO4SQfwbBqlQcGG01BFmnDuHnjGfIMJ2NlVYdZTbXNsPcZdNgLHiEv+XFge9972PCEivoMXGogFakHQiR/L0v7k9YAismnlrBSo3BaMG07TsNaxzfQmd2p7d82vbFtDWOeIsZu+kjbtQYP/SB/bZoaZzLYiRzb+2/zYCxWUl4+/qjMAHRsVlo18MIXUok0x5GvfSRdyMad/RqCI4vofAevvN7iEnO76J9bdqIjErQhpnxQ/jYb0O0vDjgZf8tMozNUP/qKERCdCyy2vWAUak40N6oF/TzbiD6jh4mTh4HOXUIhSC9ARhaKg7c+84PDyc5410mjgaipWhHUrV8B7+Hk+D8bvsqnFlGTbCWAINRBwR/nMQmNze4ibfVm0ORqKpJzypC8tZfBf2EqkWUiYu+a6Rl5ua2Fgevv5BOCGvyCP7AyU0yW7ut3ozQpmds8JuesZF50RdruHtk7cHreNEsjF3fSBZOCoCTcAfst0ZJnbzsSE/Y+2nCdY9L5fEuVY0oA+n/Ajrt9co0oNTQXk8HeJKBjPLyLh8cHwW4GbAHz2c6szfsKkay0FKAkxA77LciSiYOeNr7QdN1D1waRhzIkIkDemVa12pirejgCTIqigOxYRHoaLsCNjJxoOBmAPY8nwln1rPboLQE7YjFg4A9zzHTmfX81gVWdAxGLeEZTcOmDbMxYvBgDBZvg/r3Ym+xFYGnha5mg6RlNnjwUExy8cLiYZrcziYKzwjTNm3A7BEyWw8e1B+9mLEVgAetrmYYxN0jQye5wGvxMG5fa0cPI1cHYploOxYuWYJFuzTgEujaMM6dBDUNaEhuu3LLupMkLd4hf0dWDI6fF70T+4XzsHxk1bEzGbVHb+RqBC4TYfvCJViyaBc0XALh2nDigIZMHPIv3yTrNkADmuWqa2HyAexKmoU960ZDqo68aOzcL8S85SOrjrXJqDeatXaQh+id+yGctxysaqkbzMFjMGoJr+MgfDh7LubOlW1zPh6B7uyOUgA9vPH+7JJymztnOkb1aOJL7fM6YtCHZc/5Y4xgxlYIvTfex+zicps7B9NH9eD2MABd9BtrDkFcHIrMx6Cm+PYqRaM3jA3VkPOibA864cXzXKh1N0LPMr3BFYLjC5Ox1/0Iku/twwqxc7pkyVJsO5+OwvtHsMbBDUE3Kw/VwVAO3X5jYS6IQ1yROcY0rDjQ29gQajkv5Hrc6cVz5Kp1h5G8OOC7Ix3z97jBQiYOJO91x5Hke9i3QqKNJVi67TzSC+/jyBoHuAXdlH6NUb80T+1Iqpa9cD+SjHv7Vki1s2TpNpxPL8T9I2vg4BYk+xBDIVgLhcFgMBiMRiA7whsOew3gfuEc1rb1hZ3XVbk4l/WKuinGjeqFV2nJeFQ8akqUheSUZzAYbYXB3HSYSoPj5/Iw/NO5mNDXBCYmkq0PjAy0ocbvAuM+xujSjvVu15nsCHg77IWB+wWcW9sWvnZeuNpw4oDpuFHo9SoNyaXiQFZyCp4ZjIZVqTgQ7H0Or3+xHu+XigO6wz/F3Al9OW2YoI+RAbTV+Ohi3AfGXVi3TL3TbLWTAzXd4fh07gT05bRj0scIBtpq4HcxRh/jLrLPMRSCOXgMBoPBYKiaIgFE5YY/lkWyoIrjXl2sDnDCUB3JnLxAuKjvhJ1nZOVOXqXHK0RiyEas8j6DKuLbcxRBICo3ZAptMHrBPAxI/BXn0kXSHNGTX3H+jik+XzxROlyqyuD4PxPGzHPBypUruc0FcywNoGn0NuxXOuIjUxb8viaKBKLyo2NLkSyK4bgXuqsD4DRURzqvKtBFHTvtPBFZuTgqsa9YHYkh2LjKG2eqF0el59Jm9ALMG5CIX8+li5vnYkRP8Ov5OzD9fDEmysSBI6u3IcXCGt3T48XaiMX1iBPw8PkZXcbMg0uJNlbCZY4lDDSN8Lb9Sjh+ZCo5GqMOtFztnAKvyxjMcynVzkqXObA00ITR2/ZY6fiR5GgMBWEOHoPBYDAYKkOE7MRLOLzrOG4WvcD1kwdxOuYBt4/j5RUEHmsPt91LMaSkQ0Pm5LlqBSPgt3wuT0I1xxOl4+I+H2xbuxDuZ8t+pxRRdiIuHd6F4zeL8OL6SRw8HYMH3Ec1hqxE0FZDnFjmjuCTP8Fj+Q9o+9UhfDlSC6LMMDhPsoXvgfWYMsICFhaSzRJWtjHo/a6x7AAM5RFlI/HSYew6fhNFL67j5MHTiCk2iJSXuBJ4DO3ddmNpqThkDXVXLQQH/AY5dVRpXxHSL+6Dz7a1WOh+VvrZClR3LhpDsDJoKwxPLIN78En85LEcP7T9Coe+HAktUSbCnCfB1vcA1k8ZwWnDApZWtojp/a7s+wzVw7TDUAI1STA87v+MFkpISAiOHTsm/ctQjOjoaCxbtkz6l9HyeeONN6T3iOQvo2Wzfft2/PPPP9K/1fHy2EwY7bJA9GU3mDTlDqnCbNz/biOOWnhjw4jSZcaVQfQyHYl//Av+a+boXVmMxXpFgOtfDsPHGZ54sO9DLq9xePbsmXRYWFZWFpdTFS9xbKYRdllE47KbCZquPAqRff87bDxqgR0bRnB5SiJ6ifTEP/Av/zWY91ZFPE8lEVzHl8M+Robnn9j3YQOED6kDmpqaePnypfRv1TDtNBjNSDv1AevBYzAYDAajmZKT8DNCYQMHy9o5dxJ4/G4wHzKwEZw7Rr2Sk4CfQwEbB0suoxbw+OhmPgQDG6OBzmg8mHaaPczBYzAYDAajmdK27zSscXwLLL49owJt+2LaGke8xcTBUBamnWYPsxyDwWAwGM0UDT6fvR1nVI4GH3wmDkZtYNpp9jAHj8FgMBiMShBc/RL922lDW1u26Vps4PYwak8BLi3vi3ZcmWpr62DM1rsoXlC9+SDA1S/7l7kOXVhsuMHtY9SagktY3rcdV6biTWcMtt5tfuqoHqadeqFVaEdx2CIrrQC2yIrysEVWWhdskZXWg6KLrODlMzzKyoNQFkFACq9Ne/ToqselGLWlIOsxnuQKZEuoS+FBQ8cA3Ts27kIIii+yIpHHI2TlCeWuoU37zuiqV/u5kAwJBch6/AS5grI3ngZ0DLqjkeVRI4otssK0U380X+3UB6wHj8FgMBiM8vD1YdijF3r1Kt2Yc6catDp2R48y5dqrV49Gd+6Uha9vWOEaWANdFWihY/ceZcpVvPVoWQ10pp36ouVrRxmaXQ9eWFgYjh8/zqUYivD06VPpZmZmxuUwaiI3NxcpKSkYOHAgl8NoycTHx0vvDz5fEoWV0ZJ5/PgxCgoKYGzMYrkx5BEIBIiLi8Pw4cO5HAZDcaKiojBixAioqalxOQxG5cyaNQsTJ07kUvVDs3Pwbt68ievXr3MphiLcvXtXuk2fPp3LYdTEw4cP8X//93+wtbXlchgtmYCAAOn90blzZy6H0VKRNMJevHgBa2trLofBkPHq1Svs2rULq1at4nIYDMXZsmUL1qxZA3X1phw4k9EUGDlyZL1PCWFz8FoBbA6e8rA5eK0LNgev9aDwHDxGq0OZOXgMRnkUnYPHYDQEbA4eg8FgMBgMBoPBYLQQWA9eK4D14CkP68FrXbAevNaDoj14hdH+cNodjVdlnpDqvSYjaAsb6l43BEg4tArfXHgit4pgh/Eu8LUdxKUbh1r34BVGw99pN6LlxYLJGzZhujEbrlcXBAmHsOqbC3hSdmHEDuNx0LfpTZ+oVQ8e00690Zy0Ux+wHjwGg8FgMMohSLuCkCv/wuC1PujTR7a91lOf28uoPWrgGxiVlGmfPq+h3d/nceLqP9z+ZoggDVdCruBfg9dKr+u1ntDXYott1BU1vgGMSrQivgfb/Y3zJ65ye1sATDv1RovXTg2wHrxWAOvBUx7Wg9e6YD14rQdFe/BeHpsJo10WiL7sBhMVvUh/mRKJO2ojMFwlb+ZfIiXyDtRGDIdyhxMi424MkrK419pF/yK/8wd45w35tcSrOlfRs/sIvxiFVGFPDH93At7oVNdrEeD6l8PwcYYnHuz7kMtrHGrdg/fyGGYa7YJF9GW4qU4siLyjhhHDjaEStdRSe8KMu4hJyuJ6W4vwb35nfPDOGyirlobTilgt17/EsI8zcPPBPi6n6VCrHjymncqPLXqG++EXEZUqRM/h72LCG53qfC1NWTv1AevBYzAYDAajHnmZegUHVlrDfIAN/OKLuNza8hKpVw5gpbU5Btj4QdnDif4NxfIJYzF2rGyzmvY9HhmUNkirO9e8mO2Ybv0J3Ly2Yu3C9zB04ERsicjh9jJUwstUXDmwEtbmA2DjFy9uFteNOmlP9C9Cl08o0cpYq2n4/pEBitXCtNLEaCHaEYsH26db4xM3L2xduxDvDR2IiVsiwNSjHMzBYzAYDAajHhF1GIy5DtYwEnIZdUKEDoPnwsHaCMofTojE78PQM/gZioqKxJsAhf+ewGddS5sCVZ6r4BYCg57D+Xw8rl+/i5Qb32Ey7wo81h9EWpk5Low6IuqAwXMdYK0asdRJe8LE7xHWMxjPpFopgqDwX5z4rGtJw5FppYnRErQDAW4FBuG583nEX7+Ouyk38N1kHq54rMdBJh6lYA4eg8FgMBj1iE4HPWjw+ahqWk3+taM4HFvZ++lsXPsxBLEFXFKKDjroaYDP14LSs3TyLsHvUBySwvxx6Px9PFdTh3q5VkBV5yp6lgHT2Sth1VH2BW2zuVg2zRiCR3/jsUCaxVAFOh2gp8EHv2qx4Ojh2Ep7M7Kv/YgQebHUqL2qycMlv0OISwqD/6HzuP9cDerlxMK00sRoAdqRDM3MMJ2NlVYdZQ6KthnmLpsGY8Ej/M3EoxTyJc5gMBgMBqNB0TYzxkMfe2yLfs7lSMhGpJc9vs0whpn89LhaU3gvAVmdNBEf5I7FHw2BqaUdDicVcnurh9dlIiaP0+VSEghCIUFvwFCYteGyGPWPuMFr/NAH9tuiIaeWSC/Yf5sBY9WJBQlZnaAZHwT3xR9hiKkl7A4nQRG1MK00UZqBdsTiwcTJ4yCnHqEQpDcAQ5l4lII5eAwGg8FgNCZ6I+AW4AThDntsjZI0vcTOnac9/DRdscfFUq6xUxfaWCzH4UtxSE1PRviexej74AAWf+qJG4r5ePIUxCIsoiNsV9iArS3akOhhhFsAnIQ7YL81StpQz470hL2fJlz3uMBSdWLB8sOXEJeajuTwPVjc9wEOLP4UnrURC9NKE6EZagcFiA2LQEfbFbBh4lEK5uAxGAwGg9HY6I3E6sBlEG1fiCVLFmGXhgsCXVXn3Mmh3Qvj7AIQFvQ5Ot8KRegtZYc+CZF8YBeSZu3ButF8Lo/RcOhh5OpALBNtx8IlS7BolwZcAl1V10CXQxu9xtkhICwIn3e+hdDQW1BOLUwrTYvmpB2xepIPYFfSLOxZNxpMPcrBHDwGo5YIH5zAVwvmYd482fb58gO4zYaI14zoMU67Lywpt3nzl2LvjSZecMIHOPHVgtJz/nw5DjBjK4AIj0+7Y2Fxuc2bj6V7b3D7GBXQ7Yex5gLExRXBfEzf+nHuyqBvPR0Tu+Yh+7lyqyjkxvhiR/p87HGzQDsuj9HQ6KLfWHMI4uJQZD4GfetfLJg+sSvysp8rtbgP00pTpHloRywe+O5Ix/w9brBg4lEa5uAxGLWEsm7ilz+74uP58zFfvM2bMQo92B1VMzw9DProM2mZzZ8/GwOfX0LU303cWaIs3PzlT3T9WGbr+fNmYBQztgLwoDfoI3zG3SOzBz7Hpai/uX0MebIR4e2AvQbuuHBuLdr62sHraja3r74gQNMYpn00uHTNFNwLhve51/HF+vdRvPhmbk6u7D+MBiM7whsOew3gfuEc1rb1hZ3XVbGC6heCJoxN+0BRtTCtNE2ag3bE4kGw9zm8/sV6vF8qHtlfhkKwFgqDUQd4HV/HmHfewTvi7e2x5tBX8I56/kc4QoP2IfjsTWTWYglieZ7jj/BQBO0Lxtmbmcq9IRMjCUZ6NSICEdLtMk5eSID8WlqQBiONSa14ZEkg20uhBxF09FckPFX0l/kwtpwgLbN33pmAAV1rsRpgY8DriNfHyGz9zttjYa64sREeGoR9wWdxs+7Grpt2hBm4e7XY1hG4fPICEioaG5ExqZXoSIRn9y8h9GAQjv6aAEXNzTe2xATuHpkwoGstVmRrIRQJICKxQ1UpkgVVHLFXdzUCnIZCRzInL9AF6jvt4BlZedOrSCBChcMVJiJk4yp4n0mpZCiUAA+jf0FkSh6XFv/qhZ+RNN4Rs3uXCyFcxbkKUo5g9bYUWFh3R3p8LGJjryPihAd8TmVyn2CohiIIRCRxvytFsiiG415drA5wwlAdybyqQLio74SdZ2TlDfVK7VmIxJCNWOV9BimVvF8TPIzGL5EpKFFL9gX8nDQejrN7ywecZlppYjR/7YjFgyOrtyHFwhrd0+PF2onF9YgT8PA5xX2AoRDEaPEcO3aMpk+fzqUYihAVFUXDhw/nUpVTFL+eRvwnkDK5tGLk0+3ARWQzw5bsbSfT4E5a1H1SIP0p4HYrS/5tClxkQzNs7cl28mDqpNWdJgX+SQofTphJR2Z2IbGrIqllCTx9mvp9Ogm53Xkp4bTfdSIZ8Q3os/++4nJl5Eb70NRhA2nYMHPqxueRZvcJtPn3F9xeRcmnMLuhtPCU/LEbmv79+9OdO3e4VCUUxdP6Ef+hQOWMLTZPIC2ymUG29rY0eXAn0uo+iQJrb+w6akdImUdmUhceZ2vwSH/q95ReamwK3+9KE434ZPDZf6mctSnaZyoNGziMhpl3Iz5Pk7pP2EzKmjs/zI6GLjzFpRoHHx8fWrFiBZeqmryjn1CnsVspqbbmKkFIWfcv0g9uVqQvLjfz+QF0KjqN2ycjL9yLlvvfEJdyObKjyGeJB10pawxhFt2/+AO5WekTT9Oc5gecoug02QeEabvJWleNeJ3n0cnyt5TwAe2frE/q/D70/nJP2uaxjlZuOEwJedx+KVWfqzDjLDm+wSexf87pR7bxOthQ0ONiEdWGIrq2dhD1sj3LpRuPp0+fUocOHbiUEuQdpU86jaWtdReL2Lz36eIPbmSlL65TzedTwKlo4swrIy+cvJb7042KYqEonyXkIS+WqrUnTKPd1rqkxutM8yqKhR7sn0z66nzq8/5y8tzmQetWbqDDcmJpDK2I1XJtLQ3qZculmhYaGhpUWFjIpRSEaafcsTPorOMbxFeT1w54Hcgm6LHsM7WkKWunPmAOXiuAOXjKU18OniA1mNx3RFMOl846vYB6ao0ir8TaVO4CSg12px3RJUej0wt6ktYoL1L0cIK722ie6znKLiqiIvEmEMg/fHOysqkg+Rsaq1XOwSu6ST726yn8mezzrxL307Qe6sR/25dSlXp+t2AHT5BKwe47qNQ8p2lBTy0a5ZWouANehjprR3CXts1zpXPZMlsXCQTix2wZcrIouyCZvhmrVcHBK7rpQ/brw0lm7leUuH8a9RA/wN/2TZU/Rg20TgevYSnIukd+zu4UVcBllEWQRSk3rlJkTAI9zFXqRq1HmIPXaBRk0T0/Z3KvXCyUlXKDrkbGUMLDXKXu8/qEOXhNBKadJg8boslgNCDqnafAzXk4dLi0jmEPGHQ1Q7+uZQYuKByMVB2dp7jBeXjJ0WDYwwBdzfqh7OGqhgWyrVfUO2OKmzNKzWOIHgZdYdava5lhKvm4dvQwKo9xfQ0/hsSWDJdVSDvVkHfJD4fikhDmfwjn7z+Hmrq6/Bj9KoPkivAswxSzV1pBZm5tmM1dhmnGAjz6+7HSq6Ix6pMcJPwcCtg4wLKykFHqHWA8ZCRGWfaHYTv2+G/t5CT8jFDYwKFysaCD8RCMHGWJ/obt2HwehhxMO00fVu4MRkPCb1e61G9hKo4fTMXUH3wwSY/Lk6BEMFJ+u9KFgwtTj+Ng6lT84DMJZQ9XJSyQbT3DR6l5CpF6/CBSp/4AH3ljw8z4IXzst0E+xnUkvOy/RYaxGUqsrYh2qqQQ9xKy0EkzHkHui/HREFNY2h2GYjGueegycTLkzS2EkPQwYKgZmLmbEm3Rd9oaOL7VmT3cGTXStu80rHF8C52ZWBhKwrTT9GGmYTAaHBEeXfGDwzuj8Zn/UQR+HQj5xfKUDEYqeoQrfg54Z/Rn8D8aiK8DFVwRiwWybRBEj67Az+EdjP7MH0cDv0ZguZUR9Ua4IcBJiB32WyGLcR0JT3s/aLrugUtFY9egnapoA4vlh3EpLhXpyeHYs7gvHhxYjE89byjk0JenIDYMER1tsYJFnm1iaIDPV3xFTEbrRjI6g6mFURuYdpo+zMFrBWhpaaFnz55ciqEIPB4P/fr141KqhgdDq6XYfSEOl3faQPvKJrj4J5RbtVCJYKQ8Q1gt3Y0LcZex00YbVza5wD9BmeUVWSDbAQMGSG1eH/AMrbB09wXEXd4JG+0r2OTij/Lm0Ru5GoHLRNi+cAmWLNoFDZdAuFZubAW0Uz3avcbBLiAMQZ93xq3QUCgf4zoZB3YlYdaedWiO5tbR0YGBgQGXYjBKUVNTw4gRI7gUg6Ec48aNk2qIwWgKMAevFVBQUIB//vmHSzEUQSQS4f79+1yqnmjTDaOdArFlSnv8cbtiaAJlg5G26TYaToFbMKX9H7hdYe17BWjFgWzv3LkjtXn90QbdRjshcMsUtP/jdsXQBGJ0+42FuSAOcUXmGFOzsWvQTk3ow3r6RHTNy4ZyMa5zEeO7A+nz98CtmUaezc3NxZMnT7gUg1EKESE6OppLMRjK8dtvv0k1xGA0BZiDx2A0Ku1hYmKIboaGFYY71CoYaXsTmBh2g6Fh7QZPsEC29Ut7ExMYdjNEBfNkR8DbYS8M3C/g3Nq28LXzUmDoZdXaUQhxO0TT2BSKx7guwL1gb5x7/Qusf78r9/DIBTM3g8FgMBhNC+bgNQSKBBduEeThQXxkyXUWb5HXkpBVm86RvAeIj5Q/VkREJK4lZXEfaIYUZuKvlKelQyCFSQi/1Q0LF4yUW6xC0WCkhZl/IeVp6Rg7YVI4bnVbiAUjJUdjgWwbl0Jk/pWCUvMIkRR+C90WLoDUPMVIFlRx3Avd1QFwGqojnZMX6KKOnXaekItxXYN2ChNDsHGVN85UbmxE/xKJ0hjX2bjwcxLGO86GfIzrqoLkCpByZDW2pVjAuns64mPF9r4egRMePjilguDtDAaDwWAwVAdz8OodEf4NXY4JY8dirHSzwrTvH8FAk9vdghCm7seCsePx9sT38N573PbuBExwCkGG0qMWhEjdvwBjx7+NicXHEm/vTpgAp5AM7jPNj4KIzbA2N8FAGxd84++P7R7HwF91CK4Dy3SjvLyCwGPt4bZ7KYaUjIKTOXmuWsEI+C2fyytAxGZrmJsMhI3LN/D33w6PY3ysOuQK6eFE6bi4zwfb1i6E+9ni7xQjwuNfPDDbagAGfeAMLx9PfLUlBuP8/TCtuCtO/JnsxEs4vOs4bha9wPWTB3E65oFsT2YYnCfZwvfAekwZYQELC8lmCSvbGPR+11j6mYZHhGf3LyH0YBCO/pqAp43tdxREYLO1OUwG2sDlG3/4b/fAMf4qHHIdWKbH7SWuBB5De7fdWFpqbJmT56qF4IDfUGLtarUjQvrFffDZthYL3c/KvlAG0eNf4DHbCgMGfQBnLx94frUFMeP84TetuCdO/JnsRFw6vAvHbxbhxfWTOHg6Bg+kPy5CZpgzJtn64sD6KRghtbV4s7SCbUxvvGusWJgGlfP8D4SHBmFf8FncbPJO5nP8ER6KoH3BOHszU6kh0JVSp2sXIuPu1dKXZpdP4kIlbxxfpkQiJrXisUXP7uNS6EEEHf0VCY1+k1WFisu7gXn+RzhCg/Yh+OxN1F3adSsLYcZdXC15wXoZJy9UHBLevLWi6vJuXFqKdsTiwf1LoTgYdBS/Jjxtsvdwk9aONBoeo/6oKbhwA9Awgc6L6I6fG3lHPC1zfUV04ysLGr05QfnAzkV3yM/NmyKelimtohv0lcVo2pxQ/wFB6yvQOYlLJyftJkVF36Y0sSbqjDCH0m5GUfTtNKr0cE0+GKmqAp3nUrTPVBo2cBgNM+9GfJ4mdZ+wmX5/we2ugXoJdC5GmJNGN6Oi6XZatvhuqCs1aaeAsu75kbN7FJeWR5CVQjeuRlJMwkNqrBjXqgp0nn87kBbZzCBbe1uaPLgTaXWfRIF/KlYvNHig8/zbFLjIhmbY2pPt5MHUSas7TQr8U/k6kaMu1y5BmHmEZnbhSV65STee/lT6PnFr1NkAAE6lSURBVL1UEHkp4bTfdSIZ8Q3os//K35e50T40ddhAGjbMnLrxeaTZfQJtVvQmqxIVBzqvQ3k3fqDzfLoduIhsZtiSve1kGtxJi7pPCiQlzCtPXbUnzKQjM7tIAibL9MLTp6nfp5c8KxpeK2K1qDRYtWrLu3EDnbcc7YjFQz5Th9HAYcPIvBufeJrdacLm36nONU0T1k590CodPMGrXHpVqRGElJ/3qtKGrlDsnEm/IsinfCVaarnnHWjgABty3rKPwm4/qfVDvS40jIMnpBfZL+TLTuyQrbcYSRtvlymwVzF05Mfrld6oWTHBdOx6viwhfEHZL+QtUXRjPVmM3EhlD1df1J+D17C8iPuevva7RJmVibpJoBoHr+imD9mvD6dn0ut8RYn7p1EPdT697Zta6f1cnvpy8BqUF3H0/dd+dKnpGls1Dp4glYLdd1B0DpfOOk0LemrRKK9EherXhnXwBJQa7E47Sk+WTi/oSVqjvCixNset47VLzufutnnkei5b9sKxSECCcnLJycqmguRvaKxWuYZX0U3ysV9P4bKbjF4l7qdpPdSJ/7YvpdZJcqp08OpW3o3t4AlSg8l9RzSVmncB9dQaRV61E0udtSe4u43muZ6jbKlWxG2gcmJpeK2ID63CRrpqy7txHbwWox1xfXDTx57Whz+TPbtfJdL+aT1Inf82+dZRPE1ZO/VBqxqi+fxGEL5Y/gW2Bvhj2TuDYP1lGB5L5oaJniLiW3ssWr0de/2/xrx3xuETj4tIF+97+ccZbJ47AiZj3RDkuwRTxg9Ed4P+sD32AEJBGv63+m30MugB6w2/y46Vex8/2Y3AGKfTSBMoH1xYlHkNQQ5j0LNzL/xnayweJR7E3DfHws7/Cv5uqn3UUnjQ1dOVG/MruPNfhKm9hyn9ygw/VDSIN08XerpyR8Od/4ZB7b0pKHs4RvU072Ck+bh29DBic7hkWbKv4ceQWG64hwjPMkwxe6UVOkqvUxtmc5dhmrEAj/5+rGTIh2ZM276YtsYRbzXTyLP5147icOXGxrUfQxBbPLZHvTOmuDljuA6X1jFED4OuMOvXVX7uaJNAHZ2nuMG59GRh2MMAXc36oWuZk22wa8+7BL9DcUgK88eh8/fxXE0d6uXkotNBTxrjSqvcau+iZxkwnb0SVrKbTFyVz8WyacYQPPobj+v7Jsu/hqOHY1F5VfAjQkoLSKHybqqod54CN+fh4rOWoWPYAwZdzdBPXiwNVBZ5uOR3CHFJYfA/dB73n6tBvZxYmqRWFH5uKFjezYSWoh3J0MwM09lYadVR1p4UtxnnLpsGY8Ej/F3/FU2L0o58ibdgRI9+xP+zvYih67bgixWr8I3LMNz99hsc+1uAh8GLMTv0Nbh6rIST2xYcDJyBp1unY97uP8A3ex8fvVaAR8l3kDXaCyd/v4Gjn77C4R0/IkmtNz74ajU+0n2ChwVt0ElSmjo90b7dICxY8x/01lA+uDCviyUWbPeDvekLxN/4A09u34DWwu+w29EKvZpVnSNAgtgho/enoL+cQ6ZkEO9iBAn4bxjh/Sn9WXBNJWjewUjFjprxQ/jYb0O0/NsAeNl/iwxjM8heB/DQZeJkjCurHRJCSHoYMNRMbvGaFo0GH805xrW2mTEe+thjm7yxEellj28zjFH87gfgo11J/L1CpB4/iNSpP8Bnkh6X17Tgl54sClOP42DqVPzgM0lcE5bSUNdeeC8BWZ00ER/kjsUfDYGppR0OV/fGsQy8LhMxWf4mg1BI0BswFGb1fZMp+mJQjCLl3WThtxNbmKMwFccPpmLqDz6QM29DlUXhPSRkdYJmfBDcF3+EIaaWsDucVGXbpSyNqhWFnxtiFCnv5kIL0Y5YPJg4eRzkH+dCkN4ADK3/iqZlaYfryWvhCOhP7zGk//GPJd2pkvkqz56+EOsmhbaP55Pp8nBxTjFP6KBNe9Ictkn8f8l3R5P26850RfoBAf21bSxp93GiS9LRhEV0e5MFtX1tCf2aJ04+O0bLlofSM8muCjyl07a9qc2AtXSthmGGr65tIAudDmQ0ZSfdr2OPb8MM0SyHZEibxZv05fWqLjSbIj1n0Mf29jRt1laKrmFwtWQ4pMWbX1KVh1MxLWWIZtOn5iGa2Ve9aOYsb7qaLU5kRZDHzE9pW0z1gsmPWElDhq2hCMk9qQAtYohmM6DGIZrZV8lr5izylhmbIjxm0qfbYiod0i18GE67loyl7ppqpGn4Lm35PYvbUz0NPgdPgvAhhe9aQmO7a5KapiG9u+V38dWVowGuvYRXD+hKoD2N6KROfAt3iis3RVf42J/e0S4/dKoc+RG0csgwWqPoTVYlig7RzKarXjNplvdV8f8kVYEHzfx0G1VaFShS3pXQ+HPwJAjpYfguWjK2O2mqaZLhu1uoonnrvyxKeUUPrgSS/YhOpM63IPdyYmlYrYjVouAwO8WfG4qUt2I07hw8CS1QO+I2QsTKITRsTQTVuaZpwtqpD1qJg/eKztr2IIM5xysKpOA3WmHWhl5bekkso2IK6HcXM9I0WiL+f3kHT0gpPuNI+7WlnIMnznkQQO/pdaM5oU/pUZATfSH19Con/3+LqNdrDvRr6Y9VjvARBX6gS5rGC+lUHefUNIaDJ3XIhnxBMVU6ZEJ69tt6mix2oiZvjJBWNFVTRPHrLWjIFzHi/zUMzMFrKBSbg5cd6UkzPrYn+2mzaGtNbwMESbR71hTyupbLZdQMc/AaBoXm4GVHkueMj8nefhrN2hpdw8T6Anoc4UvT+7QhreGb6Y4CbSRFHbyszUNJy2gBRSvZXquOgscR5Du9D7XRGk6bKzvZer728jw9bUu92wygteXeONbc8BJQ0u5ZNMXrGil+l1VFPp2c2oV0xvpx6epQ7sVgjeVdjlo7eFmbaaiWES1QrVgownc69WmjRcM33xGXeHnqtywq8PQ02fZuQwPWXpN7DjesVsRqOTmVuuiM5VLVo9Rzo8byrplaOXhMO9U6eIKk3TRrihcp8TivkqasnfqglQzR5EFPrx1eRF1EVEkcKDF5yfjjUTf07KaGR3fiZXPoOIRCETSNTLhU9fB6zcTi/wBhQX747kZXfDy+tGu7AqRIcGER/g3bjmtjt+Az3o9YsfZ/eFabOHKNhgB3T4Sh0NoGg6u4TqWCeAvu4kRYIaxtBrPhma0U3X5jYS6IQ1yROcb0rWocr4RcxPjuQPr8PXCzKA07wGhG6PbDWHMB4uKKYD6mr9xQnYq0QbfRTgjcMgXt/7it0viibXr1Qttuxuigwqdkm26j4RS4BVPa/4HblZ1sA1+7vvV0TOyah+znyk3wzo3xxY70+djjZoG632Xq6GLcCbq9e3Dp6tBFv7HmEMTFoch8DKqtCsTUWN6qok0v9GrbDcaqFQtGOwViy5T2+ON2xeXlG7ws9K0xfWJX5GU/V2rJetVqRayWLsbopNubS1WP4s8NMTWWdz3BtFM1uTHw3ZGO+XvcoIrHeYvTTg20EgevDYZOeh+9HwRhmVMQYjMLIHgaA/91h5Gi1wfT578H3egjOHyPm8Ap/AtXYwvxgd0sWVIk9q4kC71KkYwll3hbZYMBd8RHdjNh8KsPLhvNwNBiL0Th4MLyiDJOYVOIIZxXOcJr+xyIgldg7S/PxG5fM0HskB0Pyxc7ZEMrnf+kaBDvYgR3jyMs3xo2Q1vNbCpGWbIj4O2wFwbuF3BubVv42nnhaqVvAwpwL9gb517/AuvfL47vloucXOl/GM2CbER4O2CvgTsunFuLtr528Krc2HK0NzGBYTdDGKryDZC2NtTbtFVs8RJlaG8CE8NuMKxwso1x7dI3jjCt/o2jHAX3guF97nV8sf59FIfMzK3jTabZVhMa2jXX70q9GCymyvJWJdrQVm+DtqoXC0xMDNHN0LDCy83GKAuCJoxN+yj8orU+tCIWCzQ1tLlENSj83ChL1eVdfzDtVErBPQR7n8PrX6zH+6Xikf2tLS1OO9XTShw8gP/WRvzwzQcoClkMy+666PLWDmDOCrzXkQejz/fip9UGCLFbgM1798N37Tb8/WkIvpvTA4Wpl/HThWQUZUThv6dv4XHyeQT97740feLM3ZLViLRHL8J8q4mY86lpSYNAkeDCAQEB8PPzK9nOHNqM9Z+64q75O+ipwYPeoLcxqutf2Gc7ExvOJDeZNwPVIbh7AmEvJ8LGopIHtsJBvIuR9Qa+nGiDyg7XXGGBbBVEMrnZcS90VwfAaaiOLAC4izp22nkiUq7CFSDlyGpsS7GAdfd0xMfGIvZ6BE54+OBUY0cfVXFA7jppR5iBu1eLbR2ByycvVOz5eZmCyJjUSnRU34HkJYuKOGKv7moEOA2Fjt4IuAW6QH2nHTzljF2IzL9S8LRkQTUhksJvodvCBRjZBOuIwsy/kFJ6shAmheNWt4VYIHeyKrr2wkSEbFwF7zMplaweK8DD6F8QWfrGEdkXfkbSeEfMLv/GsUgAEZW+wixGkHIEq7elwMK6O9LjxfdY7HVEnPCAz6lM7hP1h6IvBhUr7yZKYSb+SnlaajthEsJvdcPCBSPlXpaqpiwKkRiyEau8zyClolggeBiNXyJTUPp++gJ+ThoPx9m95V96NEGtKPzcULC8mwUtSDti8eDI6m1IsbBG9/R4sXZicT3iBDx8TnEfqEdakna4oZqth4KnlJb2pMx8uzIIXtCj1Me1DgL8KienwhyxmoILL1++nBwdHUu2gwcPcntUR4PPwct5RMmPXlDdZg6WkvMomR6Vi4lX39TfHDwWyFae6ubg5VG413Lyv1Fx8H12lA8t8bhCsm8JKeOsI73BV5NdQ8nGow42QfRYAenU1xy8ugallqeu2hFS5pGZ1IVXWj76U7+nkhjXeSkUvt+VJhrxyeCz/3JlW0zdAskXU90cvLxwL1ruf6PiPJ3sKPJZ4kFXik8o/yI5mWiRXr/JtGKrH/n5bKKN/uGl11EDDbvISj5ddDIhLb1+NHnFVvLz86FNG/0pvNzJqurahWm7yVpXjXid59HJ8reU8AHtn6xP6vw+9P5yT9rmsY5WbjhMCXJTxoWUdf8i/eBmRfpiG5vPD6BT0WmyPRlnyfENPqnJ3WMgXgcbClLkJqsSBRZZyQsnr+X+VLEqyKYonyXkUVpACpV3VTT2Iiv5F53IREuP+k1eQVv9/Mhn00byDy+tj6WoqiyEabTbWpfUeJ1pXkWx0IP9k0lfnU993l9Onts8aN3KDXRYTiyNoRWxWmpcKEPR54aC5a0EjbnISkvRjlg8dNbxDeKryWsHvA5kE/RY9pla0pS1Ux+0ykDnrY1GWUWzmVNfDh4LZFse1QQ6ryv14uDVOSi1PHXWjuAubZvnSueyZbYuEgjkH0Y5WZRdkEzfjNWq4ODVNZB8MSoJdC5GmJNGN6Oi6XZadoWXajXR4KtoCnMo7WYURd9OE99nXF4dqOnaC7LukZ+zO0WVWxlTiiCLUm5cpciYBHpY2zeZKkeVgc7F1KG8G38VTSHlpN2kqOjblKYasVRfFgVZdM/PmdwrFwtlpdygq5ExlPAwt8k0XFUZrFrV5d24q2gy7dREU9ZOfdBqhmgyGE0BFsi2FaFQUOqGC6yad8kPh+KSEOZ/COfvP4eaurr8GH2dDtCTxNKrGHm2yQWS5+kYYdCI4RhgJNYnl9dk4enAaNAIDB9gJC5fLq8OVH/tOUj4ORSwcYBlZeOE1DvAeMhIjLLsD8N2LfTxr+Lyblh40DEahBHDB8BINWKptixyEn5GKGzgULlY0MF4CEaOskR/w3YtdD6Pisu7UWHaaViavnZaaA3PYDRRWCDbVoQiQakbKrBqIe4lZKGTZjyC3BfjoyGmsLQ7DMViXLNA8s2Htug7bQ0c3+rMHu6MGmnbdxrWOL6FzkwsDCVh2mn6MNMwGA2OCI+u+MHhndH4zP8oAr8OLLdCk2TicwCchDtgvzVK6uRlR3rC3k8TrntcYFl+xV7RI1zxc8A7oz+D/9FAfB2owIpYEtpYYPnhS4hLTUdy+B4s7vsABxZ/Cs8bCrX65SmIRVhER9iusIE+l8WQIXp0BX4O72D0Z/44Gvg1AsstxyWZxB3gJMQO+62IkhkbnvZ+0HTdA5eKxq5BO1XRBhbLD+NSXCrSk8OxZ3FfPDiwGJ963lDIoS9PQWwYIjraYoUNs3bTQgN8fnPviWA0FJLRGUwtjNrAtNP0YQ4eg9Hg8GBotRS7L8Th8k4baF/ZBBf/hHKrFuph5OpALBNtx8IlS7BolwZcAl0rOncSeIawWrobF+IuY6eNNq5scoF/gjJLHGqj1zg7BIQF4fPOtxAaekvJYXdCJB/YhaRZe7BudDUxIFspPEMrLN19AXGXd8JG+wo2ufijvHn0Rq5G4DIRti9cgiWLdkHDJRCulRtbAe1Uj3avcbALCEPQ551xKzQUt5QdYylMxoFdSZi1Zx2YuRkMBoPBaHowB68VoKGhgfbt23MphiLweDwYGBhwqXqCBbJtMnTp0gVqauXnnqmSmoNSN2xgVX1YT5+IrnnZUC7GdfMPJK+lpQU+n3mmjIpI6oCePXtyKQZDOXr37l3PzxEGQ3GYg9cKEAgEePHiBZdiKIJIJMKTJ0+4VH3CAtk2BTIzMyUrCnOp+qPKoNSNEVhVfLmaxqZQPMZ1ywgkX1BQgJcvX3IpBqMUSR3wzz//cCkGQznS0tIa5DnCYCgCc/AYjIaEBbJtRSgYkFtFgVULE0OwcZU3zlRubET/EonSGNfZuPBzEsY7zoZ8jOsiCEQk8f3K0YQDyTMYDAaDwZCDOXgMRgNSELEZ1uYmGGjjgm/8/bHd4xj4qw7BdWCZbpSXVxB4rD3cdi/FkJJRcDInz1UrGAG/5XN5BYjYbA1zk4GwcfkG/v7b4XGMj1WHXCE9nCgdF/f5YNvahXA/W/ydYkR4/IsHZlsNwKAPnOHl44mvtsRgnL8fphV3xYk/k514CYd3HcfNohe4fvIgTsc8kO3JDIPzJFv4HliPKSMsYGEh2SxhZRuD3u8aSz/T6imIwGZrc5gMtIHLN/7w3+6BY/xVOOQ6sEyP20tcCTyG9m67sbTU2DInz1ULwQG/ocTa1WpHhPSL++CzbS0Wup+VfaEMose/wGO2FQYM+gDOXj7w/GoLYsb5w29acU+c+DPZibh0eBeO3yzCi+sncfB0DB5If1yEzDBnTLL1xYH1UzBCamvxZmkF25jeeNdYsTANrZGXKZGISVWdA1y744nw7P4lhB4MwtFfE/C0wtcL8Sj2DH48+BN+vZNZ9XBfURauhZzGnXJVSW7y7zhx6DscOHoRiWVXgmUox8sURMakKjU8vjpqqz3Rs/u4FHoQQUd/RUJFsaDwUSzO/HgQP/16B5lViwVZ10JwuqJY8PuJQ/juwFFcZGJRHSrWTm2Px7TTxJAEw2O0bFigc+Wpr0DnLBhpeVpwoHMxdQnIXZGatFNAWff8yNk9ikvLI8hKoRtXIykm4SE1VoxrVQU6rwsNEeg8LyWc9rtOJCO+AX3237pru/bHy6Von6k0bOAwGmbejfg8Teo+YTP9/oLbLXxC51aPpdGLD4vrgEQ6tXw8jXA6RY8q6ENIj4/Po97898rcA/kU7zuN3rP/nuIeZVLKJU+aZDGD9v2prNJVHOi8DjRKoPO8FArf70oTjfhk8Nl/qa5qqYv2cqN9aOqwgTRsmDl14/NIs/sE2lwqFnpybjWNHb2YDovrkMRTy2n8CCc6VVEsJHx8nOb15tN7ZSrM/HhfmvaePX0f94gyUy6R5yQLmrHvT6XrRdUGq1YtDR7oXMXaqcvxmHaaHqwHj8FoUFgw0taEagNy16CdnATIYlxbchnyqHcwxpCRo2DZ3xAtNcZ1U0HUYTDmOljDSEWv1Gt7PMGtQAQ9d8b5+Ou4fjcFN76bDN4VD6w/mAaReP/LyxvgsK8LHLw+FdcBZpi8eQX6nViKL04/kx2AQ/R3CHx+/BPCsmN3887Ae0sKRth/iqHdO8P4LWfYD46C74EbjRL8vtki6oDBcx1grSKx1Fp7glsIDHoO5/PxuH79LlJufIfJvCvwWH8QaTKxYIPDPnRx8MKn4jrEbPJmrOh3Aku/OA05tYj+RojPj/hTXiw4470FKSPs8enQ7uhs/Bac7QcjyvcAbjCx1B4Va6fWx2PaaZKwxzyD0YJhwUhbEW37YtoaR7zFjN3o6HQQO/R8PrSqWlAv/xqOHo5FDpcsS/a1HxESKz9+qcbjVYoIzzJMMXulFTpKJaENs7nLMM1YgEd/PxY7YXk4dygE/wyywrgO0i+If2g0rIZk4dShn/EvlyUJi/G9731MWGIFvbLSokIU5SfjtwtJModO9BzpmUJ07dGFNSyUQacD9DT44Fdl3AbRith8zzJgOnslrGRigbbZXCybZgzBo7/xWGzgvHOHEPLPIFiVigWjrYYg69Qh/FwqFiR/74v7E5bASl4sKCzKR/JvF5AkEwuep2dC2LUHujCx1J6atIN8XDt6GLGViwc/hsTKD8mu8XiVw7TTNGHFw2C0YFgw0laE5MHMjN080DaD8UMf2G+LRtnZJJLFley/zYCxmRaXUxd46DJxMsaVjbhBQghJDwOGmqFNYQKiY7PQrodRmYZSexj10kfejWjckrb8CnHvOz88nOSMd9uXa/TpfAiHRUaIXjcZc3f/ht/3rsKxTpvxrW1v1rBQJQ2iFbFaukzEZHmxQCgk6A0YCrM2hUiIjkVWux4wKtOqbm/UC/p5NxAtEwsK730Hv4eT4Pxue8irRQcfOiyCUfQ6TJ67G7/9vherjnXC5m9t0ZuJpR7RhpnxQ/jYb0O0vHjgZf8tMozNoJKahmmnScKKh8GoA4I/TmKTmxvcxNvqzaFIVNFIiRaNKBMXfddIy8zNbS0OXn9RyaqNTRDBHzi5SWZrt9WbEcqMrQAiZF70xRruHll78DpeNAtj1zeSRZMC4CTcAfutUdKGe3akJ+z9NOG6xwWVxrhXAQWxYYjoaIsVNvpi02Qg/V9x86m9XpkGlRra6+kATzKQIZZ3wc0A7Hk+E85WepU0FvQwwfsMgudp48zS8bDe0wkrt85Hf21uN0NFNI5WxGJBWERH2K6wgb74Ps6QiQV6ZVrfamLt6OAJMmRiQcCe55jpXK6nl0NvgjfOBM+D9pmlGG+9B51WbsV8JpZ6R7JgV4CTEDvstyJKJh542vtB03UPXOqvomHaaQIwB4/BqCU8o2nYtGE2RgwejMHibVD/Xij/kptRCTwtdDUbJC2zwYOHYpKLFxYP0+R2NlF4Rpi2aQNmj5DZevCg/ujFjK0APGh1NcMg7h4ZOskFXouHcftaO3oYuToQy0TbsXDJEizapQGXQNf6a7ALk3FgVxJm7VmH0ZI472oa0JDcduVCoJAkLd6hmReNnfuFmLd8JKoKaS/4Jw5Xc8dj/ZY56PPXTkx9dxl+fiyZdMNQLQ2sFclwuQO7kDRrD9bJxAINmVjkX8aJtULQgKZmHqJ37odw3nKMrFosiLuai/Hrt2BOn7+wc+q7WPbzY3Hzn1Hf6I1cjcBlImxfuARLFu2ChksgXOuvomHaaSIwB4/BqCW8joPw4ey5mDtXts35eAS6sztKAfTwxvuzS8pt7pzpGNWjiS+1z+uIQR+WPeePMYIZWyH03ngfs4vLbe4cTB/Vg9vDAHTRb6w5BHFxKDIfg7711mDPRYzvDqTP3wM3C64VpdEbxoZqyHlRtged8OJ5LtS69wQOuuNI8j3sWyFuFIqdiqXbziO98D6OrHGAW9BNoPA6Ns9Yg+zZHlj1xQ/4/VcvjM7YC4d1Z+WGEjJURUNpRayWGF/sSJ+PPW4WnHOvgd7GhlDLeSHXA08vniNXrTt64iDcjyTj3r4VUq0sWboN59MLcf/IGji4BYk/WYjrm2dgTfZseKz6Aj/8/iu8Rmdgr8M6nGViaRB0+42FuSAOcUXmGFOP4mHaaTqwFgqDwWAwGI1AdoQ3HPYawP3COaxt6ws7r6soG9teNRTgXrA3zr3+Bda/Xxz3MBc5r0wxblQvvEpLxqPi0caiLCSnPIPBaCtYjv4Ucyf0hYmJiXTrY2QAbTU+uhj3gXGXdhD+dR7/d9cQAwfLmnEdhrvA38UST2Oi8Kd0MQSGKmkYrYjVci8Y3udexxfr30dxSNTcnFcwHTcKvV6lIblULMhKTsEzg9GwshyNT+dOQF9OKyZ9jGCgrQZ+F2P0Me4CsVhw/v/uwnDgYFmjv8NwuPi7wPJpDKKYWOqf7Ah4O+yFgfsFnFvbFr52XrhaD+Jh2mlaMAePwWAwGAxVUySAqNzwx7JIFslw3KuL1QFOGKojmWcVCBf1nbDzjKy84V7p8QqRGLIRq7zPIKXSto4AKUdWY1uKBay7pyM+Nhax1yNwwsMHpzLVMXrBPAxI/BXn0mWDnURPfsX5O6b4fPF7MB4zDy4rV2Ilt7nMsYSBphHetl8Jx49Mod71NfRul4o7t19KvysZiqWlrYV2vfugB2tZKEkRBKJyQ9jK0DBaEasl5QhWb0uBhXV3pMeLtRJ7HREnPOBzKhNtRi/AvAGJ+PVcumxonOgJfj1/B6afL8Z7xmMwz6VUKytd5sDSQBNGb9tjpeNHEIsFr/Vuh9Q7t1GiFi1taLXrjT5MLHWkeu1I5tx5Oe6F7uoAOA3Vkc7JC3RRx047T0RWLp5Kj1eYGIKNq7xxpgrxMO00PVjpMBgMBoOhMkTITryEw7uO42bRC1w/eRCnYx5w+zheXkHgsfZw270UQ2QdYGJkDXdXrWAE/JbP5Umo5niidFzc54NtaxfC/WzZ70gQITPMGZNsfXFg/RSMsLCAhWSztIJtTG+8a6wOjSErEbTVECeWuSP45E/wWP4D2n51CF+OVGBtvY7T4bHzAyR+vRAbvz+F099/jbUXTODtPZcNVVcCUXYiLh3eheM3i/Di+kkcPB2DB2VN2SBaEe/ODIPzJFv4HliPKSM4rVhYwso2Br3fNYZYLFgZtBWGJ5bBPfgkfvJYjh/afoVDX45UYCXGjpjusRMfJH6NhRu/x6nT3+PrtRdg4u2NuUwstaZG7YhdoiuBx9DebTeWlopH5uS5aiE44DfIqafK44mQfnEffLatxUL3s9LPloVpp2miJol2zv2f0UIJCQnBsWPHpH8ZihEdHY1ly5ZJ/zJaPm+88Yb0HpH8ZbRstm/fjn/++Uf6tzpeHpsJo10WiL7sBpOmPEW0MBv3v9uIoxbe2DCiDZepHKKX6Uj841/wXzNH78qC6FeDKP9fpCSmIqddb5j16QK+0m0uAa5/OQwfZ3jiwb4PubzG4dmzZ9JhYllZWVyOgrw8hplGu2ARfRluTVksKtCKWCxIT/wD//Jfg3lvPeXC8Ijy8W9KIlJz2qG3WR90UV4sEFz/EsM+zsDNB/u4nKaDpqYmXr58Kf2rMM1FOyhE9v3vsPGoBXZsGMHlKQnTToPC3F8Gg8FgMJopOQk/IxQ2cLCsZYNdDI/fDeZDBirt3EngaXeGyWBLDDGtjXPHaEhUoRWxWNDNfAgGKttAl8DTRmeTwbAcYlqrBjqjEclJwM+hgI2DJZdRC5h2GhRWSgwGg8FgNFPa9p2GNY5voTN7mjNqgGmFUWva9sW0NY54i4mn2cAsxWAwGAxGJQiufon+7bShrS3bdC02cHuaDhp8vvJvwxuVAlxa3hftuDLV1tbBmK13Uby+XrNFcBVf9m9XohVtXQtsuNG0VvlrfloRq+XScvQtcw/qjNmKu81eLOVoBtoRiwf8ZiaeVqGdamBz8FoBbA6e8rA5eK0LNgev9aDoHDy8fIZHWXkQlommy2vTHj266nEpRm0pyHqMJ7kClBYtDxo6BujeUYHFXeqRWs/Bw0s8e5SFPHmxoH3nrtCrw2hIhpiCLDx+kgtB2aLV0EGP7h25VNOhVnPwmHbqj2aknfqA9eAxGAwGg1Eevj4Me/RCr16lG3PuVINWx+7oUaZce/Xq0ejOXd3gQ9+wR5nrEW89WANdJWh1RPfy92GLaqAz7dQbLV471dMse/BEojLuOKNGJD13xb14DMWQ9NwtX74cUVFRXA6jJTNgwAAcPXqU9eC1AiQ9dw8fPoSPjw+Xw2DIkPTgmZqaSv8yGMrSpk0b5OXlKdmDx2iN8Hj137/W7Bw8T09PfPn/27sPsCiuLgzA39KrKCCoKKgoiprYe0GjYqImlmhCYsFesBN7DNgSkV+sEAWNxqhRwRJLijWxgwYVBaw0RWlSpAnL7p5/dhkFlGqJiOfNs8F7Z3dmd26ZOVPufPutmGKl8bSIJRKJ6i8rGa+z9wuX9/uDy5oVhesGexXK+sN1h5WG8kDj9OnTxdSbwffgvQf4Hryy43vwGGOMMcbYu4jvwWOMMcYYY4yxCoIDPMYYY4wxxhirIDjAY29GZgTOX4x8bc82yow4j4uR79EDTBhj7JVlIe76EWzbeQZxZR2brMg+XIqHgYex4+edOB4cj2wxN08J06UPEXh4B37eeRzB8S9+uljyxwg/64tfjkUUu21Ju3UEP3sshqv7NgTEv6VB2dJu4cjPHljs6o5tAfH5HgnBGGNvHgd47PXKjMTpzTNhb9sE/TyvIkfMflmZkaexeaY9bJv0g+fVV50bY4y9L6SI+HsrXEcNwmiPv5FQ2gijuD5ckYhjc7tjsHcamtu3ROamL2A39SBins67hOmKxGOY230wvNOaw75lJjZ9YYepB2NKGfw8RvBv7hg3eCgWHoxCUY+Blga5w2FhFLqP6QWNQzMxyStInPIfkgbB3WEhorqPQS+NQ5g5yQtB5ey51Yyxio0DPPZ6KSqj6VAn2Fu+nrNtispNMdTJHq9pdowx9p7QQp1uozHGvjbUxZxSKaYPz/zHFU6bzODk9hUa1bDBZ0tnoOG+yZh3MPexAsVPz8Q/rk7YZOYEt68aoYbNZ1g6oyH2TZ4H8eMlMEKT/mPwSf3ifk02TntvwG1TG5gZtcV3px4iYFFzcdp/J/u0NzbcNoWNmRHafncKDwMWoTluYbPnAZT1EeqMMfYyOMBjr5dBZRhp6EFPu4ihgrMuYfevgUgTk/mlXNoBv8CCl+wYVDaChp4eipodY+w9JsvA43SpmCgLKTKzCjlqpJBDrjydJM9GVv4zLsUuRybMq5jTM9JMFLaoghSQqxasXHR2EWenFMjOzCr6bJciW/geL05VV1NHmbrPIvvwDBzd6ofoD7ugc2Uxy6ADujRLxoGth5BQ0vSMo9jqF40Pu3RG3uQuaJZ8AFsPJYg5RZNlZQnrRVLCb8lEVFQcFBLxfcJvzwsH5cjKyHqJ2wZkyJYWsdaLWOeZUVGIUwjfIfdLQF2SjNPfDcWswzEFz4jKZGJZC3UoM3/9Eso6u/D6Jst4jJeq8oyx9woHeOy/pWOD2g88MGFFAB6LWUop590wYXUcattoizmMMVY4RdJZ/G/kCMzbtB9+ywaj3aceuJQp7PxG/Yk5H9WCqYU9XM/mXvqXfnMnxrXtiCnKy/rkD3FinStcXBdj7pAOaGw3Dfui5FAkXMJ2V0d0tf0I8zYuRC9rY1S1X1PkcnJJcXvnDIya5gHvZcPR4cP26Pv1KIyb9YtqqvzhCaxzdYHr4rkY0qEx7Kbtg7CoghSJuLR1Hhw62KD77A34tn8r1K9mBJN6n+KHM4m5wZzwnnOrJ2DMnJXw8VqC4d0744sfTiJWjCsUieewesIYzFnpA68lw9G98xf44WRs0YHgy5KGICAwGfoWljB7tudQCZa1jJFxJQDX0oqfHqh8JevDwtIsb8ejkiVqGWfgSsC1Qu7ly5V5Yzu+GTMN7hs2YPncpTj4wkoUSa9ih1Cue2/kIClgCxZ954qNZ5OE9fAYV7bMw7R57ljvNRXdP7THt3+U5rJQBe7vn48JCzZjv986TP7kc6wMzg3Hil7nUlzd4YrFe28gJykAWxZ9B9eNZ3EvcC98Dt9AWtgfcHdZhl3Hj8BjXFfUazoe3r+4YFT/7mheszpaf3sCIX8sw/gveqNdnWpoNGYPHuRWAiSd/R9GjpiHTfv9sGxwO3zqcUkIZ4Up8Zewxakjalathb7ugXh462cMbdEJ47xO437Zo1nGWEWhfA4eq9h8fX1p0KBBYuo/II8hr+46ZDpsPz0RswpKoQtuX5LD8gvCv4iSz/1AX361gi6m5k59njzGi7rrmNKw/YXP7U3w9/enNm3aiCnGWPkho3CPzqRnO5suZAvJJwfIsZoFjf49t39I+2s81dZqRHMClBOVGYdp+piNFC2X0Z21fajPijvCHATZ52hmA02q7rhf1Q89OTqeammakb27P8VGnqK9x28VuxxZuCf1NO1O6x7IhVQGHZ1gRdotXejfNOHNsju0tk8fWnFHtSRhUTOpgWZ1ctyvXNJznvxJY2sK36OfJwUlC+9P8afFnSuTZoMZdDpDTtFbB5BlRzcKzZ0V5dxZQx8ZVaGe624JnWM0bR1gSR3dQnN/E+XQnTUfkVGVnrTuljInhy4vaEq6LRfR9RzVG0qnsD78yUEaYaZJVk4nKEvMEn4ZBcxpRJr6A2lHYvHTt/iNIDNNK3I6kTeVsgNoTiNN0h+4Q1iDhUg8RGMatKfF18Qv/+Q0zbDRojqT/863jHzkUbSqqw5ZTTwuTpfTg+1fUvOhuyleWUxCSR8YYUF6XVdTpCpdjJwr5NKyGc27mLvs5INutOqiULYlrnM5Ra3qSjpWE+n4sy/5hA6Pqk469uspTpWW00PP7qSt155cLyrrhJzifvqUKuna0IhdEcIcibLOzCAbvS7kES7MUxZOHp31yHb2BWGNKquiI1WzGE1iVRQyLtOSdpXIwuFXCvKbSqPWharmwRh7f/EZPPYWGKHdHG9MVazEqIkTMWadBpy9v0FrQ3EyY4wVSR1WI31w0ncmWmuk4ObJS7iXlYRHibmnKwy6T8aoDyPg+/MZ1RmO5D+Pgj7+HBZ0C7u2/4tH1zZiwbx5mOf6G5IbdUJDisUDGaBRxQRG6hZo16slzK26YGB3m2KXI7sVhND0bGRlkZDSQ/suraAbF4tHmlqQ39qF7f8+wrWNCzBPWJbrb8lo1KkhKPbBi5dfqlVGZUN11GzVDY0rqwvdY1tMd/4MJuF/4uCVu/DdfARardrDWrzWUKPeEAzvKsc/P++G4p4vNh/RQqv21uKliBqoN2Q4usr/wc+7b6pyXhuJBjQ0hb+k/L15hP0IYbGa0Cxhupa6Bl6cTKq0hqZyyvMUiNnjBT8NO/Sy1cjN0qqFmuZl2G2Rh2P7+mOo80lvVFV9zAifeV/H/YNTYFXSbNSqoJpJBLxGj4LnuTgYfuKEkY21XtM6V0MlQ31ItGqjyQdGqrRRbUsYkzk+aGspzBHQrFkL1egh7ilPw6lbYaTPSfjObA2NlJs4eekespIeQayKgE5zzFw3A9UPO+HTHdaYPdFWNQ/G2PuLAzz2lhiiYSdbyC5fRo5tRzTg4I4xVkpqRubQCvTE/KV+iLRshrr6+QIHjUYYMboLkvZvwZ9JMThwRh+fflIFyIlA5ANNfOCwGMuWLRNe7ti07yRObp2ARs/2hp/eN5WruOVoNu8BO5MgHPC9iWwhGElOSodZN3u0EGKVnIhIPND8AA6LlcsRXu6bsO/kSWyd0KhUO956DWxQS+0JMtOicT9Gpro/Ly8uMkQ962pAQgxk0fcRI1PeN5gvajKsh9zJMWLGa6Jhhdo1JEhLTc33XQipj9MhqW6JmjrFT7esUxs1JGlITc33XSkVj9MlqG5ZA4+8+8LYwAAGqpcx+nrfR+j1W8jS1YdB8TfeFS3nNm5HqkFXJ9+ujlYVGBuWYtdHzQpjvTdjlMEROHdrgvaT9uG+8NXf2DpXe+7+QiGtRjmQ5iiXIwSA5loI9JyPpX6RsGxWF/rCus33DaDTYjzGdpYj5moQbiW99gt0GWPvGA7w2FuRcm45nHxMsfDEUczXXYtxbheQIk5jjLGiyRCyeiB6b62MCd+Oxcf19Z4beEMNtb4ci774A1s8N+KK+UDY6SmzDWGgmwD/M0EF7veShQUiqNAd4uKXo2b+Bbx3z0DlY+5Y6L4auzAZv2/4XHWmSM3QALoJ/jgTVGBJCAsMQmn2vSkjE0+06sG2oRVqVpPgYfDVvEcRCJQBn6alNdQtaqKa5CGCr+a/p0wZfGjC0rqumH5N1Ouhc/taeBIVhodPzxwpkhEWkQTTDl3QVLf46S0adUb7Wk8QFfbw2UAniuQwRCSZokOX5rAcfwAJKSlIUb0ScGB8dejpaEMRfRd3n4gfKCs1Ixjpp8L/pD8yxCyljLDbJd+fpkjAAzV7rDpzDafW9oPCbxwGuZ6F/FXXeSnK/wWyEKwe2BtbK0/At2M/Rn295yNeBRL+WIlLnb7HMLUdmDH/z1LVM8ZYxcUBHnsDciBTFDy6mJ9yQJVJPoaYs34KmhsYoe0sbzirr8G4ZecLD/JyZFAUvK6HMfa+UiThzJELSNPSVY2uK4uNwP00gjQ7S3yDoEofjPvSFMc9/oHl4Oa5Z820mqOnXVXcXDMOsw7dh3IgwrQbO/GdTwgMjYRNodDHkLCjTM+ijxKWk3wcS1ZnY/reLVg22xmzJvVFPWUgKdBq3hN2VW9izbhZOHRftSTc2PkdfEIMoVxUYaRSqdhnynD76D/I6DMWgy3rYJBjLxgG7MKvN8SLO+XhuBAoxSfjHKBuNQiOvQwRsOtX5E2+gEDpJxjnUDs3TcJvUv02JSlu+S3C7OWHEfHCtaL5FdaHa6HDyOFocus4joojvCgeHcex4HoYMbYn9EqartUBI4c3wa3jR8UBYhR4dPwYguuNwNieyhWnDnUNDWioXsrRL7XwYa+usEg8iHWbQqBa6zlxiE9WQJr1pPDti1B4cqH85HLxxwll/unHVri3ZSqmbAlEfLYMiRe9sODXCBioC2vjlh8WzV6Ow4WtDNlNbPP+A0nq5mg/wRu/ODdFYrQQ1JW4zklYvupL5LscVwIdbS2hGjxGqlAeGemZUDw9A/g0EFOtb+VoqmK+qsyE/4SkIukMjlxIg5autjAnGWIj7iONpHhaFRVxB7DYrwamz54Et5VDoNg+A/OPKAeYYYy9t5Q34rGK7b8cZEWefJNObptFXYzVSNPWkdYfCKCo/GOjZJwit2ledCVdTD+TQv4eE+mH0/nfLKfkmydp26wuZKymSbaO6+lAQJQ47c3iQVYYK69yKGRNT6qqoUXVmvel0UvX0fQ2umRYvze5/hUrvkd41/Wl1PPzTaQaA0Ukjz1OLj0sSFtNg3SNzKlhn4V0LFZO8rgA2jqpDVVSN6TWk36iv+8qO6jilyML30yDammTRKJB2vpGZGxWixp0+Io8ziUrl0Sxx12oh4U2qWnokpF5Q+qz8BgJi3pR9gWaZatJ5u0cyGnuMvqfyyga4Lia/JPEN8tj6djCPtSsw1Ba4r2J1sweTZO8Aihv8jFa2KcZdRi6hLw3raHZoyeRV0CS8A1kFH1+C01uY0jqlbvQrJ2XKCYnin60NySJWlUa/lv+vjZP8X14BgVvGUk9B35H2/b/Sksc7GnI+qv5BkgpYXpGMG0Z2ZMGfreN9v+6hBzsh9D6q4UOr5JLHk+nvu9NtQ2MyabzJzR4zDf0RTMTqvfRBPI8GyP8xnxk0XRh22yyM1EjLdvh5HngMsUo35DsT6s/tyEDdQmpaVahJg6edClN+QE5Rf1oT4YSNao6/DdlRkHZp2hWm1Y01G0XHT22i1yGOdLaK7kroth1fmEbzbYzITUtWxrueYAuq76EnB7tdaRaOtWo9Zczaf2+Q7Tq89qkodmERm/2p+iYy7TDqSXpqpvQRwsOUHDMHfprySdUXV2Lmjv9Spejr9OanlVJQ6saNe87mpaum05tdA2pfm9XOhhwiL7tVoc+WhakGiwoO3w7fWWlTurVe9CCQ3cLH4yGMVbhSZT/E2M9VkH5+flBCPJUf1npBAQEYOrUqaq/jLHyRo70mAfINLKEmZ6QevwQ0VITWFXN/5iVLKSna8DA4Pm73hTIjL+HeJjBUvhw8ZexFL2cjKBN+OGIBYZ/XgtpcUlIzUjH45hA7Dprjt0+43I/rshE/L14wEz5+aJO3fljdrNu+Ofrf3FynAGSNS1Qq0ohd+rJ0xATnYFKtapBv5BZydNiEJ1RCbWq6Rf/m6QpuLlxEXa3Wg7XtlpiZtkoMmNx63YC9OrYwsroxe9a/HRh/cfewu0EPdSxtUIhH3+BIiseUQ8UMKtjCsqUCWWqI04pPWnSPcSSOSxN8tcRKVJubsSi3a2wyrWtmPeUHDKZOiTZsYiKyYFx7Vqo/Nx3LfU6V5EjLSYWUhMLmLzMapenI+ZBJowszaAnzOvxw2hhXlYoUOUZY0zEAd57gAO8suMAjzFWJFkwlnbqg9tzruGXAcpREHMpkk9j7Q4Zpk/+SMwpBTHA+/vrQPgvaCSOzPjmpF3ZhjXna2H8xK7iyJLvsbQr2LbmPGqNn4iu7/3KYIxVJNyjMcYYY2WhVhVNWxvh4Kg26PH1eEydNhljR4zARI8odHUsQ3CnlHYfD5LlSIiMQKqY9SbpNvgccydxcKei2wCfz53EwR1jrMLhM3jvAT6DV3Z8Bo8xVjwZEoJP48y1WMCsPj5s+iHqlfV6OUUsLv52FDdSFSCJGrSrtULvXo2Qd06QMcYYKzsO8N4DHOCVHQd4jDHGGGPsXfTOBXjZ2dl48uRlH4rzfvrtt9+wf/9+bN26VcxhJfn3338xZ84cnDhxQsxhjDHGGGPs1ejq6kJb+82OkPTOBXgrV67E4sWLxRQrDWURK19qanyfQWkpFMrnEcmhqakp5rCKTCaTQV1dHRLJ8w8QZhWNsm0r+0NleTOWn7JeKPt95bP4GCsr3o6w0lq2bBkmTpwopt4MvkSTsULwJZqvWybiwmIhsagNM53yd6ChcePGqsuYlX/Zq8uMC0OsxAK1zXTK3UheyoOE0dHRqr/sDcqMQ1isBBa1zVAOm3yhkpKSYG1tjeTkZDGH/TfK9/ahtJQHhDMzM/nA8FtRMerQ68RrgTH2RinuH4SL03L8FR6Bv1dMg8uB+1CI01gFo7iPgy5OWP5XOCL+XoFpLgdwnwv7PaPA/YMucFr+F8Ij/saKaS44wJWAFYG3D+xVcR0qHAd4jLE3KB0HF0xFUOvpcOzZHV86d0e0+0qczRInswol/eACTA1qjemOPdH9S2d0j3bHSi7s90v6QSyYGoTW0x3Rs/uXcO4eDfeVZ8G1gL2Itw/sVXEdKgoHeOVJxj0EnT+Hc+eKeF0IRXh4EM7nyzsfGIE08eOFUyA90h+Htm/Eeu+fsefvUCRKxUkq2YgJvpBvOedx4VIQbsek8xGQ8iozAucvRkIuJouWjrCz+7B142bsPnkLj8XcVyNDbHhUEXUuC7FCXboQGodnVUyRjocPM6CjJ95MrF4JeglncPK2LDfNivb4Nk7t2YJN239HUHzJpf2ULP46/trhg417/kXCKzZiWWw4ooroYLJig3FB6JPi8gob6Q8fIkNHD7mlrY5Kegk4c/K2UGvYy3mM26f2YMum7fg9KL7kNp8ehrP7tmLj5t04eev1tHihEiC86EqA4AsXEJpXCYQm/xAPM3SQ1+T1kHDmJLjJv0kZuHf1fL7tuLh/cOkukkvsA2SIv/4XdvhsxJ5/E8S8l8Xbh3dDJiLOX0RkUR1Kqfcxytg/lQrXodeFA7zyRFMX2qlH8W3fLrD78nv8/u8VXLkivAIv4swfGzBt4DQcytRE6tFv0bdLF/RfdApP9A2gJX78BY8DsWFEG7T8ejPualujaaOqSDk6Fx+16ouFfz0UG6MGdHSe4J+F/dDF7gssPXQJAcd3Yvmw1qjbdABcDkXxzll5kRmJ05tnwt62Cfp5XkWOmF2o7CCsGzQIKyLqwL7/RzC/OAs9vvgJd1+yMBWxgTi0YwOWT7ZHm75rcDVvf04l69oGjB3ljgCZCXRve2P8mPW4qjyCplYVvR06I+FqkLBJEX5C6CUEJ6chNZUPHxQnO9gHYx0XYNuJczi0whFtmw2Az90SNp8ZofCdPxh9p+zB44b9MHxQq5d7mLUiFoGHdmDD8smwb9MXa14sbGwYOwruATKY6N6G9/gxWJ9b2Kja2wGdE64iKLewcSk4GWmpqXyw6GVkB8NnrCMWbDuBc4dWwLFtMwzwuVvkTlR20DoMGrQCEXXs0f8jc1yc1QNf/HT3JftvBWIDD2HHhuWYbN8GfddczduhUsnCtQ1jMco9ADITXdz2Ho8x66+qztKpVe0Nh84JuJpbCRB6KRjJaangJv/myCN/wshOdvioZy/06iW+enRDtyl+iCtmlIWMUF/MH9wXU/Y8RsN+wzGoVVVxStnw9uFdkYnI05sx094WTfp54urzOxFl2scoW/9UEq5Db4BykBVWjuRcIZdmmqTZ0Z3uysQ8FRmFuM+idZFy4S0u1ExTk9otuyXkFiHnJnl9bEb6rVzoYoaYpyKj8E39yFz/Q/rmZLKYl0PXF7UkTc229MNNcY7yGNrlUIM0Kn1Ea+4UuZQKy9/fn9q0aSOmyom0ZErJDqP/ddIm02H76YmYXZj0PV+ReQsXupojZjz5nUbX+pDmXXyaUTbyR3foSmgsJe8fRuY20+l0tjhBSRZC7l1b0qzzTzNz6PJ37ajj0mvCv5TSKOS3n+inbZvIx9eHxjawoxVh5atONWrUiIKDg8XUWyaLpO0LV1FAmphOPkgja2pTe7di2nvKOfq+mwXZOPpS1KuuWvkjunMllGKT99MwcxuaXrCwhX6oK7WcdZ6elfbl76hdx6V0TaxaaSG/0U8/baNNPr7kM7YB2a0IK/p7vwUeHh40Y8YMMVVeyShy+0JalVcJ6ODImqTd3o1uFboy02nPV+bUwuWq2OaUTX401fpwHr1ck5fToztXKDQ2mfYPMyeb6aeflbeSLMSduracRXlN/jJ9164jLc2rBPTbTz/Rtk0+5OszlhrYraBy1uQLlZiYSJUrVxZT74ocCvacRcvPJQql9lQOXfmuFXVYGlJk20s59z11s7AhR9+oV26fFX37UFoaGhoklUrFVHmURskp2RT2v06kbTqM9j+/E1HqfYyy9k8l4zr0+vEZvHJHHZLCSiU9HbWc3THZSpioLlGdei16mG8FEva6YvExKXpMnoSWemK2ijrqDP0GX1mEwmvejwhRHd4V5vf8IxTUqqFXz+ZQT7uI05eUh0mUZMiW8lGRt8agMow09KCnXfIQzCTNQVbYGZwQT9kpHsciXm4OC7O8cs66tBu/BhZ2IUQKLu3wQ2C2mBSomdRDM1tz6Ijp/GShftgdXB+tmz49l6wB22Z1ccfPF0HC4rOCjyLQuC9GDB2NkbZxCKszAP2seIj6IqlXRf9Z09HGQEwb1ICFqTlsGpoLrbcwyTgyfySWRHyCVasHw7KwN2Vdwu5fAwu97CXl0g74FSxs1GtmC/PCCxt+u4NRv3XTZ1cOaNg2Q907fvDNLWwcDTRG3xFDMXqkLeLC6mBAP6sivjcrmjqq9p+F6XmVADUsTGFu0xDmha5MgjQnC2FnTohn6RV4HBsPubkF8pp8Fi7t/hWFN/lL2OEXiLxaoAaTes1gW3glQKjfbgTXb428Jm+LZnXvwM83SEhkIfhoIIz7jsDQ0SNhGxeGOgP6gZv8m6IGy6HfYWYH47xLsmTB2P+nBnr1sym87SUfwfyRSxDxySqsHmxZ6Ht4+1ARGaCykQb09LSFvb5ClHofo3T9E9eht+u5vXpWPskQtGYpfo0vbXCVhpP7jiJBrQk6dTZ5sZC1W6BTq0qQXj6Mw+FFnVCXISrqIRTqlqhXVx3398/HhAWbsd9vHSZ/8jlWBqv2Ilg5ZdDbCWMsA7Dgs6H48cxZ+Mz2hcnS1RitPEAg0rGpjQceE7AiIP+9Oik47zYBq+Nqw0a8pL0k0tBQhOlVRpV8/anE2AQG4cG4kSV0vuEnsOdwAILO74LbxmxM9JyEetz3FkMP+s8OykgRufdnRA7YBo9PjcS8ghT3dsJjawSserZC/PpZmDJ9ATx8rxS890bHBrUfeGDCioAC92KmnHfDhNVxqF36wkZomB4qFyxsmBiEIzi3sHFiz2EEBJ3HLreNyJ7oiUlc2C9FL68SQBq5Fz9HDsA2j09ReC0wQG+nMbAMWIDPhv6IM2d9MNvXBEtXj0Zek9eBTe0H8JiwAgWb/Hm4TViNuNo24r2TJZEiNDQMepWr5AsMJDA2MUB48A3h31kIP7EHhwOCcH6XGzZmT4TnpHqFBxrsNVCDoZFhge28LHg//pD0Qv+GhT3PT4F7Oz2wNcIKPVvFY/2sKZi+wAO+V5ILXErN2wdWnNL0T1yH3i4O8Mopxe2dmP7VF/jii0Ho16MNertfKf566PzkD3E3Mh2kUw01qxVWyzVRvbop1BT3EBaeP1CT4cnjRMRFXsdx74kYvTYCH0z5H2Y0v4lN3/8J436j4DBkGpY6tYHaEz6TV64ZdcPyw9sxXOcwJtvZY4PJTLg7Nip4dMyoLWatnwL5qglw91d2wELHu2wCPDW/wQbn1jDMfVeJstLSIFXXQP5dCYmGkJalIiVVgcqfrcMvTpZQVO4K51VLMMiaHyJcGoqHp+Hp1B0dhnlht/cSeF9IEacUlHj0d5x7og/TSkao13sIBjVLhd+Ezugw5XckPmumRmg7az2myFdhgru/KshLOb8MEzw18c0GZ7QufWEjTaqOAs+BlghlrSFDakoqhMLGul+cYKmojK7Oq7BkkHWBesHKSPEQpz2d0L3DMHjt9sYS7wtCKy2cUbflOLx9OHQOT4ad/QaYzHSHY6OCx8ON2s7C+ilyrJrgjtwmfx7LJnhC85sNcC59JUBamhTqBSuB6uHgslTlt6uMz9b9AidLoe13dcaqJYPATf6/JEPI/j9AH/dHo0LXeyKO/n4OT/RNUcmoHnoPGYRmqX6Y0LkDpvyemPsWJd4+sJKU1D9xHXqrOMArp9RsvsLqnb7w9d2DA4f3YXn/mmU4AirsgCnfrJBDXsQN1jlSGUh4n9Bm8ihicWr9Yixe8ROOxTTGN4eDcG5lb5hrVEE1kwh4jR4Fz3NxMPzECSMbPz1VzsonGaIvX0C6nQu+H1IX4WsGoMfUQ4h5Pi43aoc53lOhWDkKEyeOwToNZ3h/U/qOV6g0kEpzhLqk/C8fUqYVkKtOEKvByKopWjaqBj3ucUpNrUYXTP7xBC7/swb9dE5jsbMXQl444S5DbHQscnTsMM7VAZ2aNoPdiJXwntIAYVtWYeeD/AVuhHZzvDFVsRKjJk7EmHUacPb+pvTBnUAhlSJHKGihePMRylpIK3ILG2pGVmjashGqcWG/OrUa6DL5R5y4/A/W9NPB6cXO8HqxEuSSRePyhXTYuXyPIXXDsWZAD0w9FFPgrIySUbs58J6qwMpREzFxzDpoOHvjm7JVAkhfrATK+/mVlSA3oWYEq6Yt0aiaHu9k/NdkIdj3hwIf92tS+MEVWSyiY3OgYzcOrg6d0LSZHUas9MaUBmHYsmqn+CYRbx9YcUrTP3Edemt4VbwLdGpj8OzJ6GhYyuJSr4kmtlUhkUYjIqqwnYEMRN5LgELTGrY2mmKeQK0mPp67Bl6eq7F84XR81dEy94yPmhXGem/GKIMjcO7WBO0n7cP9gtt2Vs5I/12KwXNT8PUPszFv21kcd+uAOB8nLPhdeRTtOYYN0clWhsuXc2DbsUEZOl4lNRhUMoRGTk6BUfZISOdIDFCpEncxr0YL1TpMgff3/VHp9nWE5LtnIZcEBob6kCg3ds/25DXQsF0LmMmiEBb5/KXUhmjYyRayy5eRY9sRDcpW2FAzqARDDaFsCxY2cnKE71GpkpjBXjetah0wxft79K90G9dfrAQCKf5dOhhzU77GD7PnYdvZ43DrEAcfpwUovMl3gq3sMi7n2KJj2SsBKhlqCGVeoBII6RxIhPrB3i5ZyD78IeuFfk2LOIsh9MuG+hJVQJ7XZTREuxZmkEWFiRn58PaBlaDE/onr0FvBa+Ydod24FT58ej9rcR7/g90HH6HrkAGoQyE4cTTqxWFr007jZEAmjLo5oH/NUlQBRQIeqNlj1ZlrOLW2HxR+4zDI9WyBxsbKEznCj/2F0BofoKm+Ml0ZbZy94Nw6ERf976jekScF55Y7wcd0oVBX5kN37Ti4FXEpYFF0GtqidvojJOaLJeSPEvC4Zn3U1xUz2CupZG2NGtVqoMYL+2zqqNGiKSwUD3AvOl8B6OpCW90YpqYFz/unnFsOJx9TLDxxFPN112KcW9GX/BVKpyFsa6fjUcHCRsLjmqjPhf1mVbKGdY1qqPFiJRDKIBzH/gpFjQ+aIrfJt4GzlzNaJ16E/53ngvyUc1ju5APThSdwdL4u1o5zQ9mavA4a2tZG+qNE5M1ZjkcJj1Gzfn0xzd4OGUL3/QGpfT8UFd9BvQZaNLWA4sE9FOwytKFubCqmnuLtAyulIvsnrkNvCwd45U42cpQ328lyir7nTipXbVhVl8TkJ7uH/XOXw1/fHPpdXbBmfB1cXrsI+x/mD/GExub+Aw5IeuH7FSNgqaoBJCxOOUeZsOxCTs3JbmKb9x9IUjdH+wne+MW5KRKjY0p/TyB7jXIgUzx3qYJSRjB8PTxx/J6yrNVhXscK+pHBuK58MIySRBs62vqwqmshZigpb3aeBB/DOVg/pTkMlNfLeztDfc04LDtfRAesPFP0XL3TaDYQ/a3DcS34acgv7GQE3YXFp5+jNV/J+xKkiA+PyLcxk+PuqWuoNmok2qnWZwaCfT3gefye6uCNdkdHDG10Bwf33hAPuigQH3oTqc364bP6eQGeckCVST6GmLN+CpobKO/J84az+hqMW3a+iCAvt6wLlLZGMwzsb43wa8HPDvDIQoNw1+JTfM6F/VpJ48MRkW+PRn73FK5VG4WRuZVAaPK+8PA8jtwmb446VvqIDL6uehaUkkRbB9r6VqhrkW8zrxxQZZIPDOesx5TmBqp78ryd1bFm3DIU3eSV9UBMqGig2cD+sA6/hrwmH4qguxb49PPWYgZ7K4Ry2PtHFuz7NS/4fNwC2wdtdHQcikZ3DmLvDbEAFfEIvZmKZv0+y02r8PahosqRKZ5r0/mVZh+j5P4pF9eht0pYkayckCcH0X53B2qoLSGJflNy9NhHV5PynmyjfDZR8tW9tOzLhqQtkZCetR0NGjKMhg0bQl8OsKdWloakYfo17Xn6aBJ5DJ1a6UjdOn1K4108aN2qxTSlfxtq1Xc2+d54+nC8dAo97EHDPtAjiUSPPhi+gnwvxuZ7no4g+xTNatOKhrrtoqPHdpHLMEdae6W4p7C9+8rjc/DkyTfp5LZZ1MVYjTRtHWn9gQCKEosh238uNdY0pI83PMjNyLlLO53sqMPghbT1twO0deFQ+mzMTxSclTtZKeOUG03zuiLUgOek+JPHxB/odL4ilkX+SWsXu9C0PjZkZNyUBs12pSU+pyherCipZ5bQQIeFdCgkikIOLSKH/i50Mil32rugXD0HL+skTbHWJqOGn9EMd0/y9FhMi7xOUezTRpntT3Mba5LhxxvogZiXcXU9ObRsR0PcttPe7UtoaJ/RtDmkQGGT2zQvuvJiYZO/x0T6oWBh059rF5PLtD5kY2RMTQfNJtclPnQqr7BpyUAHWngohKJCDtEih/7k8g4V9rvxHLwsOjnFmrSNGtJnM9zJ09ODFi/yolN5lYD85zYmTcOPaYNYCXLu7iQnuw40eOFW+u3AVlo49DMa81OwMKenMuiU2zTyerESCE3egyb+cDrfc69kFPnnWlrsMo362BiRcdNBNNt1Cfmcihe3Dal0ZslAclh4iEKiQujQIgfq73KS3qEmX6h38zl4eXKCXKlVoxl0Jv8zxAQvbB+EunB1vQO1bDeE3Lbvpe1LhlKf0ZupYJfB24eyKvfPwZMn082T22hWF2NS07Qlx/UHKODpToSg9PsYJfVPubgOvV0S5f/EWI9VWApkPLyB0AcKmFo3QB3jsh7ykEMmU4ckOxZRMTkwrl0LlYu6/KOCCAgIwNSpU1V/3w1yPI5PgbaZSb6RMhXISojArcg06FvZoK7Zmx3wQJ4WicCzV5Fo2hydWljBsPSjAr11jRs3hq+vr+pveaBIv4fgkFioVW+AhpZGLwyWIH8cjxRtM5gUGCQxG4l3byJaUgu21sYFj+C/bvI0RAaexdVEUzTv1AJW71Bhr1y5EtHR0aq/5ZoiHfeCQxCrVh0NGlrC6MVKgPgUbZjlrwSKLCRE3EJkmj6sbOrC7I2OOCBHWmQgzl5NhGnzTmhhZViGgcDKp6SkJFhbWyM5OVnMecekxyA8zQC1qxd8bIKyrF7cPgiyE3H3ZjQktWxhXeb9grJ5l7cPpaWpqYnMzEzV34rnuTpUUv/0BrwPdeh14gCPsUK8ewEeexXlLcBjb847E+Cx/9w7H+Cxt6piB3jsXfMmD+8xxhhjjDHGGPsPcYDHGGOMMcYYYxUEB3iMMcYYY4wxVkG8c/fgpaamIiWliOFVGXtNrly5AldXVxw8eFDMYRVZjx498OOPP8LGxkbMYRXVxo0bERMTAxcXFzGHsVzKfYvOnTvj+vXrYg5jpVe3bl3cunWL78FjJapSpQoMDcv2yPeyeucCPC8vLyxfvlxMMfZmKJuF8qWmxie53wcKhQISiUT1YhUbt21WFK4b7FXI5XKoq/PQjqxkyhMIo0ePFlNvBo+iyRhjjDHGGGMVBB+mYowxxhhjjLEKggM8xhhjjDHGGKsgOMBjjDHGGGOMsQqCAzzGGGOMMcYYqyA4wGOMMcYYY4yxCoIDPMYYY4wxxhirIDjAY4wxxhhjjLEKggM8xhhjjDHGGKsQgP8Du+pYeKK58vwAAAAASUVORK5CYII=)"
   ]
  },
  {
   "cell_type": "markdown",
   "metadata": {
    "id": "Rw0xEpIf9_Z3"
   },
   "source": [
    "## CustomConv2D"
   ]
  },
  {
   "cell_type": "markdown",
   "metadata": {
    "id": "q9X4FfipdJz6"
   },
   "source": [
    "- https://www.tensorflow.org/tutorials/customization/custom_layers"
   ]
  },
  {
   "cell_type": "code",
   "execution_count": null,
   "metadata": {
    "executionInfo": {
     "elapsed": 29,
     "status": "ok",
     "timestamp": 1753377922282,
     "user": {
      "displayName": "monotosh kumar das chandan",
      "userId": "10884027464549225371"
     },
     "user_tz": -120
    },
    "id": "H-3COA-29_pB"
   },
   "outputs": [],
   "source": [
    "class CustomConv2D(Layer):\n",
    "  def __init__(self, n_filters, kernel_size, n_strides, padding = 'valid'):\n",
    "    super(CustomConv2D, self).__init__(name = 'custom_conv2d')\n",
    "\n",
    "    self.conv = Conv2D(\n",
    "        filters = n_filters,\n",
    "        kernel_size = kernel_size,\n",
    "        activation = 'relu',\n",
    "        strides = n_strides,\n",
    "        padding = padding)\n",
    "\n",
    "    self.batch_norm = BatchNormalization()\n",
    "\n",
    "  def call(self, x, training = True):\n",
    "\n",
    "    x = self.conv(x)\n",
    "    x = self.batch_norm(x, training=training)\n",
    "\n",
    "    return x"
   ]
  },
  {
   "cell_type": "markdown",
   "metadata": {
    "id": "wCVyEBaN9_7R"
   },
   "source": [
    "## Residual Block"
   ]
  },
  {
   "cell_type": "markdown",
   "metadata": {
    "id": "m5pvbPS0d1xi"
   },
   "source": [
    "- https://www.tensorflow.org/api_docs/python/tfm/vision/layers/ResidualBlock?hl=en#methods"
   ]
  },
  {
   "cell_type": "code",
   "execution_count": null,
   "metadata": {
    "executionInfo": {
     "elapsed": 29,
     "status": "ok",
     "timestamp": 1753378058773,
     "user": {
      "displayName": "monotosh kumar das chandan",
      "userId": "10884027464549225371"
     },
     "user_tz": -120
    },
    "id": "ighoZ9Fn-AJI"
   },
   "outputs": [],
   "source": [
    "class ResidualBlock(Layer):\n",
    "  def __init__(self, n_channels, n_strides = 1):\n",
    "    super(ResidualBlock, self).__init__(name = 'res_block')\n",
    "\n",
    "    self.dotted = (n_strides != 1)\n",
    "\n",
    "    # padding - height and width features of an image doesn't change\n",
    "    self.custom_conv_1 = CustomConv2D(n_channels, 3, n_strides, padding = \"same\")\n",
    "    self.custom_conv_2 = CustomConv2D(n_channels, 3, 1, padding = \"same\")\n",
    "\n",
    "    self.activation = Activation('relu')\n",
    "\n",
    "    if self.dotted:\n",
    "      self.custom_conv_3 = CustomConv2D(n_channels, 1, n_strides)\n",
    "\n",
    "  def call(self, input, training):\n",
    "\n",
    "    x = self.custom_conv_1(input, training=training)\n",
    "    x = self.custom_conv_2(x, training=training)\n",
    "\n",
    "    if self.dotted:\n",
    "      x_add = self.custom_conv_3(input, training=training)\n",
    "      x_add = Add()([x, x_add])\n",
    "    else:\n",
    "      x_add = Add()([x, input])\n",
    "\n",
    "    return self.activation(x_add)"
   ]
  },
  {
   "cell_type": "markdown",
   "metadata": {
    "id": "XDgaApVl9ziR"
   },
   "source": [
    "## ResNet34 Architructute from paper\n",
    "\n",
    "- model subclassing"
   ]
  },
  {
   "cell_type": "code",
   "execution_count": null,
   "metadata": {
    "executionInfo": {
     "elapsed": 20,
     "status": "ok",
     "timestamp": 1753378061831,
     "user": {
      "displayName": "monotosh kumar das chandan",
      "userId": "10884027464549225371"
     },
     "user_tz": -120
    },
    "id": "xO3sSaJ1J-Zn"
   },
   "outputs": [],
   "source": [
    "class ResNet34(Model):\n",
    "  def __init__(self,):\n",
    "    super(ResNet34, self).__init__(name = 'resnet_34')\n",
    "\n",
    "    self.conv_1 = CustomConv2D(64, 7, 2, padding = 'same')\n",
    "    self.max_pool = MaxPooling2D(3,2)\n",
    "\n",
    "    self.conv_2_1 = ResidualBlock(64)\n",
    "    self.conv_2_2 = ResidualBlock(64)\n",
    "    self.conv_2_3 = ResidualBlock(64)\n",
    "\n",
    "    self.conv_3_1 = ResidualBlock(128, 2) # stride 2 - downsampling\n",
    "    self.conv_3_2 = ResidualBlock(128)\n",
    "    self.conv_3_3 = ResidualBlock(128)\n",
    "    self.conv_3_4 = ResidualBlock(128)\n",
    "\n",
    "    self.conv_4_1 = ResidualBlock(256, 2) # down sampling\n",
    "    self.conv_4_2 = ResidualBlock(256)\n",
    "    self.conv_4_3 = ResidualBlock(256)\n",
    "    self.conv_4_4 = ResidualBlock(256)\n",
    "    self.conv_4_5 = ResidualBlock(256)\n",
    "    self.conv_4_6 = ResidualBlock(256)\n",
    "\n",
    "    self.conv_5_1 = ResidualBlock(512, 2)\n",
    "    self.conv_5_2 = ResidualBlock(512)\n",
    "    self.conv_5_3 = ResidualBlock(512)\n",
    "\n",
    "    self.global_pool = GlobalAveragePooling2D()\n",
    "\n",
    "    self.fc_3 = Dense(CONFIGURATION[\"NUM_CLASSES\"], activation = 'softmax')\n",
    "\n",
    "  def call(self, x, training = True):\n",
    "    x = self.conv_1(x)\n",
    "    x = self.max_pool(x)\n",
    "\n",
    "    x = self.conv_2_1(x, training=training)\n",
    "    x = self.conv_2_2(x, training=training)\n",
    "    x = self.conv_2_3(x, training=training)\n",
    "\n",
    "    x = self.conv_3_1(x, training=training)\n",
    "    x = self.conv_3_2(x, training=training)\n",
    "    x = self.conv_3_3(x, training=training)\n",
    "    x = self.conv_3_4(x, training=training)\n",
    "\n",
    "    x = self.conv_4_1(x, training=training)\n",
    "    x = self.conv_4_2(x, training=training)\n",
    "    x = self.conv_4_3(x, training=training)\n",
    "    x = self.conv_4_4(x, training=training)\n",
    "    x = self.conv_4_5(x, training=training)\n",
    "    x = self.conv_4_6(x, training=training)\n",
    "\n",
    "    x = self.conv_5_1(x, training=training)\n",
    "    x = self.conv_5_2(x, training=training)\n",
    "    x = self.conv_5_3(x, training=training)\n",
    "\n",
    "    x = self.global_pool(x)\n",
    "\n",
    "    return self.fc_3(x)"
   ]
  },
  {
   "cell_type": "code",
   "execution_count": null,
   "metadata": {
    "colab": {
     "base_uri": "https://localhost:8080/",
     "height": 802
    },
    "executionInfo": {
     "elapsed": 5921,
     "status": "ok",
     "timestamp": 1753378165131,
     "user": {
      "displayName": "monotosh kumar das chandan",
      "userId": "10884027464549225371"
     },
     "user_tz": -120
    },
    "id": "HtjGJZQABdHD",
    "outputId": "33b61a1f-6578-46c7-c024-6e9e66f2a516"
   },
   "outputs": [],
   "source": [
    "resnet = ResNet34()\n",
    "resnet(tf.zeros([1, 256, 256, 3]), training = False)\n",
    "resnet.summary()"
   ]
  },
  {
   "cell_type": "markdown",
   "metadata": {
    "id": "y-0XJVoUK6wA"
   },
   "source": [
    "[ModelCheckpoint](https://www.tensorflow.org/api_docs/python/tf/keras/callbacks/ModelCheckpoint)"
   ]
  },
  {
   "cell_type": "code",
   "execution_count": null,
   "metadata": {
    "executionInfo": {
     "elapsed": 41,
     "status": "ok",
     "timestamp": 1753376920275,
     "user": {
      "displayName": "monotosh kumar das chandan",
      "userId": "10884027464549225371"
     },
     "user_tz": -120
    },
    "id": "oA1bc67mCIzv"
   },
   "outputs": [],
   "source": [
    "checkpoint_callback = ModelCheckpoint(\n",
    "    'weights.{epoch:02d}-{val_loss:.2f}.keras',\n",
    "    monitor='val_accuracy',\n",
    "    verbose=1,\n",
    "    save_best_only=True,\n",
    "    # save_weights_only=False,\n",
    "    # mode='auto',\n",
    "    # save_freq='epoch',\n",
    "    #initial_value_threshold=None\n",
    ")\n",
    "\n",
    "# checkpoint_callback = ModelCheckpoint(\n",
    "#     'best_weights',\n",
    "#     monitor='val_accuracy',\n",
    "#     mode = 'max',\n",
    "#     verbose=1,\n",
    "#     save_best_only=True,\n",
    "\n",
    "#     )"
   ]
  },
  {
   "cell_type": "markdown",
   "metadata": {
    "id": "Xr0XCfDke8n8"
   },
   "source": [
    "## Loss Function"
   ]
  },
  {
   "cell_type": "code",
   "execution_count": null,
   "metadata": {
    "executionInfo": {
     "elapsed": 35,
     "status": "ok",
     "timestamp": 1753389022730,
     "user": {
      "displayName": "monotosh kumar das chandan",
      "userId": "10884027464549225371"
     },
     "user_tz": -120
    },
    "id": "9nzOKlxJBl0u"
   },
   "outputs": [],
   "source": [
    "loss_function = CategoricalCrossentropy()"
   ]
  },
  {
   "cell_type": "markdown",
   "metadata": {
    "id": "PeSP5q4EfBJ4"
   },
   "source": [
    "## Metrics"
   ]
  },
  {
   "cell_type": "code",
   "execution_count": null,
   "metadata": {
    "executionInfo": {
     "elapsed": 24,
     "status": "ok",
     "timestamp": 1753389029098,
     "user": {
      "displayName": "monotosh kumar das chandan",
      "userId": "10884027464549225371"
     },
     "user_tz": -120
    },
    "id": "lFeud1WGfBii"
   },
   "outputs": [],
   "source": [
    "metrics = [CategoricalAccuracy(name = \"accuracy\"), TopKCategoricalAccuracy(k = 2, name=\"top_k_accuracy\")]"
   ]
  },
  {
   "cell_type": "code",
   "execution_count": null,
   "metadata": {
    "id": "vvTKjVlifBo9"
   },
   "outputs": [],
   "source": []
  },
  {
   "cell_type": "markdown",
   "metadata": {
    "id": "ox1FRUt0fB_A"
   },
   "source": [
    "## Model Compile"
   ]
  },
  {
   "cell_type": "code",
   "execution_count": null,
   "metadata": {
    "executionInfo": {
     "elapsed": 31,
     "status": "ok",
     "timestamp": 1753378402556,
     "user": {
      "displayName": "monotosh kumar das chandan",
      "userId": "10884027464549225371"
     },
     "user_tz": -120
    },
    "id": "WqT3bRmhfCgW"
   },
   "outputs": [],
   "source": [
    "resnet.compile(\n",
    "    optimizer = Adam(learning_rate = CONFIGURATION['LEARNING_RATE']*10),\n",
    "    loss = loss_function,\n",
    "    metrics = metrics\n",
    ")"
   ]
  },
  {
   "cell_type": "code",
   "execution_count": null,
   "metadata": {
    "id": "Jx9-OsUqfCnr"
   },
   "outputs": [],
   "source": []
  },
  {
   "cell_type": "code",
   "execution_count": null,
   "metadata": {
    "id": "4ZqSPkgpfCuy"
   },
   "outputs": [],
   "source": []
  },
  {
   "cell_type": "code",
   "execution_count": null,
   "metadata": {
    "id": "qU0V1Ma4fC0D"
   },
   "outputs": [],
   "source": []
  },
  {
   "cell_type": "markdown",
   "metadata": {
    "id": "W07N9O0afLvY"
   },
   "source": [
    "## Fit"
   ]
  },
  {
   "cell_type": "code",
   "execution_count": null,
   "metadata": {
    "colab": {
     "base_uri": "https://localhost:8080/"
    },
    "collapsed": true,
    "executionInfo": {
     "elapsed": 4641350,
     "status": "ok",
     "timestamp": 1753383474292,
     "user": {
      "displayName": "monotosh kumar das chandan",
      "userId": "10884027464549225371"
     },
     "user_tz": -120
    },
    "id": "0Zwd8p_-fMGa",
    "outputId": "f9fcae06-86d9-4b7c-9788-64432d50497a"
   },
   "outputs": [],
   "source": [
    "history = resnet.fit(\n",
    "                    training_dataset,\n",
    "                     validation_data = val_dataset,\n",
    "                     epochs = 20*3,\n",
    "                     callbacks = [checkpoint_callback]\n",
    "                     )"
   ]
  },
  {
   "cell_type": "code",
   "execution_count": null,
   "metadata": {
    "id": "dYr9YVamrg4W"
   },
   "outputs": [],
   "source": []
  },
  {
   "cell_type": "code",
   "execution_count": null,
   "metadata": {
    "id": "5_iBA0ZRrhOG"
   },
   "outputs": [],
   "source": []
  },
  {
   "cell_type": "code",
   "execution_count": null,
   "metadata": {
    "id": "9VWw4KF9rhei"
   },
   "outputs": [],
   "source": []
  },
  {
   "cell_type": "code",
   "execution_count": null,
   "metadata": {
    "id": "GmXTsaVPrhwY"
   },
   "outputs": [],
   "source": []
  },
  {
   "cell_type": "markdown",
   "metadata": {
    "id": "0LbFH2F7hR_U"
   },
   "source": [
    "## Plot"
   ]
  },
  {
   "cell_type": "code",
   "execution_count": null,
   "metadata": {
    "colab": {
     "base_uri": "https://localhost:8080/",
     "height": 472
    },
    "executionInfo": {
     "elapsed": 340,
     "status": "ok",
     "timestamp": 1753384009480,
     "user": {
      "displayName": "monotosh kumar das chandan",
      "userId": "10884027464549225371"
     },
     "user_tz": -120
    },
    "id": "xt_hYIv3fMNX",
    "outputId": "3e25abe5-355d-45d5-bfb3-84141a09ea39"
   },
   "outputs": [],
   "source": [
    "plot_accuracy(history)"
   ]
  },
  {
   "cell_type": "code",
   "execution_count": null,
   "metadata": {
    "colab": {
     "base_uri": "https://localhost:8080/",
     "height": 472
    },
    "executionInfo": {
     "elapsed": 219,
     "status": "ok",
     "timestamp": 1753384016913,
     "user": {
      "displayName": "monotosh kumar das chandan",
      "userId": "10884027464549225371"
     },
     "user_tz": -120
    },
    "id": "IY9NN6OsfMSv",
    "outputId": "275e81ad-2b1c-4b98-b69e-4134b29d1871"
   },
   "outputs": [],
   "source": [
    "plot_loss(history)"
   ]
  },
  {
   "cell_type": "markdown",
   "metadata": {
    "id": "kXpcuk6zh7xP"
   },
   "source": [
    "## Evaluate the model"
   ]
  },
  {
   "cell_type": "code",
   "execution_count": null,
   "metadata": {
    "colab": {
     "base_uri": "https://localhost:8080/"
    },
    "executionInfo": {
     "elapsed": 5130,
     "status": "ok",
     "timestamp": 1753389951156,
     "user": {
      "displayName": "monotosh kumar das chandan",
      "userId": "10884027464549225371"
     },
     "user_tz": -120
    },
    "id": "V-7PkLQEfMY9",
    "outputId": "92426438-2a09-40d9-a41b-e624e0527941"
   },
   "outputs": [],
   "source": [
    "resnet.evaluate(val_dataset)"
   ]
  },
  {
   "cell_type": "code",
   "execution_count": null,
   "metadata": {
    "colab": {
     "base_uri": "https://localhost:8080/",
     "height": 1000
    },
    "executionInfo": {
     "elapsed": 5977,
     "status": "ok",
     "timestamp": 1753390207086,
     "user": {
      "displayName": "monotosh kumar das chandan",
      "userId": "10884027464549225371"
     },
     "user_tz": -120
    },
    "id": "fsxA4PAirkJ-",
    "outputId": "9b0e3af4-a5c4-4c9b-b1a7-0d5bd1e6bfe1"
   },
   "outputs": [],
   "source": [
    "test_model(resnet, val_dataset)"
   ]
  },
  {
   "cell_type": "markdown",
   "metadata": {
    "id": "THKGGim4O3Ih"
   },
   "source": [
    "- Test My Image\n"
   ]
  },
  {
   "cell_type": "code",
   "execution_count": null,
   "metadata": {
    "id": "9FvA9RXTkAly"
   },
   "outputs": [],
   "source": [
    "# def test_model(model, val_dataset):\n",
    "#   plt.figure(figsize = (12,12))\n",
    "\n",
    "#   for images, labels in val_dataset.take(1):\n",
    "#     for i in range(16):\n",
    "#       ax = plt.subplot(4,4, i+1)\n",
    "#       plt.imshow(images[i]/255.)\n",
    "#       plt.title(\"True Label: \"+ CONFIGURATION[\"CLASS_NAMES\"][tf.argmax(labels[i], axis = 0).numpy()] + \"\\n\" + \"Predicted Label: \" + CONFIGURATION[\"CLASS_NAMES\"][tf.argmax(model(tf.expand_dims(images[i], axis = 0)), axis = -1).numpy()[0]]) # label_mode = categorical\n",
    "#       # plt.title(CONFIGURATION[\"CLASS_NAMES\"][labels[i].numpy()]) # label_mod = integer\n",
    "#       plt.axis(\"off\")"
   ]
  },
  {
   "cell_type": "code",
   "execution_count": null,
   "metadata": {
    "colab": {
     "base_uri": "https://localhost:8080/"
    },
    "executionInfo": {
     "elapsed": 213,
     "status": "ok",
     "timestamp": 1753396374999,
     "user": {
      "displayName": "monotosh kumar das chandan",
      "userId": "10884027464549225371"
     },
     "user_tz": -120
    },
    "id": "YwfYYLeCrlVX",
    "outputId": "d7a42662-8468-438d-e8a0-f414caf1c96a"
   },
   "outputs": [],
   "source": [
    "test_image_1 = cv2.imread(\"/content/dataset/happy.jpeg\")\n",
    "test_image_2 = cv2.imread(\"/content/dataset/sad.jpeg\")\n",
    "test_image_3 = cv2.imread(\"/content/dataset/angry.jpeg\")\n",
    "\n",
    "im_1 = tf.constant(test_image_1, dtype=tf.float32)\n",
    "im_1 = tf.expand_dims(im_1, axis = 0)\n",
    "\n",
    "im_2 = tf.constant(test_image_2, dtype=tf.float32)\n",
    "im_2 = tf.expand_dims(im_2, axis = 0) # add batch\n",
    "\n",
    "im_3 = tf.constant(test_image_3, dtype=tf.float32)\n",
    "im_3 = tf.expand_dims(im_3, axis = 0)\n",
    "\n",
    "# dataset = tf.constant([im_1, im_2, im_3])\n",
    "\n",
    "# [angry, happy, sad]\n",
    "\n",
    "# print(CONFIGURATION[\"CLASS_NAMES\"][tf.argmax(resnet(im_2), axis = -1).numpy()[0]])"
   ]
  },
  {
   "cell_type": "code",
   "execution_count": null,
   "metadata": {
    "colab": {
     "base_uri": "https://localhost:8080/",
     "height": 304
    },
    "executionInfo": {
     "elapsed": 2683,
     "status": "ok",
     "timestamp": 1753397043764,
     "user": {
      "displayName": "monotosh kumar das chandan",
      "userId": "10884027464549225371"
     },
     "user_tz": -120
    },
    "id": "xLHWUaj5kR55",
    "outputId": "58898e39-2d44-4bb9-b70a-ff9a2a729ae2"
   },
   "outputs": [],
   "source": [
    "image_paths = [\n",
    "    (\"/content/dataset/happy.jpeg\", \"Happy\"),\n",
    "    (\"/content/dataset/sad.jpeg\", \"Sad\"),\n",
    "    (\"/content/dataset/angry.jpeg\", \"Angry\")\n",
    "]\n",
    "plt.figure(figsize=(12, 4))\n",
    "\n",
    "for idx, (img_path, label) in enumerate(image_paths):\n",
    "    img = cv2.imread(img_path)\n",
    "    img_rgb = cv2.cvtColor(img, cv2.COLOR_BGR2RGB)  # Convert BGR to RGB for matplotlib\n",
    "    img_tensor = tf.constant(img_rgb, dtype=tf.float32)\n",
    "    img_tensor = tf.image.resize(img_tensor, (256, 256))  # Resize if needed\n",
    "    img_tensor = tf.expand_dims(img_tensor, axis=0)\n",
    "\n",
    "    pred = tf.argmax(resnet(img_tensor), axis=-1).numpy()[0]\n",
    "    pred_label = CONFIGURATION[\"CLASS_NAMES\"][pred]\n",
    "\n",
    "    # Plot\n",
    "    plt.subplot(1, 3, idx + 1)\n",
    "    plt.imshow(img_rgb / 255.)\n",
    "    plt.axis('off')\n",
    "    plt.title(f\"Predicted: {pred_label}\")\n",
    "\n",
    "plt.tight_layout()\n",
    "plt.show()"
   ]
  },
  {
   "cell_type": "code",
   "execution_count": null,
   "metadata": {
    "executionInfo": {
     "elapsed": 19,
     "status": "ok",
     "timestamp": 1753390953677,
     "user": {
      "displayName": "monotosh kumar das chandan",
      "userId": "10884027464549225371"
     },
     "user_tz": -120
    },
    "id": "wTUngnFFPPcM"
   },
   "outputs": [],
   "source": [
    "# im_2"
   ]
  },
  {
   "cell_type": "code",
   "execution_count": null,
   "metadata": {
    "executionInfo": {
     "elapsed": 15547,
     "status": "ok",
     "timestamp": 1753392997926,
     "user": {
      "displayName": "monotosh kumar das chandan",
      "userId": "10884027464549225371"
     },
     "user_tz": -120
    },
    "id": "DyXi9iXqrlpH"
   },
   "outputs": [],
   "source": [
    "#def confusion_matrix(val_dataset, model):\n",
    "predicted = []\n",
    "labels = []\n",
    "\n",
    "for im, label in val_dataset:\n",
    "  predicted.append(resnet(im))\n",
    "  labels.append(label.numpy())\n",
    "\n"
   ]
  },
  {
   "cell_type": "code",
   "execution_count": null,
   "metadata": {
    "colab": {
     "base_uri": "https://localhost:8080/"
    },
    "collapsed": true,
    "executionInfo": {
     "elapsed": 65,
     "status": "ok",
     "timestamp": 1753392473939,
     "user": {
      "displayName": "monotosh kumar das chandan",
      "userId": "10884027464549225371"
     },
     "user_tz": -120
    },
    "id": "SNyywXA8UnGD",
    "outputId": "517c6f78-b90b-4c27-c64d-6cf6f9ae328c"
   },
   "outputs": [],
   "source": [
    "print(labels)"
   ]
  },
  {
   "cell_type": "code",
   "execution_count": null,
   "metadata": {
    "collapsed": true,
    "executionInfo": {
     "elapsed": 7,
     "status": "ok",
     "timestamp": 1753393029147,
     "user": {
      "displayName": "monotosh kumar das chandan",
      "userId": "10884027464549225371"
     },
     "user_tz": -120
    },
    "id": "HBFMsdkOS-1z"
   },
   "outputs": [],
   "source": [
    "# ValueError: setting an array element with a sequence. The requested array has an inhomogeneous shape after 1 dimensions. The detected shape was (72,) + inhomogeneous part. [BATCH MISMATCH]\n",
    "predicted_1 = np.argmax(predicted[:-1], axis = -1).flatten()\n",
    "labels_1 = np.argmax(labels[:-1], axis = -1).flatten()\n",
    "predicted_2 = np.argmax(predicted[-1], axis = -1).flatten()\n",
    "labels_2 = np.argmax(labels[-1], axis = -1).flatten()\n",
    "\n",
    "concat_pred = np.concatenate((predicted_1, predicted_2))\n",
    "concat_labels = np.concatenate((labels_1, labels_2))"
   ]
  },
  {
   "cell_type": "code",
   "execution_count": null,
   "metadata": {
    "colab": {
     "base_uri": "https://localhost:8080/"
    },
    "executionInfo": {
     "elapsed": 73,
     "status": "ok",
     "timestamp": 1753393132267,
     "user": {
      "displayName": "monotosh kumar das chandan",
      "userId": "10884027464549225371"
     },
     "user_tz": -120
    },
    "id": "TzImiljKXSEx",
    "outputId": "1678bc27-2e4f-4c8a-abc4-15669116119b"
   },
   "outputs": [],
   "source": [
    "print(predicted_1.shape)\n",
    "print(labels_1.shape)\n",
    "print(predicted_2.shape)\n",
    "print(labels_2.shape)\n",
    "\n",
    "print(type(concat_pred))\n",
    "print(type(concat_labels))"
   ]
  },
  {
   "cell_type": "code",
   "execution_count": null,
   "metadata": {
    "colab": {
     "base_uri": "https://localhost:8080/"
    },
    "executionInfo": {
     "elapsed": 40,
     "status": "ok",
     "timestamp": 1753392752808,
     "user": {
      "displayName": "monotosh kumar das chandan",
      "userId": "10884027464549225371"
     },
     "user_tz": -120
    },
    "id": "w-E3CnxDS0Vc",
    "outputId": "742eaf2d-8fe1-415e-ba43-069f9f41718c"
   },
   "outputs": [],
   "source": [
    "# batch mismatch in last batch so concat last batch with previous all batches\n",
    "# pred = np.concatenate((np.argmax(predicted[:-1], axis = -1).flatten(), np.argmax(predicted[-1], axis = -1).flatten()))\n",
    "# labels = np.concatenate((np.argmax(labels[:-1], axis = -1).flatten(), np.argmax(labels[-1], axis = -1).flatten()))\n",
    "\n",
    "# print(pred)\n",
    "# print(labels)"
   ]
  },
  {
   "cell_type": "code",
   "execution_count": null,
   "metadata": {
    "id": "9wyKbaDQS8Rn"
   },
   "outputs": [],
   "source": []
  },
  {
   "cell_type": "code",
   "execution_count": null,
   "metadata": {
    "executionInfo": {
     "elapsed": 55,
     "status": "ok",
     "timestamp": 1753393326941,
     "user": {
      "displayName": "monotosh kumar das chandan",
      "userId": "10884027464549225371"
     },
     "user_tz": -120
    },
    "id": "hD2_3--zrl9e"
   },
   "outputs": [],
   "source": [
    "cm = confusion_matrix(concat_labels, concat_pred)\n",
    "print(cm)\n",
    "plt.figure(figsize=(8,8))\n",
    "\n",
    "sns.heatmap(cm, annot=True,)\n",
    "plt.title('Confusion matrix')\n",
    "plt.ylabel('Actual')\n",
    "plt.xlabel('Predicted')"
   ]
  },
  {
   "cell_type": "markdown",
   "metadata": {
    "id": "PwI9yi9nY4MP"
   },
   "source": [
    "# MobileNet"
   ]
  },
  {
   "cell_type": "code",
   "execution_count": null,
   "metadata": {
    "id": "NvjIxly7TxFT"
   },
   "outputs": [],
   "source": []
  }
 ],
 "metadata": {
  "accelerator": "GPU",
  "colab": {
   "authorship_tag": "ABX9TyOFxF1JSQeopImQXa1YTIBK",
   "gpuType": "T4",
   "provenance": [],
   "toc_visible": true
  },
  "kernelspec": {
   "display_name": "Python 3",
   "name": "python3"
  },
  "language_info": {
   "name": "python"
  }
 },
 "nbformat": 4,
 "nbformat_minor": 0
}
